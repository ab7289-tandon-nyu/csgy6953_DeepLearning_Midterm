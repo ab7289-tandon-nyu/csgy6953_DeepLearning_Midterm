{
  "cells": [
    {
      "cell_type": "markdown",
      "metadata": {
        "colab_type": "text",
        "id": "view-in-github"
      },
      "source": [
        "<a href=\"https://colab.research.google.com/github/ab7289-tandon-nyu/csgy6953_DeepLearning_Midterm/blob/oscar1/install_from_team_github.ipynb\" target=\"_parent\"><img src=\"https://colab.research.google.com/assets/colab-badge.svg\" alt=\"Open In Colab\"/></a>"
      ]
    },
    {
      "cell_type": "markdown",
      "metadata": {
        "id": "EYM_OmAa1bOi"
      },
      "source": [
        "# Install from a particular branch"
      ]
    },
    {
      "cell_type": "markdown",
      "metadata": {
        "id": "j2WZQgKe1e0E"
      },
      "source": [
        "source: main branch > notebooks > alex.ipynb\n",
        "\n",
        "`!git clone -b alex_dev \"https://github.com/ab7289-tandon-nyu/csgy6953_DeepLearning_Midterm.git\"`"
      ]
    },
    {
      "cell_type": "code",
      "execution_count": null,
      "metadata": {},
      "outputs": [],
      "source": [
        "!rm -r /content/csgy6953_DeepLearning_Midterm/"
      ]
    },
    {
      "cell_type": "code",
      "execution_count": 1,
      "metadata": {
        "colab": {
          "base_uri": "https://localhost:8080/"
        },
        "id": "TPuGKZDO1eSM",
        "outputId": "b99f0f7c-d15a-45c5-c569-7274cc04b7b0"
      },
      "outputs": [
        {
          "name": "stdout",
          "output_type": "stream",
          "text": [
            "Cloning into 'csgy6953_DeepLearning_Midterm'...\n",
            "fatal: Remote branch alex_dev not found in upstream origin\n"
          ]
        }
      ],
      "source": [
        "!git clone -b alex_dev \"https://github.com/ab7289-tandon-nyu/csgy6953_DeepLearning_Midterm.git\""
      ]
    },
    {
      "cell_type": "code",
      "execution_count": 2,
      "metadata": {
        "colab": {
          "base_uri": "https://localhost:8080/"
        },
        "id": "whhQjDUv1UYg",
        "outputId": "815dc33b-ce0c-4a16-ce23-d452260ef374"
      },
      "outputs": [
        {
          "name": "stdout",
          "output_type": "stream",
          "text": [
            "Cloning into 'csgy6953_DeepLearning_Midterm'...\n",
            "remote: Enumerating objects: 129, done.\u001b[K\n",
            "remote: Counting objects: 100% (129/129), done.\u001b[K\n",
            "remote: Compressing objects: 100% (83/83), done.\u001b[K\n",
            "remote: Total 129 (delta 72), reused 90 (delta 40), pack-reused 0\u001b[K\n",
            "Receiving objects: 100% (129/129), 36.07 KiB | 6.01 MiB/s, done.\n",
            "Resolving deltas: 100% (72/72), done.\n"
          ]
        }
      ],
      "source": [
        "!git clone -b alex \"https://github.com/ab7289-tandon-nyu/csgy6953_DeepLearning_Midterm.git\""
      ]
    },
    {
      "cell_type": "code",
      "execution_count": 3,
      "metadata": {
        "id": "XLW8KFbU1rch"
      },
      "outputs": [],
      "source": [
        "!cp -r /content/csgy6953_DeepLearning_Midterm/src/ ."
      ]
    },
    {
      "cell_type": "code",
      "execution_count": null,
      "metadata": {
        "id": "W0gULTRJ1v7o"
      },
      "outputs": [],
      "source": []
    }
  ],
  "metadata": {
    "colab": {
      "authorship_tag": "ABX9TyM0XSH8KdDEJJCsc6Dg0MbN",
      "include_colab_link": true,
      "provenance": [],
      "toc_visible": true
    },
    "kernelspec": {
      "display_name": "Python 3.7.4 32-bit",
      "language": "python",
      "name": "python3"
    },
    "language_info": {
      "name": "python",
      "version": "3.7.4"
    },
    "vscode": {
      "interpreter": {
        "hash": "2e8299d72dfe468fd613ffad4039e402b7a97d3c9e4e820f9c8d9bd7574a5870"
      }
    }
  },
  "nbformat": 4,
  "nbformat_minor": 0
}
