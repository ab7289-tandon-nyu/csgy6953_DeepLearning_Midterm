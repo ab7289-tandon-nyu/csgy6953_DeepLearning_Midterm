{
  "cells": [
    {
      "cell_type": "code",
      "execution_count": 1,
      "metadata": {
        "colab": {
          "base_uri": "https://localhost:8080/"
        },
        "id": "p5a2OcE_GwrT",
        "outputId": "4904f2e5-374b-4622-9316-4dc9d615aca1"
      },
      "outputs": [
        {
          "output_type": "stream",
          "name": "stdout",
          "text": [
            "Looking in indexes: https://pypi.org/simple, https://us-python.pkg.dev/colab-wheels/public/simple/\n",
            "Collecting git+https://github.com/ab7289-tandon-nyu/csgy6953_DeepLearning_Midterm.git\n",
            "  Cloning https://github.com/ab7289-tandon-nyu/csgy6953_DeepLearning_Midterm.git to /tmp/pip-req-build-48ev9m93\n",
            "  Running command git clone -q https://github.com/ab7289-tandon-nyu/csgy6953_DeepLearning_Midterm.git /tmp/pip-req-build-48ev9m93\n",
            "  Installing build dependencies ... \u001b[?25l\u001b[?25hdone\n",
            "  Getting requirements to build wheel ... \u001b[?25l\u001b[?25hdone\n",
            "    Preparing wheel metadata ... \u001b[?25l\u001b[?25hdone\n",
            "Requirement already satisfied: jupyter in /usr/local/lib/python3.7/dist-packages (from ResNetSrc==0.0.1.dev0) (1.0.0)\n",
            "Requirement already satisfied: matplotlib in /usr/local/lib/python3.7/dist-packages (from ResNetSrc==0.0.1.dev0) (3.2.2)\n",
            "Requirement already satisfied: torchvision in /usr/local/lib/python3.7/dist-packages (from ResNetSrc==0.0.1.dev0) (0.13.1+cu113)\n",
            "Requirement already satisfied: torch in /usr/local/lib/python3.7/dist-packages (from ResNetSrc==0.0.1.dev0) (1.12.1+cu113)\n",
            "Requirement already satisfied: notebook in /usr/local/lib/python3.7/dist-packages (from ResNetSrc==0.0.1.dev0) (5.5.0)\n",
            "Requirement already satisfied: torch-summary in /usr/local/lib/python3.7/dist-packages (from ResNetSrc==0.0.1.dev0) (1.4.5)\n",
            "Requirement already satisfied: nbconvert in /usr/local/lib/python3.7/dist-packages (from jupyter->ResNetSrc==0.0.1.dev0) (5.6.1)\n",
            "Requirement already satisfied: ipywidgets in /usr/local/lib/python3.7/dist-packages (from jupyter->ResNetSrc==0.0.1.dev0) (7.7.1)\n",
            "Requirement already satisfied: jupyter-console in /usr/local/lib/python3.7/dist-packages (from jupyter->ResNetSrc==0.0.1.dev0) (6.1.0)\n",
            "Requirement already satisfied: qtconsole in /usr/local/lib/python3.7/dist-packages (from jupyter->ResNetSrc==0.0.1.dev0) (5.4.0)\n",
            "Requirement already satisfied: ipykernel in /usr/local/lib/python3.7/dist-packages (from jupyter->ResNetSrc==0.0.1.dev0) (5.3.4)\n",
            "Requirement already satisfied: ipython>=5.0.0 in /usr/local/lib/python3.7/dist-packages (from ipykernel->jupyter->ResNetSrc==0.0.1.dev0) (7.9.0)\n",
            "Requirement already satisfied: jupyter-client in /usr/local/lib/python3.7/dist-packages (from ipykernel->jupyter->ResNetSrc==0.0.1.dev0) (6.1.12)\n",
            "Requirement already satisfied: traitlets>=4.1.0 in /usr/local/lib/python3.7/dist-packages (from ipykernel->jupyter->ResNetSrc==0.0.1.dev0) (5.1.1)\n",
            "Requirement already satisfied: tornado>=4.2 in /usr/local/lib/python3.7/dist-packages (from ipykernel->jupyter->ResNetSrc==0.0.1.dev0) (5.1.1)\n",
            "Requirement already satisfied: pickleshare in /usr/local/lib/python3.7/dist-packages (from ipython>=5.0.0->ipykernel->jupyter->ResNetSrc==0.0.1.dev0) (0.7.5)\n",
            "Requirement already satisfied: prompt-toolkit<2.1.0,>=2.0.0 in /usr/local/lib/python3.7/dist-packages (from ipython>=5.0.0->ipykernel->jupyter->ResNetSrc==0.0.1.dev0) (2.0.10)\n",
            "Requirement already satisfied: backcall in /usr/local/lib/python3.7/dist-packages (from ipython>=5.0.0->ipykernel->jupyter->ResNetSrc==0.0.1.dev0) (0.2.0)\n",
            "Requirement already satisfied: setuptools>=18.5 in /usr/local/lib/python3.7/dist-packages (from ipython>=5.0.0->ipykernel->jupyter->ResNetSrc==0.0.1.dev0) (57.4.0)\n",
            "Requirement already satisfied: pexpect in /usr/local/lib/python3.7/dist-packages (from ipython>=5.0.0->ipykernel->jupyter->ResNetSrc==0.0.1.dev0) (4.8.0)\n",
            "Requirement already satisfied: pygments in /usr/local/lib/python3.7/dist-packages (from ipython>=5.0.0->ipykernel->jupyter->ResNetSrc==0.0.1.dev0) (2.6.1)\n",
            "Requirement already satisfied: decorator in /usr/local/lib/python3.7/dist-packages (from ipython>=5.0.0->ipykernel->jupyter->ResNetSrc==0.0.1.dev0) (4.4.2)\n",
            "Requirement already satisfied: jedi>=0.10 in /usr/local/lib/python3.7/dist-packages (from ipython>=5.0.0->ipykernel->jupyter->ResNetSrc==0.0.1.dev0) (0.18.1)\n",
            "Requirement already satisfied: parso<0.9.0,>=0.8.0 in /usr/local/lib/python3.7/dist-packages (from jedi>=0.10->ipython>=5.0.0->ipykernel->jupyter->ResNetSrc==0.0.1.dev0) (0.8.3)\n",
            "Requirement already satisfied: six>=1.9.0 in /usr/local/lib/python3.7/dist-packages (from prompt-toolkit<2.1.0,>=2.0.0->ipython>=5.0.0->ipykernel->jupyter->ResNetSrc==0.0.1.dev0) (1.15.0)\n",
            "Requirement already satisfied: wcwidth in /usr/local/lib/python3.7/dist-packages (from prompt-toolkit<2.1.0,>=2.0.0->ipython>=5.0.0->ipykernel->jupyter->ResNetSrc==0.0.1.dev0) (0.2.5)\n",
            "Requirement already satisfied: widgetsnbextension~=3.6.0 in /usr/local/lib/python3.7/dist-packages (from ipywidgets->jupyter->ResNetSrc==0.0.1.dev0) (3.6.1)\n",
            "Requirement already satisfied: ipython-genutils~=0.2.0 in /usr/local/lib/python3.7/dist-packages (from ipywidgets->jupyter->ResNetSrc==0.0.1.dev0) (0.2.0)\n",
            "Requirement already satisfied: jupyterlab-widgets>=1.0.0 in /usr/local/lib/python3.7/dist-packages (from ipywidgets->jupyter->ResNetSrc==0.0.1.dev0) (3.0.3)\n",
            "Requirement already satisfied: jinja2 in /usr/local/lib/python3.7/dist-packages (from notebook->ResNetSrc==0.0.1.dev0) (2.11.3)\n",
            "Requirement already satisfied: terminado>=0.8.1 in /usr/local/lib/python3.7/dist-packages (from notebook->ResNetSrc==0.0.1.dev0) (0.13.3)\n",
            "Requirement already satisfied: Send2Trash in /usr/local/lib/python3.7/dist-packages (from notebook->ResNetSrc==0.0.1.dev0) (1.8.0)\n",
            "Requirement already satisfied: pyzmq>=17 in /usr/local/lib/python3.7/dist-packages (from notebook->ResNetSrc==0.0.1.dev0) (23.2.1)\n",
            "Requirement already satisfied: nbformat in /usr/local/lib/python3.7/dist-packages (from notebook->ResNetSrc==0.0.1.dev0) (5.7.0)\n",
            "Requirement already satisfied: jupyter-core>=4.4.0 in /usr/local/lib/python3.7/dist-packages (from notebook->ResNetSrc==0.0.1.dev0) (4.11.2)\n",
            "Requirement already satisfied: python-dateutil>=2.1 in /usr/local/lib/python3.7/dist-packages (from jupyter-client->ipykernel->jupyter->ResNetSrc==0.0.1.dev0) (2.8.2)\n",
            "Requirement already satisfied: ptyprocess in /usr/local/lib/python3.7/dist-packages (from terminado>=0.8.1->notebook->ResNetSrc==0.0.1.dev0) (0.7.0)\n",
            "Requirement already satisfied: MarkupSafe>=0.23 in /usr/local/lib/python3.7/dist-packages (from jinja2->notebook->ResNetSrc==0.0.1.dev0) (2.0.1)\n",
            "Requirement already satisfied: pyparsing!=2.0.4,!=2.1.2,!=2.1.6,>=2.0.1 in /usr/local/lib/python3.7/dist-packages (from matplotlib->ResNetSrc==0.0.1.dev0) (3.0.9)\n",
            "Requirement already satisfied: numpy>=1.11 in /usr/local/lib/python3.7/dist-packages (from matplotlib->ResNetSrc==0.0.1.dev0) (1.21.6)\n",
            "Requirement already satisfied: cycler>=0.10 in /usr/local/lib/python3.7/dist-packages (from matplotlib->ResNetSrc==0.0.1.dev0) (0.11.0)\n",
            "Requirement already satisfied: kiwisolver>=1.0.1 in /usr/local/lib/python3.7/dist-packages (from matplotlib->ResNetSrc==0.0.1.dev0) (1.4.4)\n",
            "Requirement already satisfied: typing-extensions in /usr/local/lib/python3.7/dist-packages (from kiwisolver>=1.0.1->matplotlib->ResNetSrc==0.0.1.dev0) (4.1.1)\n",
            "Requirement already satisfied: bleach in /usr/local/lib/python3.7/dist-packages (from nbconvert->jupyter->ResNetSrc==0.0.1.dev0) (5.0.1)\n",
            "Requirement already satisfied: testpath in /usr/local/lib/python3.7/dist-packages (from nbconvert->jupyter->ResNetSrc==0.0.1.dev0) (0.6.0)\n",
            "Requirement already satisfied: mistune<2,>=0.8.1 in /usr/local/lib/python3.7/dist-packages (from nbconvert->jupyter->ResNetSrc==0.0.1.dev0) (0.8.4)\n",
            "Requirement already satisfied: defusedxml in /usr/local/lib/python3.7/dist-packages (from nbconvert->jupyter->ResNetSrc==0.0.1.dev0) (0.7.1)\n",
            "Requirement already satisfied: entrypoints>=0.2.2 in /usr/local/lib/python3.7/dist-packages (from nbconvert->jupyter->ResNetSrc==0.0.1.dev0) (0.4)\n",
            "Requirement already satisfied: pandocfilters>=1.4.1 in /usr/local/lib/python3.7/dist-packages (from nbconvert->jupyter->ResNetSrc==0.0.1.dev0) (1.5.0)\n",
            "Requirement already satisfied: importlib-metadata>=3.6 in /usr/local/lib/python3.7/dist-packages (from nbformat->notebook->ResNetSrc==0.0.1.dev0) (4.13.0)\n",
            "Requirement already satisfied: jsonschema>=2.6 in /usr/local/lib/python3.7/dist-packages (from nbformat->notebook->ResNetSrc==0.0.1.dev0) (4.3.3)\n",
            "Requirement already satisfied: fastjsonschema in /usr/local/lib/python3.7/dist-packages (from nbformat->notebook->ResNetSrc==0.0.1.dev0) (2.16.2)\n",
            "Requirement already satisfied: zipp>=0.5 in /usr/local/lib/python3.7/dist-packages (from importlib-metadata>=3.6->nbformat->notebook->ResNetSrc==0.0.1.dev0) (3.10.0)\n",
            "Requirement already satisfied: attrs>=17.4.0 in /usr/local/lib/python3.7/dist-packages (from jsonschema>=2.6->nbformat->notebook->ResNetSrc==0.0.1.dev0) (22.1.0)\n",
            "Requirement already satisfied: importlib-resources>=1.4.0 in /usr/local/lib/python3.7/dist-packages (from jsonschema>=2.6->nbformat->notebook->ResNetSrc==0.0.1.dev0) (5.10.0)\n",
            "Requirement already satisfied: pyrsistent!=0.17.0,!=0.17.1,!=0.17.2,>=0.14.0 in /usr/local/lib/python3.7/dist-packages (from jsonschema>=2.6->nbformat->notebook->ResNetSrc==0.0.1.dev0) (0.18.1)\n",
            "Requirement already satisfied: webencodings in /usr/local/lib/python3.7/dist-packages (from bleach->nbconvert->jupyter->ResNetSrc==0.0.1.dev0) (0.5.1)\n",
            "Requirement already satisfied: qtpy>=2.0.1 in /usr/local/lib/python3.7/dist-packages (from qtconsole->jupyter->ResNetSrc==0.0.1.dev0) (2.2.1)\n",
            "Requirement already satisfied: packaging in /usr/local/lib/python3.7/dist-packages (from qtpy>=2.0.1->qtconsole->jupyter->ResNetSrc==0.0.1.dev0) (21.3)\n",
            "Requirement already satisfied: pillow!=8.3.*,>=5.3.0 in /usr/local/lib/python3.7/dist-packages (from torchvision->ResNetSrc==0.0.1.dev0) (7.1.2)\n",
            "Requirement already satisfied: requests in /usr/local/lib/python3.7/dist-packages (from torchvision->ResNetSrc==0.0.1.dev0) (2.23.0)\n",
            "Requirement already satisfied: urllib3!=1.25.0,!=1.25.1,<1.26,>=1.21.1 in /usr/local/lib/python3.7/dist-packages (from requests->torchvision->ResNetSrc==0.0.1.dev0) (1.24.3)\n",
            "Requirement already satisfied: chardet<4,>=3.0.2 in /usr/local/lib/python3.7/dist-packages (from requests->torchvision->ResNetSrc==0.0.1.dev0) (3.0.4)\n",
            "Requirement already satisfied: idna<3,>=2.5 in /usr/local/lib/python3.7/dist-packages (from requests->torchvision->ResNetSrc==0.0.1.dev0) (2.10)\n",
            "Requirement already satisfied: certifi>=2017.4.17 in /usr/local/lib/python3.7/dist-packages (from requests->torchvision->ResNetSrc==0.0.1.dev0) (2022.9.24)\n"
          ]
        }
      ],
      "source": [
        "!pip install -U \"git+https://github.com/ab7289-tandon-nyu/csgy6953_DeepLearning_Midterm.git\""
      ]
    },
    {
      "cell_type": "code",
      "execution_count": 2,
      "metadata": {
        "id": "Ow3lduSvGwrU"
      },
      "outputs": [],
      "source": [
        "import torch\n",
        "import torch.nn as nn\n",
        "import torchvision\n",
        "import torchvision.datasets as datasets\n",
        "import torch.utils.data as data\n",
        "import random\n",
        "import numpy as np\n",
        "from torchsummary import summary\n",
        "\n",
        "import copy\n",
        "import time"
      ]
    },
    {
      "cell_type": "code",
      "source": [
        "from google.colab import drive\n",
        "drive.mount('/content/drive')"
      ],
      "metadata": {
        "colab": {
          "base_uri": "https://localhost:8080/"
        },
        "id": "NJaOta3cmQwI",
        "outputId": "81ddc041-d1ee-410d-ab80-e9a75890b761"
      },
      "execution_count": 3,
      "outputs": [
        {
          "output_type": "stream",
          "name": "stdout",
          "text": [
            "Drive already mounted at /content/drive; to attempt to forcibly remount, call drive.mount(\"/content/drive\", force_remount=True).\n"
          ]
        }
      ]
    },
    {
      "cell_type": "code",
      "execution_count": 4,
      "metadata": {
        "id": "c2CF9rXbGwrU"
      },
      "outputs": [],
      "source": [
        "SEED = 1234\n",
        "\n",
        "random.seed(SEED)\n",
        "np.random.seed(SEED)\n",
        "torch.manual_seed(SEED)\n",
        "torch.cuda.manual_seed(SEED)\n",
        "torch.backends.cudnn.deterministic = True\n",
        "\n",
        "device = torch.device(\"cuda\" if torch.cuda.is_available() else \"cpu\")"
      ]
    },
    {
      "cell_type": "code",
      "execution_count": 5,
      "metadata": {
        "colab": {
          "base_uri": "https://localhost:8080/"
        },
        "id": "xi8wBpqqGwrU",
        "outputId": "cc8d37a7-56eb-4051-a7e5-a3d8aba02ccb"
      },
      "outputs": [
        {
          "output_type": "stream",
          "name": "stdout",
          "text": [
            "Files already downloaded and verified\n"
          ]
        }
      ],
      "source": [
        "ROOT = '.data'\n",
        "train_data = datasets.CIFAR10(root = ROOT, \n",
        "                              train = True, \n",
        "                              download = True)"
      ]
    },
    {
      "cell_type": "code",
      "execution_count": 6,
      "metadata": {
        "id": "zhLfRsXZGwrV"
      },
      "outputs": [],
      "source": [
        "# Compute means and standard deviations along the R,G,B channel\n",
        "\n",
        "means = train_data.data.mean(axis = (0,1,2)) / 255\n",
        "stds = train_data.data.std(axis = (0,1,2)) / 255"
      ]
    },
    {
      "cell_type": "code",
      "execution_count": 7,
      "metadata": {
        "id": "J_0MFhFPGwrV"
      },
      "outputs": [],
      "source": [
        "from src.transforms import make_transforms\n",
        "\n",
        "train_transforms, test_transforms = make_transforms(means, stds)"
      ]
    },
    {
      "cell_type": "code",
      "execution_count": 8,
      "metadata": {
        "colab": {
          "base_uri": "https://localhost:8080/"
        },
        "id": "vf3X1Lp-GwrV",
        "outputId": "1e7dc616-76c1-4425-cbe7-c955eaf01226"
      },
      "outputs": [
        {
          "output_type": "stream",
          "name": "stdout",
          "text": [
            "Files already downloaded and verified\n",
            "Files already downloaded and verified\n"
          ]
        }
      ],
      "source": [
        "train_data = datasets.CIFAR10(ROOT, \n",
        "                              train = True, \n",
        "                              download = True, \n",
        "                              transform = train_transforms)\n",
        "\n",
        "test_data = datasets.CIFAR10(ROOT, \n",
        "                             train = False, \n",
        "                             download = True, \n",
        "                             transform = test_transforms)"
      ]
    },
    {
      "cell_type": "code",
      "execution_count": 9,
      "metadata": {
        "id": "J7DGQJYSGwrV"
      },
      "outputs": [],
      "source": [
        "VALID_RATIO = 0.9\n",
        "\n",
        "n_train_examples = int(len(train_data) * VALID_RATIO)\n",
        "n_valid_examples = len(train_data) - n_train_examples\n",
        "\n",
        "train_data, valid_data = data.random_split(train_data, \n",
        "                                           [n_train_examples, n_valid_examples])"
      ]
    },
    {
      "cell_type": "code",
      "execution_count": 10,
      "metadata": {
        "id": "d4uKdKAJGwrV"
      },
      "outputs": [],
      "source": [
        "valid_data = copy.deepcopy(valid_data)\n",
        "valid_data.dataset.transform = test_transforms"
      ]
    },
    {
      "cell_type": "code",
      "execution_count": 11,
      "metadata": {
        "id": "JxwCl4lcGwrW"
      },
      "outputs": [],
      "source": [
        "BATCH_SIZE = 512\n",
        "\n",
        "train_iterator = data.DataLoader(train_data, batch_size=BATCH_SIZE, shuffle=True)\n",
        "\n",
        "valid_iterator = data.DataLoader(valid_data, batch_size=BATCH_SIZE, shuffle=True)\n",
        "\n",
        "test_iterator = data.DataLoader(test_data, batch_size=BATCH_SIZE, shuffle=True)"
      ]
    },
    {
      "cell_type": "markdown",
      "metadata": {
        "id": "lfPJNbhPGwrW"
      },
      "source": [
        "**Define our Model"
      ]
    },
    {
      "cell_type": "code",
      "execution_count": 12,
      "metadata": {
        "colab": {
          "base_uri": "https://localhost:8080/"
        },
        "id": "JsPprgn5GwrW",
        "outputId": "3303861d-2a4a-4df6-d556-7874b6d1ccec"
      },
      "outputs": [
        {
          "output_type": "stream",
          "name": "stderr",
          "text": [
            "/usr/local/lib/python3.7/dist-packages/torch/nn/modules/lazy.py:178: UserWarning: Lazy modules are a new feature under heavy development so changes to the API or functionality can happen at any moment.\n",
            "  warnings.warn('Lazy modules are a new feature under heavy development '\n"
          ]
        }
      ],
      "source": [
        "from src.model import ResNet, StemConfig\n",
        "from src.utils import initialize_parameters, epoch_time\n",
        "\n",
        "model_architecture = (\n",
        "    (1, 128),\n",
        "    (2, 128),\n",
        "    (2, 128),\n",
        "    (2, 128),\n",
        "    (2, 196),\n",
        "    (2, 196),\n",
        ")\n",
        "\n",
        "stem_config = StemConfig(num_channels=128, kernel_size=5, stride=1, padding=2)\n",
        "model = ResNet(model_architecture, stem_config=stem_config, output_size=10)"
      ]
    },
    {
      "cell_type": "markdown",
      "metadata": {
        "id": "-teLbU72GwrX"
      },
      "source": [
        "Need to run a dummy set of data to initialize the lazy modules before we can use torchsummary"
      ]
    },
    {
      "cell_type": "code",
      "execution_count": 13,
      "metadata": {
        "colab": {
          "base_uri": "https://localhost:8080/"
        },
        "id": "GtRvQ7y_GwrX",
        "outputId": "c338dc30-247a-4b97-94ea-b8baf79c6633"
      },
      "outputs": [
        {
          "output_type": "execute_result",
          "data": {
            "text/plain": [
              "torch.Size([512, 10])"
            ]
          },
          "metadata": {},
          "execution_count": 13
        }
      ],
      "source": [
        "inputs = torch.empty((512, 3, 32, 32))\n",
        "inputs.normal_()\n",
        "model = model.to(device)\n",
        "y = model(inputs.to(device))\n",
        "y.size()"
      ]
    },
    {
      "cell_type": "code",
      "execution_count": 14,
      "metadata": {
        "colab": {
          "base_uri": "https://localhost:8080/"
        },
        "id": "1EmMknwiGwrX",
        "outputId": "3cccc414-afcd-4e98-f374-61a4336c15db"
      },
      "outputs": [
        {
          "output_type": "execute_result",
          "data": {
            "text/plain": [
              "ResNet(\n",
              "  (stem): Sequential(\n",
              "    (0): Conv2d(3, 128, kernel_size=(5, 5), stride=(1, 1), padding=(2, 2))\n",
              "    (1): BatchNorm2d(128, eps=1e-05, momentum=0.1, affine=True, track_running_stats=True)\n",
              "    (2): ReLU(inplace=True)\n",
              "  )\n",
              "  (classifier): Sequential(\n",
              "    (0): AdaptiveAvgPool2d(output_size=1)\n",
              "    (1): Flatten(start_dim=1, end_dim=-1)\n",
              "    (2): Linear(in_features=196, out_features=10, bias=True)\n",
              "  )\n",
              "  (body): Sequential(\n",
              "    (block_2): Sequential(\n",
              "      (0): ResidualBlock(\n",
              "        (conv1): Conv2d(128, 128, kernel_size=(3, 3), stride=(1, 1), padding=(1, 1))\n",
              "        (conv2): Conv2d(128, 128, kernel_size=(3, 3), stride=(1, 1), padding=(1, 1))\n",
              "        (relu): ReLU(inplace=True)\n",
              "        (out): ReLU(inplace=True)\n",
              "        (bn1): BatchNorm2d(128, eps=1e-05, momentum=0.1, affine=True, track_running_stats=True)\n",
              "        (bn2): BatchNorm2d(128, eps=1e-05, momentum=0.1, affine=True, track_running_stats=True)\n",
              "      )\n",
              "    )\n",
              "    (block_3): Sequential(\n",
              "      (0): ResidualBlock(\n",
              "        (conv1): Conv2d(128, 128, kernel_size=(3, 3), stride=(2, 2), padding=(1, 1))\n",
              "        (conv2): Conv2d(128, 128, kernel_size=(3, 3), stride=(1, 1), padding=(1, 1))\n",
              "        (relu): ReLU(inplace=True)\n",
              "        (out): ReLU(inplace=True)\n",
              "        (bn1): BatchNorm2d(128, eps=1e-05, momentum=0.1, affine=True, track_running_stats=True)\n",
              "        (bn2): BatchNorm2d(128, eps=1e-05, momentum=0.1, affine=True, track_running_stats=True)\n",
              "        (conv_stem): Conv2d(128, 128, kernel_size=(1, 1), stride=(2, 2))\n",
              "      )\n",
              "      (1): ResidualBlock(\n",
              "        (conv1): Conv2d(128, 128, kernel_size=(3, 3), stride=(1, 1), padding=(1, 1))\n",
              "        (conv2): Conv2d(128, 128, kernel_size=(3, 3), stride=(1, 1), padding=(1, 1))\n",
              "        (relu): ReLU(inplace=True)\n",
              "        (out): ReLU(inplace=True)\n",
              "        (bn1): BatchNorm2d(128, eps=1e-05, momentum=0.1, affine=True, track_running_stats=True)\n",
              "        (bn2): BatchNorm2d(128, eps=1e-05, momentum=0.1, affine=True, track_running_stats=True)\n",
              "      )\n",
              "    )\n",
              "    (block_4): Sequential(\n",
              "      (0): ResidualBlock(\n",
              "        (conv1): Conv2d(128, 128, kernel_size=(3, 3), stride=(2, 2), padding=(1, 1))\n",
              "        (conv2): Conv2d(128, 128, kernel_size=(3, 3), stride=(1, 1), padding=(1, 1))\n",
              "        (relu): ReLU(inplace=True)\n",
              "        (out): ReLU(inplace=True)\n",
              "        (bn1): BatchNorm2d(128, eps=1e-05, momentum=0.1, affine=True, track_running_stats=True)\n",
              "        (bn2): BatchNorm2d(128, eps=1e-05, momentum=0.1, affine=True, track_running_stats=True)\n",
              "        (conv_stem): Conv2d(128, 128, kernel_size=(1, 1), stride=(2, 2))\n",
              "      )\n",
              "      (1): ResidualBlock(\n",
              "        (conv1): Conv2d(128, 128, kernel_size=(3, 3), stride=(1, 1), padding=(1, 1))\n",
              "        (conv2): Conv2d(128, 128, kernel_size=(3, 3), stride=(1, 1), padding=(1, 1))\n",
              "        (relu): ReLU(inplace=True)\n",
              "        (out): ReLU(inplace=True)\n",
              "        (bn1): BatchNorm2d(128, eps=1e-05, momentum=0.1, affine=True, track_running_stats=True)\n",
              "        (bn2): BatchNorm2d(128, eps=1e-05, momentum=0.1, affine=True, track_running_stats=True)\n",
              "      )\n",
              "    )\n",
              "    (block_5): Sequential(\n",
              "      (0): ResidualBlock(\n",
              "        (conv1): Conv2d(128, 128, kernel_size=(3, 3), stride=(2, 2), padding=(1, 1))\n",
              "        (conv2): Conv2d(128, 128, kernel_size=(3, 3), stride=(1, 1), padding=(1, 1))\n",
              "        (relu): ReLU(inplace=True)\n",
              "        (out): ReLU(inplace=True)\n",
              "        (bn1): BatchNorm2d(128, eps=1e-05, momentum=0.1, affine=True, track_running_stats=True)\n",
              "        (bn2): BatchNorm2d(128, eps=1e-05, momentum=0.1, affine=True, track_running_stats=True)\n",
              "        (conv_stem): Conv2d(128, 128, kernel_size=(1, 1), stride=(2, 2))\n",
              "      )\n",
              "      (1): ResidualBlock(\n",
              "        (conv1): Conv2d(128, 128, kernel_size=(3, 3), stride=(1, 1), padding=(1, 1))\n",
              "        (conv2): Conv2d(128, 128, kernel_size=(3, 3), stride=(1, 1), padding=(1, 1))\n",
              "        (relu): ReLU(inplace=True)\n",
              "        (out): ReLU(inplace=True)\n",
              "        (bn1): BatchNorm2d(128, eps=1e-05, momentum=0.1, affine=True, track_running_stats=True)\n",
              "        (bn2): BatchNorm2d(128, eps=1e-05, momentum=0.1, affine=True, track_running_stats=True)\n",
              "      )\n",
              "    )\n",
              "    (block_6): Sequential(\n",
              "      (0): ResidualBlock(\n",
              "        (conv1): Conv2d(128, 196, kernel_size=(3, 3), stride=(2, 2), padding=(1, 1))\n",
              "        (conv2): Conv2d(196, 196, kernel_size=(3, 3), stride=(1, 1), padding=(1, 1))\n",
              "        (relu): ReLU(inplace=True)\n",
              "        (out): ReLU(inplace=True)\n",
              "        (bn1): BatchNorm2d(196, eps=1e-05, momentum=0.1, affine=True, track_running_stats=True)\n",
              "        (bn2): BatchNorm2d(196, eps=1e-05, momentum=0.1, affine=True, track_running_stats=True)\n",
              "        (conv_stem): Conv2d(128, 196, kernel_size=(1, 1), stride=(2, 2))\n",
              "      )\n",
              "      (1): ResidualBlock(\n",
              "        (conv1): Conv2d(196, 196, kernel_size=(3, 3), stride=(1, 1), padding=(1, 1))\n",
              "        (conv2): Conv2d(196, 196, kernel_size=(3, 3), stride=(1, 1), padding=(1, 1))\n",
              "        (relu): ReLU(inplace=True)\n",
              "        (out): ReLU(inplace=True)\n",
              "        (bn1): BatchNorm2d(196, eps=1e-05, momentum=0.1, affine=True, track_running_stats=True)\n",
              "        (bn2): BatchNorm2d(196, eps=1e-05, momentum=0.1, affine=True, track_running_stats=True)\n",
              "      )\n",
              "    )\n",
              "    (block_7): Sequential(\n",
              "      (0): ResidualBlock(\n",
              "        (conv1): Conv2d(196, 196, kernel_size=(3, 3), stride=(2, 2), padding=(1, 1))\n",
              "        (conv2): Conv2d(196, 196, kernel_size=(3, 3), stride=(1, 1), padding=(1, 1))\n",
              "        (relu): ReLU(inplace=True)\n",
              "        (out): ReLU(inplace=True)\n",
              "        (bn1): BatchNorm2d(196, eps=1e-05, momentum=0.1, affine=True, track_running_stats=True)\n",
              "        (bn2): BatchNorm2d(196, eps=1e-05, momentum=0.1, affine=True, track_running_stats=True)\n",
              "        (conv_stem): Conv2d(196, 196, kernel_size=(1, 1), stride=(2, 2))\n",
              "      )\n",
              "      (1): ResidualBlock(\n",
              "        (conv1): Conv2d(196, 196, kernel_size=(3, 3), stride=(1, 1), padding=(1, 1))\n",
              "        (conv2): Conv2d(196, 196, kernel_size=(3, 3), stride=(1, 1), padding=(1, 1))\n",
              "        (relu): ReLU(inplace=True)\n",
              "        (out): ReLU(inplace=True)\n",
              "        (bn1): BatchNorm2d(196, eps=1e-05, momentum=0.1, affine=True, track_running_stats=True)\n",
              "        (bn2): BatchNorm2d(196, eps=1e-05, momentum=0.1, affine=True, track_running_stats=True)\n",
              "      )\n",
              "    )\n",
              "  )\n",
              ")"
            ]
          },
          "metadata": {},
          "execution_count": 14
        }
      ],
      "source": [
        "model.apply(initialize_parameters)"
      ]
    },
    {
      "cell_type": "code",
      "execution_count": 15,
      "metadata": {
        "colab": {
          "base_uri": "https://localhost:8080/"
        },
        "id": "OjqTh-mhGwrX",
        "outputId": "3307be6b-9824-43d1-93f8-cac0d22ab58e"
      },
      "outputs": [
        {
          "output_type": "stream",
          "name": "stdout",
          "text": [
            "num params: 4,845,850\n"
          ]
        }
      ],
      "source": [
        "print(f\"num params: {sum([p.numel() for p in model.parameters() if p.requires_grad]):,}\")"
      ]
    },
    {
      "cell_type": "code",
      "execution_count": 16,
      "metadata": {
        "id": "aN5uGCn-GwrX"
      },
      "outputs": [],
      "source": [
        "from src.engine import train_one_epoch, evaluate\n",
        "\n",
        "best_loss = float('inf')\n",
        "EPOCHS  = 100\n",
        "learning_rate = 1e-3\n",
        "criterion = nn.CrossEntropyLoss().to(device)\n",
        "optimizer = torch.optim.Adam(model.parameters(), lr=learning_rate)"
      ]
    },
    {
      "cell_type": "code",
      "execution_count": 17,
      "metadata": {
        "colab": {
          "base_uri": "https://localhost:8080/"
        },
        "id": "LS1DEX_fGwrX",
        "outputId": "8dd0711b-60f5-4a91-db3b-baf76c54de2c"
      },
      "outputs": [
        {
          "output_type": "stream",
          "name": "stdout",
          "text": [
            "Epoch 1\n",
            "\tTrain elapsed: 1:5, loss: 1.9083, acc: 36.01%\n",
            "\tValidation elapsed: 0:2, loss: 1.4952, acc: 45.69%\n",
            "Epoch 2\n",
            "\tTrain elapsed: 1:4, loss: 1.3850, acc: 49.59%\n",
            "\tValidation elapsed: 0:2, loss: 1.3388, acc: 52.10%\n",
            "Epoch 3\n",
            "\tTrain elapsed: 1:4, loss: 1.2076, acc: 56.35%\n",
            "\tValidation elapsed: 0:2, loss: 1.1293, acc: 59.44%\n",
            "Epoch 4\n",
            "\tTrain elapsed: 1:5, loss: 1.0547, acc: 62.14%\n",
            "\tValidation elapsed: 0:2, loss: 1.2483, acc: 57.47%\n",
            "Epoch 5\n",
            "\tTrain elapsed: 1:5, loss: 0.9348, acc: 66.54%\n",
            "\tValidation elapsed: 0:2, loss: 0.9695, acc: 66.99%\n",
            "Epoch 6\n",
            "\tTrain elapsed: 1:5, loss: 0.8246, acc: 70.75%\n",
            "\tValidation elapsed: 0:2, loss: 0.8770, acc: 69.40%\n",
            "Epoch 7\n",
            "\tTrain elapsed: 1:5, loss: 0.7517, acc: 73.30%\n",
            "\tValidation elapsed: 0:2, loss: 0.7725, acc: 73.57%\n",
            "Epoch 8\n",
            "\tTrain elapsed: 1:5, loss: 0.6831, acc: 75.92%\n",
            "\tValidation elapsed: 0:2, loss: 0.7394, acc: 74.50%\n",
            "Epoch 9\n",
            "\tTrain elapsed: 1:5, loss: 0.6337, acc: 77.52%\n",
            "\tValidation elapsed: 0:2, loss: 0.6721, acc: 77.05%\n",
            "Epoch 10\n",
            "\tTrain elapsed: 1:5, loss: 0.5821, acc: 79.46%\n",
            "\tValidation elapsed: 0:2, loss: 0.7653, acc: 74.26%\n",
            "Epoch 11\n",
            "\tTrain elapsed: 1:5, loss: 0.5440, acc: 80.70%\n",
            "\tValidation elapsed: 0:2, loss: 0.6464, acc: 78.61%\n",
            "Epoch 12\n",
            "\tTrain elapsed: 1:5, loss: 0.5081, acc: 82.17%\n",
            "\tValidation elapsed: 0:2, loss: 0.6246, acc: 78.55%\n",
            "Epoch 13\n",
            "\tTrain elapsed: 1:5, loss: 0.4737, acc: 83.40%\n",
            "\tValidation elapsed: 0:2, loss: 0.6600, acc: 78.38%\n",
            "Epoch 14\n",
            "\tTrain elapsed: 1:5, loss: 0.4409, acc: 84.51%\n",
            "\tValidation elapsed: 0:2, loss: 0.5972, acc: 80.06%\n",
            "Epoch 15\n",
            "\tTrain elapsed: 1:5, loss: 0.4154, acc: 85.35%\n",
            "\tValidation elapsed: 0:2, loss: 0.5757, acc: 81.02%\n",
            "Epoch 16\n",
            "\tTrain elapsed: 1:5, loss: 0.3976, acc: 86.03%\n",
            "\tValidation elapsed: 0:2, loss: 0.5633, acc: 81.45%\n",
            "Epoch 17\n",
            "\tTrain elapsed: 1:5, loss: 0.3792, acc: 86.65%\n",
            "\tValidation elapsed: 0:2, loss: 0.5638, acc: 82.36%\n",
            "Epoch 18\n",
            "\tTrain elapsed: 1:5, loss: 0.3518, acc: 87.59%\n",
            "\tValidation elapsed: 0:2, loss: 0.5324, acc: 83.27%\n",
            "Epoch 19\n",
            "\tTrain elapsed: 1:5, loss: 0.3417, acc: 88.01%\n",
            "\tValidation elapsed: 0:2, loss: 0.5469, acc: 82.45%\n",
            "Epoch 20\n",
            "\tTrain elapsed: 1:5, loss: 0.3243, acc: 88.73%\n",
            "\tValidation elapsed: 0:2, loss: 0.5630, acc: 82.12%\n",
            "Epoch 21\n",
            "\tTrain elapsed: 1:5, loss: 0.3010, acc: 89.37%\n",
            "\tValidation elapsed: 0:2, loss: 0.5396, acc: 82.90%\n",
            "Epoch 22\n",
            "\tTrain elapsed: 1:5, loss: 0.2850, acc: 89.95%\n",
            "\tValidation elapsed: 0:2, loss: 0.4754, acc: 85.03%\n",
            "Epoch 23\n",
            "\tTrain elapsed: 1:5, loss: 0.2741, acc: 90.40%\n",
            "\tValidation elapsed: 0:2, loss: 0.5828, acc: 81.99%\n",
            "Epoch 24\n",
            "\tTrain elapsed: 1:5, loss: 0.2599, acc: 90.78%\n",
            "\tValidation elapsed: 0:2, loss: 0.5192, acc: 84.02%\n",
            "Epoch 25\n",
            "\tTrain elapsed: 1:5, loss: 0.2516, acc: 90.99%\n",
            "\tValidation elapsed: 0:2, loss: 0.4803, acc: 85.34%\n",
            "Epoch 26\n",
            "\tTrain elapsed: 1:5, loss: 0.2392, acc: 91.44%\n",
            "\tValidation elapsed: 0:2, loss: 0.5423, acc: 84.53%\n",
            "Epoch 27\n",
            "\tTrain elapsed: 1:5, loss: 0.2293, acc: 92.01%\n",
            "\tValidation elapsed: 0:2, loss: 0.4958, acc: 85.24%\n",
            "Epoch 28\n",
            "\tTrain elapsed: 1:5, loss: 0.2243, acc: 92.00%\n",
            "\tValidation elapsed: 0:2, loss: 0.4876, acc: 85.39%\n",
            "Epoch 29\n",
            "\tTrain elapsed: 1:5, loss: 0.2064, acc: 92.69%\n",
            "\tValidation elapsed: 0:2, loss: 0.5080, acc: 85.31%\n",
            "Epoch 30\n",
            "\tTrain elapsed: 1:5, loss: 0.1993, acc: 93.04%\n",
            "\tValidation elapsed: 0:2, loss: 0.5190, acc: 84.80%\n",
            "Epoch 31\n",
            "\tTrain elapsed: 1:5, loss: 0.1991, acc: 92.96%\n",
            "\tValidation elapsed: 0:2, loss: 0.4652, acc: 86.11%\n",
            "Epoch 32\n",
            "\tTrain elapsed: 1:5, loss: 0.1844, acc: 93.51%\n",
            "\tValidation elapsed: 0:2, loss: 0.5223, acc: 84.92%\n",
            "Epoch 33\n",
            "\tTrain elapsed: 1:5, loss: 0.1822, acc: 93.59%\n",
            "\tValidation elapsed: 0:2, loss: 0.5319, acc: 85.55%\n",
            "Epoch 34\n",
            "\tTrain elapsed: 1:5, loss: 0.1742, acc: 93.79%\n",
            "\tValidation elapsed: 0:2, loss: 0.4530, acc: 86.55%\n",
            "Epoch 35\n",
            "\tTrain elapsed: 1:5, loss: 0.1644, acc: 94.18%\n",
            "\tValidation elapsed: 0:2, loss: 0.5238, acc: 85.51%\n",
            "Epoch 36\n",
            "\tTrain elapsed: 1:5, loss: 0.1567, acc: 94.52%\n",
            "\tValidation elapsed: 0:2, loss: 0.6194, acc: 82.94%\n",
            "Epoch 37\n",
            "\tTrain elapsed: 1:5, loss: 0.1459, acc: 94.78%\n",
            "\tValidation elapsed: 0:2, loss: 0.5216, acc: 86.31%\n",
            "Epoch 38\n",
            "\tTrain elapsed: 1:5, loss: 0.1472, acc: 94.83%\n",
            "\tValidation elapsed: 0:2, loss: 0.5501, acc: 85.30%\n",
            "Epoch 39\n",
            "\tTrain elapsed: 1:5, loss: 0.1409, acc: 94.99%\n",
            "\tValidation elapsed: 0:2, loss: 0.5306, acc: 86.03%\n",
            "Epoch 40\n",
            "\tTrain elapsed: 1:5, loss: 0.1377, acc: 95.20%\n",
            "\tValidation elapsed: 0:2, loss: 0.4933, acc: 86.51%\n",
            "Epoch 41\n",
            "\tTrain elapsed: 1:5, loss: 0.1359, acc: 95.13%\n",
            "\tValidation elapsed: 0:2, loss: 0.4756, acc: 87.41%\n",
            "Epoch 42\n",
            "\tTrain elapsed: 1:5, loss: 0.1314, acc: 95.30%\n",
            "\tValidation elapsed: 0:2, loss: 0.4960, acc: 86.66%\n",
            "Epoch 43\n",
            "\tTrain elapsed: 1:5, loss: 0.1252, acc: 95.60%\n",
            "\tValidation elapsed: 0:2, loss: 0.5122, acc: 86.16%\n",
            "Epoch 44\n",
            "\tTrain elapsed: 1:5, loss: 0.1177, acc: 95.81%\n",
            "\tValidation elapsed: 0:2, loss: 0.5280, acc: 86.02%\n",
            "Epoch 45\n",
            "\tTrain elapsed: 1:5, loss: 0.1122, acc: 95.99%\n",
            "\tValidation elapsed: 0:2, loss: 0.5385, acc: 86.53%\n",
            "Epoch 46\n",
            "\tTrain elapsed: 1:5, loss: 0.1129, acc: 95.96%\n",
            "\tValidation elapsed: 0:2, loss: 0.4879, acc: 87.50%\n",
            "Epoch 47\n",
            "\tTrain elapsed: 1:5, loss: 0.1142, acc: 95.87%\n",
            "\tValidation elapsed: 0:2, loss: 0.4694, acc: 87.27%\n",
            "Epoch 48\n",
            "\tTrain elapsed: 1:5, loss: 0.1070, acc: 96.26%\n",
            "\tValidation elapsed: 0:2, loss: 0.5220, acc: 85.99%\n",
            "Epoch 49\n",
            "\tTrain elapsed: 1:5, loss: 0.1044, acc: 96.37%\n",
            "\tValidation elapsed: 0:2, loss: 0.4716, acc: 87.21%\n",
            "Epoch 50\n",
            "\tTrain elapsed: 1:5, loss: 0.1019, acc: 96.37%\n",
            "\tValidation elapsed: 0:2, loss: 0.5386, acc: 86.41%\n",
            "Epoch 51\n",
            "\tTrain elapsed: 1:4, loss: 0.0991, acc: 96.49%\n",
            "\tValidation elapsed: 0:2, loss: 0.5080, acc: 87.20%\n",
            "Epoch 52\n",
            "\tTrain elapsed: 1:5, loss: 0.0957, acc: 96.68%\n",
            "\tValidation elapsed: 0:2, loss: 0.5304, acc: 86.95%\n",
            "Epoch 53\n",
            "\tTrain elapsed: 1:5, loss: 0.0968, acc: 96.58%\n",
            "\tValidation elapsed: 0:2, loss: 0.4969, acc: 87.16%\n",
            "Epoch 54\n",
            "\tTrain elapsed: 1:5, loss: 0.0947, acc: 96.65%\n",
            "\tValidation elapsed: 0:2, loss: 0.5167, acc: 86.92%\n",
            "Epoch 55\n",
            "\tTrain elapsed: 1:5, loss: 0.0867, acc: 96.96%\n",
            "\tValidation elapsed: 0:2, loss: 0.5596, acc: 86.34%\n",
            "Epoch 56\n",
            "\tTrain elapsed: 1:5, loss: 0.0928, acc: 96.76%\n",
            "\tValidation elapsed: 0:2, loss: 0.4862, acc: 87.87%\n",
            "Epoch 57\n",
            "\tTrain elapsed: 1:5, loss: 0.0876, acc: 96.92%\n",
            "\tValidation elapsed: 0:2, loss: 0.4905, acc: 87.48%\n",
            "Epoch 58\n",
            "\tTrain elapsed: 1:5, loss: 0.0809, acc: 97.11%\n",
            "\tValidation elapsed: 0:2, loss: 0.5299, acc: 86.86%\n",
            "Epoch 59\n",
            "\tTrain elapsed: 1:5, loss: 0.0784, acc: 97.28%\n",
            "\tValidation elapsed: 0:2, loss: 0.4975, acc: 88.00%\n",
            "Epoch 60\n",
            "\tTrain elapsed: 1:5, loss: 0.0833, acc: 97.01%\n",
            "\tValidation elapsed: 0:2, loss: 0.5069, acc: 87.52%\n",
            "Epoch 61\n",
            "\tTrain elapsed: 1:5, loss: 0.0780, acc: 97.26%\n",
            "\tValidation elapsed: 0:2, loss: 0.5492, acc: 86.79%\n",
            "Epoch 62\n",
            "\tTrain elapsed: 1:5, loss: 0.0762, acc: 97.29%\n",
            "\tValidation elapsed: 0:2, loss: 0.5701, acc: 87.10%\n",
            "Epoch 63\n",
            "\tTrain elapsed: 1:5, loss: 0.0757, acc: 97.26%\n",
            "\tValidation elapsed: 0:2, loss: 0.5601, acc: 86.57%\n",
            "Epoch 64\n",
            "\tTrain elapsed: 1:5, loss: 0.0771, acc: 97.29%\n",
            "\tValidation elapsed: 0:2, loss: 0.5454, acc: 87.33%\n",
            "Epoch 65\n",
            "\tTrain elapsed: 1:5, loss: 0.0773, acc: 97.30%\n",
            "\tValidation elapsed: 0:2, loss: 0.4769, acc: 89.01%\n",
            "Epoch 66\n",
            "\tTrain elapsed: 1:5, loss: 0.0663, acc: 97.65%\n",
            "\tValidation elapsed: 0:2, loss: 0.5080, acc: 88.00%\n",
            "Epoch 67\n",
            "\tTrain elapsed: 1:5, loss: 0.0758, acc: 97.41%\n",
            "\tValidation elapsed: 0:2, loss: 0.5487, acc: 86.89%\n",
            "Epoch 68\n",
            "\tTrain elapsed: 1:5, loss: 0.0689, acc: 97.56%\n",
            "\tValidation elapsed: 0:2, loss: 0.4837, acc: 88.53%\n",
            "Epoch 69\n",
            "\tTrain elapsed: 1:5, loss: 0.0624, acc: 97.86%\n",
            "\tValidation elapsed: 0:2, loss: 0.5226, acc: 87.91%\n",
            "Epoch 70\n",
            "\tTrain elapsed: 1:5, loss: 0.0687, acc: 97.56%\n",
            "\tValidation elapsed: 0:2, loss: 0.5460, acc: 87.22%\n",
            "Epoch 71\n",
            "\tTrain elapsed: 1:5, loss: 0.0636, acc: 97.76%\n",
            "\tValidation elapsed: 0:2, loss: 0.5254, acc: 88.04%\n",
            "Epoch 72\n",
            "\tTrain elapsed: 1:5, loss: 0.0650, acc: 97.83%\n",
            "\tValidation elapsed: 0:2, loss: 0.5202, acc: 87.98%\n",
            "Epoch 73\n",
            "\tTrain elapsed: 1:5, loss: 0.0665, acc: 97.70%\n",
            "\tValidation elapsed: 0:2, loss: 0.5020, acc: 88.45%\n",
            "Epoch 74\n",
            "\tTrain elapsed: 1:5, loss: 0.0619, acc: 97.87%\n",
            "\tValidation elapsed: 0:2, loss: 0.5221, acc: 88.10%\n",
            "Epoch 75\n",
            "\tTrain elapsed: 1:5, loss: 0.0607, acc: 97.83%\n",
            "\tValidation elapsed: 0:2, loss: 0.5059, acc: 88.24%\n",
            "Epoch 76\n",
            "\tTrain elapsed: 1:5, loss: 0.0642, acc: 97.77%\n",
            "\tValidation elapsed: 0:2, loss: 0.5231, acc: 88.10%\n",
            "Epoch 77\n",
            "\tTrain elapsed: 1:5, loss: 0.0562, acc: 98.10%\n",
            "\tValidation elapsed: 0:2, loss: 0.5373, acc: 88.10%\n",
            "Epoch 78\n",
            "\tTrain elapsed: 1:5, loss: 0.0587, acc: 97.97%\n",
            "\tValidation elapsed: 0:2, loss: 0.5343, acc: 87.86%\n",
            "Epoch 79\n",
            "\tTrain elapsed: 1:5, loss: 0.0539, acc: 98.13%\n",
            "\tValidation elapsed: 0:2, loss: 0.5458, acc: 87.79%\n",
            "Epoch 80\n",
            "\tTrain elapsed: 1:5, loss: 0.0532, acc: 98.13%\n",
            "\tValidation elapsed: 0:2, loss: 0.5559, acc: 87.51%\n",
            "Epoch 81\n",
            "\tTrain elapsed: 1:5, loss: 0.0572, acc: 98.04%\n",
            "\tValidation elapsed: 0:2, loss: 0.5133, acc: 88.33%\n",
            "Epoch 82\n",
            "\tTrain elapsed: 1:5, loss: 0.0512, acc: 98.20%\n",
            "\tValidation elapsed: 0:2, loss: 0.5280, acc: 88.44%\n",
            "Epoch 83\n",
            "\tTrain elapsed: 1:5, loss: 0.0557, acc: 98.03%\n",
            "\tValidation elapsed: 0:2, loss: 0.4993, acc: 88.92%\n",
            "Epoch 84\n",
            "\tTrain elapsed: 1:5, loss: 0.0586, acc: 97.92%\n",
            "\tValidation elapsed: 0:2, loss: 0.5527, acc: 87.74%\n",
            "Epoch 85\n",
            "\tTrain elapsed: 1:5, loss: 0.0548, acc: 98.06%\n",
            "\tValidation elapsed: 0:2, loss: 0.5545, acc: 87.71%\n",
            "Epoch 86\n",
            "\tTrain elapsed: 1:5, loss: 0.0491, acc: 98.28%\n",
            "\tValidation elapsed: 0:2, loss: 0.4997, acc: 89.21%\n",
            "Epoch 87\n",
            "\tTrain elapsed: 1:5, loss: 0.0570, acc: 98.04%\n",
            "\tValidation elapsed: 0:2, loss: 0.5092, acc: 88.02%\n",
            "Epoch 88\n",
            "\tTrain elapsed: 1:5, loss: 0.0518, acc: 98.17%\n",
            "\tValidation elapsed: 0:2, loss: 0.5576, acc: 87.19%\n",
            "Epoch 89\n",
            "\tTrain elapsed: 1:5, loss: 0.0502, acc: 98.18%\n",
            "\tValidation elapsed: 0:2, loss: 0.4679, acc: 89.17%\n",
            "Epoch 90\n",
            "\tTrain elapsed: 1:5, loss: 0.0481, acc: 98.31%\n",
            "\tValidation elapsed: 0:2, loss: 0.4860, acc: 89.29%\n",
            "Epoch 91\n",
            "\tTrain elapsed: 1:5, loss: 0.0527, acc: 98.16%\n",
            "\tValidation elapsed: 0:2, loss: 0.4938, acc: 89.04%\n",
            "Epoch 92\n",
            "\tTrain elapsed: 1:5, loss: 0.0471, acc: 98.35%\n",
            "\tValidation elapsed: 0:2, loss: 0.5308, acc: 88.52%\n",
            "Epoch 93\n",
            "\tTrain elapsed: 1:5, loss: 0.0474, acc: 98.35%\n",
            "\tValidation elapsed: 0:2, loss: 0.5120, acc: 88.94%\n",
            "Epoch 94\n",
            "\tTrain elapsed: 1:5, loss: 0.0430, acc: 98.46%\n",
            "\tValidation elapsed: 0:2, loss: 0.5014, acc: 89.64%\n",
            "Epoch 95\n",
            "\tTrain elapsed: 1:5, loss: 0.0466, acc: 98.38%\n",
            "\tValidation elapsed: 0:2, loss: 0.5072, acc: 88.68%\n",
            "Epoch 96\n",
            "\tTrain elapsed: 1:5, loss: 0.0462, acc: 98.39%\n",
            "\tValidation elapsed: 0:2, loss: 0.5203, acc: 88.62%\n",
            "Epoch 97\n",
            "\tTrain elapsed: 1:5, loss: 0.0455, acc: 98.45%\n",
            "\tValidation elapsed: 0:2, loss: 0.5383, acc: 88.56%\n",
            "Epoch 98\n",
            "\tTrain elapsed: 1:5, loss: 0.0431, acc: 98.55%\n",
            "\tValidation elapsed: 0:2, loss: 0.5479, acc: 88.49%\n",
            "Epoch 99\n",
            "\tTrain elapsed: 1:5, loss: 0.0451, acc: 98.40%\n",
            "\tValidation elapsed: 0:2, loss: 0.5124, acc: 88.66%\n",
            "Epoch 100\n",
            "\tTrain elapsed: 1:5, loss: 0.0499, acc: 98.24%\n",
            "\tValidation elapsed: 0:2, loss: 0.5212, acc: 88.99%\n"
          ]
        }
      ],
      "source": [
        "for epoch in range(1, EPOCHS+1):\n",
        "    start = time.time()\n",
        "\n",
        "    print(f\"Epoch {epoch}\")\n",
        "    train_loss, train_acc = train_one_epoch(model, train_iterator, criterion, optimizer, device)\n",
        "    train_mins, train_secs = epoch_time(start, time.time())\n",
        "\n",
        "    print(f\"\\tTrain elapsed: {train_mins}:{train_secs}, loss: {train_loss:.4f}, acc: {train_acc * 100:.2f}%\")\n",
        "\n",
        "    start = time.time()\n",
        "    val_loss, val_acc = evaluate(model, valid_iterator, criterion, device)\n",
        "    val_mins, val_secs = epoch_time(start, time.time())\n",
        "\n",
        "    print(f\"\\tValidation elapsed: {val_mins}:{val_secs}, loss: {val_loss:.4f}, acc: {val_acc * 100:.2f}%\")\n",
        "\n",
        "    if val_loss < best_loss:\n",
        "        best_loss = val_loss\n",
        "        torch.save(model.state_dict(), \"/content/drive/MyDrive/Colab Notebooks/midterm/resnet_alex_485.pt\")"
      ]
    },
    {
      "cell_type": "markdown",
      "metadata": {
        "id": "txl2I40ZGwrX"
      },
      "source": [
        "## Evaluate the Model  "
      ]
    },
    {
      "cell_type": "code",
      "execution_count": 18,
      "metadata": {
        "colab": {
          "base_uri": "https://localhost:8080/"
        },
        "id": "io_QMFwgGwrX",
        "outputId": "1c3d6a85-24cb-46a9-8cf3-eb839ae6fdba"
      },
      "outputs": [
        {
          "output_type": "stream",
          "name": "stdout",
          "text": [
            "Test Loss: 0.4518\n",
            "Test Accuracy: 86.91%\n"
          ]
        }
      ],
      "source": [
        "model.load_state_dict(torch.load(\"/content/drive/MyDrive/Colab Notebooks/midterm/resnet_alex_485.pt\"))\n",
        "test_loss, test_acc = evaluate(model.to(device), test_iterator, criterion, device)\n",
        "print(f\"Test Loss: {test_loss:.4f}\\nTest Accuracy: {test_acc * 100:.2f}%\")"
      ]
    }
  ],
  "metadata": {
    "kernelspec": {
      "display_name": "Python 3 (ipykernel)",
      "language": "python",
      "name": "python3"
    },
    "language_info": {
      "codemirror_mode": {
        "name": "ipython",
        "version": 3
      },
      "file_extension": ".py",
      "mimetype": "text/x-python",
      "name": "python",
      "nbconvert_exporter": "python",
      "pygments_lexer": "ipython3",
      "version": "3.8.10"
    },
    "orig_nbformat": 4,
    "vscode": {
      "interpreter": {
        "hash": "1f47d77051f6b3ff9692dd9abb1762c48ba70321fbafb2dfb079395901beb4e2"
      }
    },
    "colab": {
      "provenance": [],
      "collapsed_sections": []
    },
    "accelerator": "GPU",
    "gpuClass": "standard"
  },
  "nbformat": 4,
  "nbformat_minor": 0
}