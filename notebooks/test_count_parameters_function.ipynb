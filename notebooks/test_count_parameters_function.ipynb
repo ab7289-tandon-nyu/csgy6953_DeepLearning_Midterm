{
  "nbformat": 4,
  "nbformat_minor": 0,
  "metadata": {
    "colab": {
      "provenance": [],
      "collapsed_sections": [],
      "authorship_tag": "ABX9TyN2GGJ+sPdZ/sBPjHxXGW4O",
      "include_colab_link": true
    },
    "kernelspec": {
      "name": "python3",
      "display_name": "Python 3"
    },
    "language_info": {
      "name": "python"
    }
  },
  "cells": [
    {
      "cell_type": "markdown",
      "metadata": {
        "id": "view-in-github",
        "colab_type": "text"
      },
      "source": [
        "<a href=\"https://colab.research.google.com/github/ab7289-tandon-nyu/csgy6953_DeepLearning_Midterm/blob/oscar1/src/test_count_parameters_function.ipynb\" target=\"_parent\"><img src=\"https://colab.research.google.com/assets/colab-badge.svg\" alt=\"Open In Colab\"/></a>"
      ]
    },
    {
      "cell_type": "code",
      "execution_count": 2,
      "metadata": {
        "colab": {
          "base_uri": "https://localhost:8080/"
        },
        "id": "IqAXohSrvXd_",
        "outputId": "819cfa6f-68c1-439c-f30b-007f75a0ef9e"
      },
      "outputs": [
        {
          "output_type": "stream",
          "name": "stdout",
          "text": [
            "Cloning into 'csgy6953_DeepLearning_Midterm'...\n",
            "remote: Enumerating objects: 335, done.\u001b[K\n",
            "remote: Counting objects: 100% (201/201), done.\u001b[K\n",
            "remote: Compressing objects: 100% (117/117), done.\u001b[K\n",
            "remote: Total 335 (delta 132), reused 129 (delta 84), pack-reused 134\u001b[K\n",
            "Receiving objects: 100% (335/335), 98.52 KiB | 4.69 MiB/s, done.\n",
            "Resolving deltas: 100% (209/209), done.\n"
          ]
        }
      ],
      "source": [
        "!git clone -b count_params_iteratively \"https://github.com/ab7289-tandon-nyu/csgy6953_DeepLearning_Midterm.git\""
      ]
    },
    {
      "cell_type": "code",
      "source": [
        "!ls \"csgy6953_DeepLearning_Midterm\""
      ],
      "metadata": {
        "colab": {
          "base_uri": "https://localhost:8080/"
        },
        "id": "-Xe59zmCwWfK",
        "outputId": "c7549242-1777-45a9-d1c4-709f0dd8df94"
      },
      "execution_count": 4,
      "outputs": [
        {
          "output_type": "stream",
          "name": "stdout",
          "text": [
            "docs\t notebooks\t README.md\t   setup.py\n",
            "LICENSE  pyproject.toml  requirements.txt  src\n"
          ]
        }
      ]
    },
    {
      "cell_type": "code",
      "source": [
        "!cp -r /content/csgy6953_DeepLearning_Midterm/src/ ."
      ],
      "metadata": {
        "id": "olwdqh2TwFP5"
      },
      "execution_count": 5,
      "outputs": []
    },
    {
      "cell_type": "code",
      "source": [
        "!cat \"csgy6953_DeepLearning_Midterm/src/utils.py\""
      ],
      "metadata": {
        "colab": {
          "base_uri": "https://localhost:8080/"
        },
        "id": "8m9lXGjAwfOP",
        "outputId": "1b264131-50cf-425a-e548-0231e110ccf9"
      },
      "execution_count": 6,
      "outputs": [
        {
          "output_type": "stream",
          "name": "stdout",
          "text": [
            "import torch\n",
            "from torch import nn\n",
            "from typing import Tuple\n",
            "\n",
            "# precondition: any lazy convolutional layers \n",
            "# have been converted to normal convolution layers, \n",
            "# for example by passing a dummy input tensor through the model \n",
            "def initialize_parameters(m: nn.Module) -> None:\n",
            "    if isinstance(m, nn.Conv2d):\n",
            "        nn.init.kaiming_normal_(m.weight.data, nonlinearity = 'relu')\n",
            "        if m.bias is not None:\n",
            "            nn.init.constant_(m.bias.data, 0)\n",
            "    elif isinstance(m, nn.Linear):\n",
            "        nn.init.xavier_normal_(m.weight.data, gain = nn.init.calculate_gain('relu'))\n",
            "        if m.bias is not None:\n",
            "            nn.init.constant_(m.bias.data, 0)\n",
            "\n",
            "\n",
            "def epoch_time(start_time, end_time):\n",
            "    elapsed_time = end_time - start_time\n",
            "    elapsed_mins = int(elapsed_time / 60)\n",
            "    elapsed_secs = int(elapsed_time - (elapsed_mins * 60))\n",
            "    return elapsed_mins, elapsed_secs\n",
            "\n",
            "\n",
            "def count_parameters(model: nn.Module) -> Tuple[int, int]:\n",
            "    '''Count total parameters and trainable parameters of a given model'''\n",
            "    num_parameters = 0\n",
            "    num_parameters_requiring_grad = 0\n",
            "    for p in model.parameters():\n",
            "        numel = p.numel()\n",
            "        num_parameters += numel\n",
            "        if p.requires_grad:\n",
            "            num_parameters_requiring_grad += numel\n",
            "    return num_parameters, num_parameters_requiring_grad\n"
          ]
        }
      ]
    },
    {
      "cell_type": "code",
      "source": [],
      "metadata": {
        "id": "PL--ihVnwilP"
      },
      "execution_count": null,
      "outputs": []
    },
    {
      "cell_type": "code",
      "source": [],
      "metadata": {
        "id": "4hG8rB0dwk6w"
      },
      "execution_count": null,
      "outputs": []
    },
    {
      "cell_type": "code",
      "source": [
        "from src.model import ResNet, StemConfig\n",
        "from src.utils import initialize_parameters, epoch_time\n",
        "\n",
        "model_architecture = (\n",
        "    (1, 128, 0.5),\n",
        "    (2, 128, 0.5),\n",
        "    (2, 128, 0.5),\n",
        "    (2, 128, 0.5),\n",
        "    (2, 196, 0.5),\n",
        "    (2, 196, 0.5),\n",
        ")\n",
        "\n",
        "stem_config = StemConfig(num_channels=128, kernel_size=5, stride=1, padding=2)\n",
        "model = ResNet(model_architecture, stem_config=stem_config, output_size=10)"
      ],
      "metadata": {
        "colab": {
          "base_uri": "https://localhost:8080/"
        },
        "id": "FF_UKWmEwlMv",
        "outputId": "885afdfa-7aec-46e3-a378-88e87e87422c"
      },
      "execution_count": 8,
      "outputs": [
        {
          "output_type": "stream",
          "name": "stderr",
          "text": [
            "/usr/local/lib/python3.7/dist-packages/torch/nn/modules/lazy.py:178: UserWarning: Lazy modules are a new feature under heavy development so changes to the API or functionality can happen at any moment.\n",
            "  warnings.warn('Lazy modules are a new feature under heavy development '\n"
          ]
        }
      ]
    },
    {
      "cell_type": "code",
      "source": [
        "  BATCH_SIZE = 128\n",
        "  device = torch.device(\"cuda\" if torch.cuda.is_available() else \"cpu\")\n",
        "  \n",
        "  import torch\n",
        "\n",
        "  # intialize a new model\n",
        "  inputs = torch.empty((BATCH_SIZE, 3, 32, 32))\n",
        "  inputs.normal_()\n",
        "  model = model.to(device)\n",
        "  y = model(inputs.to(device))\n",
        "  print(y.size())"
      ],
      "metadata": {
        "colab": {
          "base_uri": "https://localhost:8080/"
        },
        "id": "LaJAKoyvw6f9",
        "outputId": "f34f2ac4-821e-4afb-c4d1-4125a6056b98"
      },
      "execution_count": 14,
      "outputs": [
        {
          "output_type": "stream",
          "name": "stdout",
          "text": [
            "torch.Size([128, 10])\n"
          ]
        }
      ]
    },
    {
      "cell_type": "code",
      "source": [
        "from src.utils import count_parameters\n",
        "\n",
        "count_parameters(model)"
      ],
      "metadata": {
        "colab": {
          "base_uri": "https://localhost:8080/"
        },
        "id": "W6uMtxj1woI4",
        "outputId": "c62fb612-07ae-4c1d-f899-019a2bd32e73"
      },
      "execution_count": 15,
      "outputs": [
        {
          "output_type": "execute_result",
          "data": {
            "text/plain": [
              "(4845850, 4845850)"
            ]
          },
          "metadata": {},
          "execution_count": 15
        }
      ]
    },
    {
      "cell_type": "code",
      "source": [
        "import torch.nn as nn\n",
        "\n",
        "isinstance(model, nn.Module)"
      ],
      "metadata": {
        "colab": {
          "base_uri": "https://localhost:8080/"
        },
        "id": "exkG6n2ew5gw",
        "outputId": "e66ac978-87f5-4585-df6d-969ff3fd1418"
      },
      "execution_count": 17,
      "outputs": [
        {
          "output_type": "execute_result",
          "data": {
            "text/plain": [
              "True"
            ]
          },
          "metadata": {},
          "execution_count": 17
        }
      ]
    },
    {
      "cell_type": "code",
      "source": [],
      "metadata": {
        "id": "9fIUciCQxM7b"
      },
      "execution_count": null,
      "outputs": []
    }
  ]
}