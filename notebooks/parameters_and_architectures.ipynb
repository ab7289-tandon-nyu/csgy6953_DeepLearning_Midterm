{
  "nbformat": 4,
  "nbformat_minor": 0,
  "metadata": {
    "colab": {
      "provenance": [],
      "authorship_tag": "ABX9TyMuf29+FoI9BDIyD7kcC3dp",
      "include_colab_link": true
    },
    "kernelspec": {
      "name": "python3",
      "display_name": "Python 3"
    },
    "language_info": {
      "name": "python"
    }
  },
  "cells": [
    {
      "cell_type": "markdown",
      "metadata": {
        "id": "view-in-github",
        "colab_type": "text"
      },
      "source": [
        "<a href=\"https://colab.research.google.com/github/ab7289-tandon-nyu/csgy6953_DeepLearning_Midterm/blob/count_params_visualize_archs/notebooks/parameters_and_architectures.ipynb\" target=\"_parent\"><img src=\"https://colab.research.google.com/assets/colab-badge.svg\" alt=\"Open In Colab\"/></a>"
      ]
    },
    {
      "cell_type": "code",
      "source": [
        "!pip install torch-summary==1.4.5"
      ],
      "metadata": {
        "colab": {
          "base_uri": "https://localhost:8080/"
        },
        "id": "YBc5iTQutZ2c",
        "outputId": "eb8820e5-32e6-46d9-eeaf-94a1291c8a30"
      },
      "execution_count": 1,
      "outputs": [
        {
          "output_type": "stream",
          "name": "stdout",
          "text": [
            "Looking in indexes: https://pypi.org/simple, https://us-python.pkg.dev/colab-wheels/public/simple/\n",
            "Collecting torch-summary==1.4.5\n",
            "  Downloading torch_summary-1.4.5-py3-none-any.whl (16 kB)\n",
            "Installing collected packages: torch-summary\n",
            "Successfully installed torch-summary-1.4.5\n"
          ]
        }
      ]
    },
    {
      "cell_type": "code",
      "execution_count": 4,
      "metadata": {
        "id": "o3mPf-6LsvgN"
      },
      "outputs": [],
      "source": [
        "import torch\n",
        "from torchsummary import summary"
      ]
    },
    {
      "cell_type": "code",
      "source": [
        "QUIET_VERBOSE = 0  # as in torchsummary.summary"
      ],
      "metadata": {
        "id": "dYBh1LPnurE1"
      },
      "execution_count": 6,
      "outputs": []
    },
    {
      "cell_type": "code",
      "source": [
        "cifar10_one_sample = torch.rand((3, 32, 32)) # RGB, 32x32"
      ],
      "metadata": {
        "id": "30yN9f9vuYNm"
      },
      "execution_count": 5,
      "outputs": []
    },
    {
      "cell_type": "markdown",
      "source": [
        "# Final Architecture\n",
        "Our final architecture"
      ],
      "metadata": {
        "id": "A3AOhp_Qtjjw"
      }
    },
    {
      "cell_type": "code",
      "source": [],
      "metadata": {
        "id": "SSLMMZIOtjYo"
      },
      "execution_count": null,
      "outputs": []
    },
    {
      "cell_type": "code",
      "source": [],
      "metadata": {
        "id": "iG1g2ehGtjVY"
      },
      "execution_count": null,
      "outputs": []
    },
    {
      "cell_type": "markdown",
      "source": [
        "# Other Architectures\n",
        "Other architectures that we have tried"
      ],
      "metadata": {
        "id": "GtiMYJlltsLU"
      }
    },
    {
      "cell_type": "code",
      "source": [],
      "metadata": {
        "id": "PhK-hOpAtjRI"
      },
      "execution_count": null,
      "outputs": []
    },
    {
      "cell_type": "code",
      "source": [],
      "metadata": {
        "id": "iv4lMb07tjME"
      },
      "execution_count": null,
      "outputs": []
    },
    {
      "cell_type": "markdown",
      "source": [
        "# Notable Architectures\n",
        "Wellknown architectures based on published papers"
      ],
      "metadata": {
        "id": "5eCRR6AYtntw"
      }
    },
    {
      "cell_type": "code",
      "source": [
        "from torchvision.models import resnet18\n",
        "from torchvision.models import resnet34\n",
        "from torchvision.models import resnet50\n",
        "from torchvision.models import resnet101\n",
        "from torchvision.models import resnet152"
      ],
      "metadata": {
        "id": "T8hZiRvhuGNH"
      },
      "execution_count": 2,
      "outputs": []
    },
    {
      "cell_type": "code",
      "source": [
        "resnet18_model  = resnet18()\n",
        "resnet34_model  = resnet34()\n",
        "resnet50_model  = resnet50()\n",
        "resnet101_model = resnet101()\n",
        "resnet152_model = resnet152()"
      ],
      "metadata": {
        "id": "1F0nIk22tjE8"
      },
      "execution_count": 8,
      "outputs": []
    },
    {
      "cell_type": "code",
      "source": [
        "resnet18_modelstatistics  = summary(resnet18_model,  cifar10_one_sample.shape, verbose = QUIET_VERBOSE)\n",
        "resnet34_modelstatistics  = summary(resnet34_model,  cifar10_one_sample.shape, verbose = QUIET_VERBOSE)\n",
        "resnet50_modelstatistics  = summary(resnet50_model,  cifar10_one_sample.shape, verbose = QUIET_VERBOSE)\n",
        "resnet101_modelstatistics = summary(resnet101_model, cifar10_one_sample.shape, verbose = QUIET_VERBOSE)\n",
        "resnet152_modelstatistics = summary(resnet152_model, cifar10_one_sample.shape, verbose = QUIET_VERBOSE)"
      ],
      "metadata": {
        "id": "SWpXTA2buIIc"
      },
      "execution_count": 13,
      "outputs": []
    },
    {
      "cell_type": "code",
      "source": [
        "print('resnet18 ', f'{resnet18_modelstatistics.total_params:,}')\n",
        "print('resnet34 ', f'{resnet34_modelstatistics.total_params:,}')\n",
        "print('resnet50 ', f'{resnet50_modelstatistics.total_params:,}')\n",
        "print('resnet101', f'{resnet101_modelstatistics.total_params:,}')\n",
        "print('resnet152', f'{resnet152_modelstatistics.total_params:,}')"
      ],
      "metadata": {
        "colab": {
          "base_uri": "https://localhost:8080/"
        },
        "id": "0SzQwNjxuI9z",
        "outputId": "6015ac64-875b-4a6b-aabe-c009ec4de547"
      },
      "execution_count": 14,
      "outputs": [
        {
          "output_type": "stream",
          "name": "stdout",
          "text": [
            "resnet18  11,689,512\n",
            "resnet34  21,797,672\n",
            "resnet50  25,557,032\n",
            "resnet101 44,549,160\n",
            "resnet152 60,192,808\n"
          ]
        }
      ]
    }
  ]
}