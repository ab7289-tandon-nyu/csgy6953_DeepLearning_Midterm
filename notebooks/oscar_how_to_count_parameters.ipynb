{
  "nbformat": 4,
  "nbformat_minor": 0,
  "metadata": {
    "colab": {
      "provenance": [],
      "collapsed_sections": [],
      "toc_visible": true,
      "authorship_tag": "ABX9TyME6RAFqaQdQKdg/IBpbFGD",
      "include_colab_link": true
    },
    "kernelspec": {
      "name": "python3",
      "display_name": "Python 3"
    },
    "language_info": {
      "name": "python"
    }
  },
  "cells": [
    {
      "cell_type": "markdown",
      "metadata": {
        "id": "view-in-github",
        "colab_type": "text"
      },
      "source": [
        "<a href=\"https://colab.research.google.com/github/ab7289-tandon-nyu/csgy6953_DeepLearning_Midterm/blob/oscar1/notebooks/how_to_count_parameters.ipynb\" target=\"_parent\"><img src=\"https://colab.research.google.com/assets/colab-badge.svg\" alt=\"Open In Colab\"/></a>"
      ]
    },
    {
      "cell_type": "code",
      "source": [
        "import torch\n",
        "# in order to create an example input tensor\n",
        "# in order to detect torch.device"
      ],
      "metadata": {
        "id": "F33eOq_fNJ16"
      },
      "execution_count": null,
      "outputs": []
    },
    {
      "cell_type": "markdown",
      "source": [
        "# How-Tos"
      ],
      "metadata": {
        "id": "RzUNdeqFKBAo"
      }
    },
    {
      "cell_type": "markdown",
      "source": [
        "## How to count = torchsummary"
      ],
      "metadata": {
        "id": "O7X9PDsIHbmV"
      }
    },
    {
      "cell_type": "markdown",
      "source": [
        "Note: 2022.11/5(6)_p02.55\n",
        "* Google Colab's default torch-summary is out of date\n",
        "  * its `summary` function does not have the `verbose` parameter, which I need\n",
        "* What didn't work:\n",
        "  * `pip install torchinfo`\n",
        "    * `torchinfo`'s `summary` expects 4d `input_data` (shape), not the documentation's 3d `input_data`"
      ],
      "metadata": {
        "id": "6X2VmZGcJXJv"
      }
    },
    {
      "cell_type": "code",
      "source": [
        "pip install torch-summary==1.4.5"
      ],
      "metadata": {
        "id": "nevLU981IvyE",
        "colab": {
          "base_uri": "https://localhost:8080/"
        },
        "outputId": "bf8db034-801c-4957-f85a-0e88b4322104"
      },
      "execution_count": null,
      "outputs": [
        {
          "output_type": "stream",
          "name": "stdout",
          "text": [
            "Looking in indexes: https://pypi.org/simple, https://us-python.pkg.dev/colab-wheels/public/simple/\n",
            "Requirement already satisfied: torch-summary==1.4.5 in /usr/local/lib/python3.7/dist-packages (1.4.5)\n"
          ]
        }
      ]
    },
    {
      "cell_type": "markdown",
      "source": [
        "output 2022.11/5(6)_p02.54:\n",
        "```\n",
        "Looking in indexes: https://pypi.org/simple, https://us-python.pkg.dev/colab-wheels/public/simple/\n",
        "Collecting torch-summary==1.4.5\n",
        "  Using cached torch_summary-1.4.5-py3-none-any.whl (16 kB)\n",
        "Installing collected packages: torch-summary\n",
        "Successfully installed torch-summary-1.4.5\n",
        "```"
      ],
      "metadata": {
        "id": "I-lwS3b-JGnY"
      }
    },
    {
      "cell_type": "code",
      "source": [
        "from torchsummary import summary"
      ],
      "metadata": {
        "id": "4I-1LYZtHe7F"
      },
      "execution_count": null,
      "outputs": []
    },
    {
      "cell_type": "code",
      "source": [
        "# view the function's parameters\n",
        "summary"
      ],
      "metadata": {
        "colab": {
          "base_uri": "https://localhost:8080/"
        },
        "id": "x4iqLsy9JPJb",
        "outputId": "7d056fae-aa8e-45bd-cb54-a9c363cbc45e"
      },
      "execution_count": null,
      "outputs": [
        {
          "output_type": "execute_result",
          "data": {
            "text/plain": [
              "<function torchsummary.torchsummary.summary(model: torch.nn.modules.module.Module, input_data: Union[torch.Tensor, torch.Size, Sequence[torch.Tensor], Sequence[Union[int, Sequence[Any], torch.Size]], NoneType] = None, *args: Any, batch_dim: Union[int, NoneType] = 0, branching: bool = True, col_names: Union[Iterable[str], NoneType] = None, col_width: int = 25, depth: int = 3, device: Union[torch.device, NoneType] = None, dtypes: Union[List[torch.dtype], NoneType] = None, verbose: int = 1, **kwargs: Any) -> torchsummary.model_statistics.ModelStatistics>"
            ]
          },
          "metadata": {},
          "execution_count": 4
        }
      ]
    },
    {
      "cell_type": "markdown",
      "source": [
        "### summary()'s parameter: input_data"
      ],
      "metadata": {
        "id": "GW2BaZ6aL7wv"
      }
    },
    {
      "cell_type": "markdown",
      "source": [
        "`input_data` (Sequence of Sizes or Tensors):\n",
        "* Example input tensor of the model (dtypes inferred from model input)\n",
        "* *OR*\n",
        "* Shape of input data as a List/Tuple/torch.Size\n",
        "  * (dtypes must match model input, default is FloatTensors).\n",
        "  * **You should NOT include batch size in the tuple**\n",
        "* *OR*\n",
        "* If `input_data` is NOT provided, \n",
        "  * NO forward pass through the network is performed, and \n",
        "  * the provided model information is limited to layer names.\n",
        "* Default: None"
      ],
      "metadata": {
        "id": "_Ig610AHL_-Q"
      }
    },
    {
      "cell_type": "markdown",
      "source": [
        "## How to count = loop parameters"
      ],
      "metadata": {
        "id": "M9DJeeszNlv0"
      }
    },
    {
      "cell_type": "markdown",
      "source": [
        "Source: branch=main > scratch.ipynb <br>\n",
        "`print(f\"num params: {sum([p.numel() for p in model.parameters() if p.requires_grad]):,}\")`"
      ],
      "metadata": {
        "id": "25JdeFNsNwFD"
      }
    },
    {
      "cell_type": "code",
      "source": [
        "def count_parameters(model):\n",
        "\n",
        "    num_parameters = 0\n",
        "    num_parameters_requiring_grad = 0\n",
        "\n",
        "    for p in model.parameters():\n",
        "\n",
        "        numel = p.numel()\n",
        "\n",
        "        num_parameters += numel\n",
        "\n",
        "        if p.requires_grad:\n",
        "            num_parameters_requiring_grad += numel\n",
        "\n",
        "    return num_parameters, num_parameters_requiring_grad"
      ],
      "metadata": {
        "id": "KH8WrIKNNn0I"
      },
      "execution_count": null,
      "outputs": []
    },
    {
      "cell_type": "markdown",
      "source": [
        "## Model = created by PyTorch"
      ],
      "metadata": {
        "id": "f04aTMSaGJ5m"
      }
    },
    {
      "cell_type": "markdown",
      "source": [
        "### from torchvision.models import resnet18"
      ],
      "metadata": {
        "id": "WS8btcrHPWYX"
      }
    },
    {
      "cell_type": "code",
      "execution_count": null,
      "metadata": {
        "id": "vZQDBqESGC9B"
      },
      "outputs": [],
      "source": [
        "from torchvision.models import resnet18\n",
        "from torchvision.models import resnet34\n",
        "from torchvision.models import resnet50"
      ]
    },
    {
      "cell_type": "markdown",
      "source": [
        "PyTorch's source code: <br>\n",
        "(https://github.com/pytorch/vision/blob/main/torchvision/models/resnet.py)\n",
        "\n",
        "```\n",
        "class ResNet18_Weights(WeightsEnum):\n",
        "    IMAGENET1K_V1 = Weights(\n",
        "        url=\"https://download.pytorch.org/models/resnet18-f37072fd.pth\",\n",
        "        transforms=partial(ImageClassification, crop_size=224),\n",
        "        meta={\n",
        "            **_COMMON_META,\n",
        "            \"num_params\": 11689512,\n",
        "```\n",
        "```\n",
        "class ResNet34_Weights(WeightsEnum):\n",
        "    IMAGENET1K_V1 = Weights(\n",
        "        url=\"https://download.pytorch.org/models/resnet34-b627a593.pth\",\n",
        "        transforms=partial(ImageClassification, crop_size=224),\n",
        "        meta={\n",
        "            **_COMMON_META,\n",
        "            \"num_params\": 21797672,\n",
        "```\n",
        "```\n",
        "class ResNet50_Weights(WeightsEnum):\n",
        "    IMAGENET1K_V1 = Weights(\n",
        "        url=\"https://download.pytorch.org/models/resnet50-0676ba61.pth\",\n",
        "        transforms=partial(ImageClassification, crop_size=224),\n",
        "        meta={\n",
        "            **_COMMON_META,\n",
        "            \"num_params\": 25557032,\n",
        "```"
      ],
      "metadata": {
        "id": "hPBYuisGGmXC"
      }
    },
    {
      "cell_type": "code",
      "source": [
        "resnet18_model = resnet18()\n",
        "resnet34_model = resnet34()\n",
        "resnet50_model = resnet50()"
      ],
      "metadata": {
        "id": "wKsqLROaGTMd"
      },
      "execution_count": null,
      "outputs": []
    },
    {
      "cell_type": "markdown",
      "source": [
        "### print(resnet18_model)"
      ],
      "metadata": {
        "id": "-Wf_g78DYNkj"
      }
    },
    {
      "cell_type": "code",
      "source": [
        "print(resnet18_model)"
      ],
      "metadata": {
        "colab": {
          "base_uri": "https://localhost:8080/"
        },
        "id": "ieg9-r7QaZ8v",
        "outputId": "9f40ce95-3bfd-472f-d90b-b48b8da4c0c5"
      },
      "execution_count": null,
      "outputs": [
        {
          "output_type": "stream",
          "name": "stdout",
          "text": [
            "ResNet(\n",
            "  (conv1): Conv2d(3, 64, kernel_size=(7, 7), stride=(2, 2), padding=(3, 3), bias=False)\n",
            "  (bn1): BatchNorm2d(64, eps=1e-05, momentum=0.1, affine=True, track_running_stats=True)\n",
            "  (relu): ReLU(inplace=True)\n",
            "  (maxpool): MaxPool2d(kernel_size=3, stride=2, padding=1, dilation=1, ceil_mode=False)\n",
            "  (layer1): Sequential(\n",
            "    (0): BasicBlock(\n",
            "      (conv1): Conv2d(64, 64, kernel_size=(3, 3), stride=(1, 1), padding=(1, 1), bias=False)\n",
            "      (bn1): BatchNorm2d(64, eps=1e-05, momentum=0.1, affine=True, track_running_stats=True)\n",
            "      (relu): ReLU(inplace=True)\n",
            "      (conv2): Conv2d(64, 64, kernel_size=(3, 3), stride=(1, 1), padding=(1, 1), bias=False)\n",
            "      (bn2): BatchNorm2d(64, eps=1e-05, momentum=0.1, affine=True, track_running_stats=True)\n",
            "    )\n",
            "    (1): BasicBlock(\n",
            "      (conv1): Conv2d(64, 64, kernel_size=(3, 3), stride=(1, 1), padding=(1, 1), bias=False)\n",
            "      (bn1): BatchNorm2d(64, eps=1e-05, momentum=0.1, affine=True, track_running_stats=True)\n",
            "      (relu): ReLU(inplace=True)\n",
            "      (conv2): Conv2d(64, 64, kernel_size=(3, 3), stride=(1, 1), padding=(1, 1), bias=False)\n",
            "      (bn2): BatchNorm2d(64, eps=1e-05, momentum=0.1, affine=True, track_running_stats=True)\n",
            "    )\n",
            "  )\n",
            "  (layer2): Sequential(\n",
            "    (0): BasicBlock(\n",
            "      (conv1): Conv2d(64, 128, kernel_size=(3, 3), stride=(2, 2), padding=(1, 1), bias=False)\n",
            "      (bn1): BatchNorm2d(128, eps=1e-05, momentum=0.1, affine=True, track_running_stats=True)\n",
            "      (relu): ReLU(inplace=True)\n",
            "      (conv2): Conv2d(128, 128, kernel_size=(3, 3), stride=(1, 1), padding=(1, 1), bias=False)\n",
            "      (bn2): BatchNorm2d(128, eps=1e-05, momentum=0.1, affine=True, track_running_stats=True)\n",
            "      (downsample): Sequential(\n",
            "        (0): Conv2d(64, 128, kernel_size=(1, 1), stride=(2, 2), bias=False)\n",
            "        (1): BatchNorm2d(128, eps=1e-05, momentum=0.1, affine=True, track_running_stats=True)\n",
            "      )\n",
            "    )\n",
            "    (1): BasicBlock(\n",
            "      (conv1): Conv2d(128, 128, kernel_size=(3, 3), stride=(1, 1), padding=(1, 1), bias=False)\n",
            "      (bn1): BatchNorm2d(128, eps=1e-05, momentum=0.1, affine=True, track_running_stats=True)\n",
            "      (relu): ReLU(inplace=True)\n",
            "      (conv2): Conv2d(128, 128, kernel_size=(3, 3), stride=(1, 1), padding=(1, 1), bias=False)\n",
            "      (bn2): BatchNorm2d(128, eps=1e-05, momentum=0.1, affine=True, track_running_stats=True)\n",
            "    )\n",
            "  )\n",
            "  (layer3): Sequential(\n",
            "    (0): BasicBlock(\n",
            "      (conv1): Conv2d(128, 256, kernel_size=(3, 3), stride=(2, 2), padding=(1, 1), bias=False)\n",
            "      (bn1): BatchNorm2d(256, eps=1e-05, momentum=0.1, affine=True, track_running_stats=True)\n",
            "      (relu): ReLU(inplace=True)\n",
            "      (conv2): Conv2d(256, 256, kernel_size=(3, 3), stride=(1, 1), padding=(1, 1), bias=False)\n",
            "      (bn2): BatchNorm2d(256, eps=1e-05, momentum=0.1, affine=True, track_running_stats=True)\n",
            "      (downsample): Sequential(\n",
            "        (0): Conv2d(128, 256, kernel_size=(1, 1), stride=(2, 2), bias=False)\n",
            "        (1): BatchNorm2d(256, eps=1e-05, momentum=0.1, affine=True, track_running_stats=True)\n",
            "      )\n",
            "    )\n",
            "    (1): BasicBlock(\n",
            "      (conv1): Conv2d(256, 256, kernel_size=(3, 3), stride=(1, 1), padding=(1, 1), bias=False)\n",
            "      (bn1): BatchNorm2d(256, eps=1e-05, momentum=0.1, affine=True, track_running_stats=True)\n",
            "      (relu): ReLU(inplace=True)\n",
            "      (conv2): Conv2d(256, 256, kernel_size=(3, 3), stride=(1, 1), padding=(1, 1), bias=False)\n",
            "      (bn2): BatchNorm2d(256, eps=1e-05, momentum=0.1, affine=True, track_running_stats=True)\n",
            "    )\n",
            "  )\n",
            "  (layer4): Sequential(\n",
            "    (0): BasicBlock(\n",
            "      (conv1): Conv2d(256, 512, kernel_size=(3, 3), stride=(2, 2), padding=(1, 1), bias=False)\n",
            "      (bn1): BatchNorm2d(512, eps=1e-05, momentum=0.1, affine=True, track_running_stats=True)\n",
            "      (relu): ReLU(inplace=True)\n",
            "      (conv2): Conv2d(512, 512, kernel_size=(3, 3), stride=(1, 1), padding=(1, 1), bias=False)\n",
            "      (bn2): BatchNorm2d(512, eps=1e-05, momentum=0.1, affine=True, track_running_stats=True)\n",
            "      (downsample): Sequential(\n",
            "        (0): Conv2d(256, 512, kernel_size=(1, 1), stride=(2, 2), bias=False)\n",
            "        (1): BatchNorm2d(512, eps=1e-05, momentum=0.1, affine=True, track_running_stats=True)\n",
            "      )\n",
            "    )\n",
            "    (1): BasicBlock(\n",
            "      (conv1): Conv2d(512, 512, kernel_size=(3, 3), stride=(1, 1), padding=(1, 1), bias=False)\n",
            "      (bn1): BatchNorm2d(512, eps=1e-05, momentum=0.1, affine=True, track_running_stats=True)\n",
            "      (relu): ReLU(inplace=True)\n",
            "      (conv2): Conv2d(512, 512, kernel_size=(3, 3), stride=(1, 1), padding=(1, 1), bias=False)\n",
            "      (bn2): BatchNorm2d(512, eps=1e-05, momentum=0.1, affine=True, track_running_stats=True)\n",
            "    )\n",
            "  )\n",
            "  (avgpool): AdaptiveAvgPool2d(output_size=(1, 1))\n",
            "  (fc): Linear(in_features=512, out_features=1000, bias=True)\n",
            ")\n"
          ]
        }
      ]
    },
    {
      "cell_type": "markdown",
      "source": [
        "## Model = textbook via Alex"
      ],
      "metadata": {
        "id": "Pq_XEjANPeV7"
      }
    },
    {
      "cell_type": "markdown",
      "source": [
        "### install from github"
      ],
      "metadata": {
        "id": "G-21z36pYeGn"
      }
    },
    {
      "cell_type": "code",
      "source": [
        "pip install -U \"git+https://github.com/ab7289-tandon-nyu/csgy6953_DeepLearning_Midterm.git\""
      ],
      "metadata": {
        "colab": {
          "base_uri": "https://localhost:8080/"
        },
        "id": "2AXLaXkOHZqL",
        "outputId": "d2ae097c-cf36-41d4-d603-7c0d22a68794"
      },
      "execution_count": null,
      "outputs": [
        {
          "output_type": "stream",
          "name": "stdout",
          "text": [
            "Looking in indexes: https://pypi.org/simple, https://us-python.pkg.dev/colab-wheels/public/simple/\n",
            "Collecting git+https://github.com/ab7289-tandon-nyu/csgy6953_DeepLearning_Midterm.git\n",
            "  Cloning https://github.com/ab7289-tandon-nyu/csgy6953_DeepLearning_Midterm.git to /tmp/pip-req-build-s47juvkp\n",
            "  Running command git clone -q https://github.com/ab7289-tandon-nyu/csgy6953_DeepLearning_Midterm.git /tmp/pip-req-build-s47juvkp\n",
            "  Installing build dependencies ... \u001b[?25l\u001b[?25hdone\n",
            "  Getting requirements to build wheel ... \u001b[?25l\u001b[?25hdone\n",
            "    Preparing wheel metadata ... \u001b[?25l\u001b[?25hdone\n",
            "Requirement already satisfied: torchvision in /usr/local/lib/python3.7/dist-packages (from ResNetSrc==0.0.1.dev0) (0.13.1+cu113)\n",
            "Requirement already satisfied: notebook in /usr/local/lib/python3.7/dist-packages (from ResNetSrc==0.0.1.dev0) (5.5.0)\n",
            "Requirement already satisfied: matplotlib in /usr/local/lib/python3.7/dist-packages (from ResNetSrc==0.0.1.dev0) (3.2.2)\n",
            "Requirement already satisfied: jupyter in /usr/local/lib/python3.7/dist-packages (from ResNetSrc==0.0.1.dev0) (1.0.0)\n",
            "Requirement already satisfied: torch-summary in /usr/local/lib/python3.7/dist-packages (from ResNetSrc==0.0.1.dev0) (1.4.5)\n",
            "Requirement already satisfied: torch in /usr/local/lib/python3.7/dist-packages (from ResNetSrc==0.0.1.dev0) (1.12.1+cu113)\n",
            "Requirement already satisfied: qtconsole in /usr/local/lib/python3.7/dist-packages (from jupyter->ResNetSrc==0.0.1.dev0) (5.4.0)\n",
            "Requirement already satisfied: jupyter-console in /usr/local/lib/python3.7/dist-packages (from jupyter->ResNetSrc==0.0.1.dev0) (6.1.0)\n",
            "Requirement already satisfied: nbconvert in /usr/local/lib/python3.7/dist-packages (from jupyter->ResNetSrc==0.0.1.dev0) (5.6.1)\n",
            "Requirement already satisfied: ipywidgets in /usr/local/lib/python3.7/dist-packages (from jupyter->ResNetSrc==0.0.1.dev0) (7.7.1)\n",
            "Requirement already satisfied: ipykernel in /usr/local/lib/python3.7/dist-packages (from jupyter->ResNetSrc==0.0.1.dev0) (5.3.4)\n",
            "Requirement already satisfied: ipython>=5.0.0 in /usr/local/lib/python3.7/dist-packages (from ipykernel->jupyter->ResNetSrc==0.0.1.dev0) (7.9.0)\n",
            "Requirement already satisfied: tornado>=4.2 in /usr/local/lib/python3.7/dist-packages (from ipykernel->jupyter->ResNetSrc==0.0.1.dev0) (5.1.1)\n",
            "Requirement already satisfied: jupyter-client in /usr/local/lib/python3.7/dist-packages (from ipykernel->jupyter->ResNetSrc==0.0.1.dev0) (6.1.12)\n",
            "Requirement already satisfied: traitlets>=4.1.0 in /usr/local/lib/python3.7/dist-packages (from ipykernel->jupyter->ResNetSrc==0.0.1.dev0) (5.1.1)\n",
            "Requirement already satisfied: pexpect in /usr/local/lib/python3.7/dist-packages (from ipython>=5.0.0->ipykernel->jupyter->ResNetSrc==0.0.1.dev0) (4.8.0)\n",
            "Requirement already satisfied: setuptools>=18.5 in /usr/local/lib/python3.7/dist-packages (from ipython>=5.0.0->ipykernel->jupyter->ResNetSrc==0.0.1.dev0) (57.4.0)\n",
            "Requirement already satisfied: backcall in /usr/local/lib/python3.7/dist-packages (from ipython>=5.0.0->ipykernel->jupyter->ResNetSrc==0.0.1.dev0) (0.2.0)\n",
            "Requirement already satisfied: pygments in /usr/local/lib/python3.7/dist-packages (from ipython>=5.0.0->ipykernel->jupyter->ResNetSrc==0.0.1.dev0) (2.6.1)\n",
            "Requirement already satisfied: decorator in /usr/local/lib/python3.7/dist-packages (from ipython>=5.0.0->ipykernel->jupyter->ResNetSrc==0.0.1.dev0) (4.4.2)\n",
            "Requirement already satisfied: pickleshare in /usr/local/lib/python3.7/dist-packages (from ipython>=5.0.0->ipykernel->jupyter->ResNetSrc==0.0.1.dev0) (0.7.5)\n",
            "Requirement already satisfied: jedi>=0.10 in /usr/local/lib/python3.7/dist-packages (from ipython>=5.0.0->ipykernel->jupyter->ResNetSrc==0.0.1.dev0) (0.18.1)\n",
            "Requirement already satisfied: prompt-toolkit<2.1.0,>=2.0.0 in /usr/local/lib/python3.7/dist-packages (from ipython>=5.0.0->ipykernel->jupyter->ResNetSrc==0.0.1.dev0) (2.0.10)\n",
            "Requirement already satisfied: parso<0.9.0,>=0.8.0 in /usr/local/lib/python3.7/dist-packages (from jedi>=0.10->ipython>=5.0.0->ipykernel->jupyter->ResNetSrc==0.0.1.dev0) (0.8.3)\n",
            "Requirement already satisfied: six>=1.9.0 in /usr/local/lib/python3.7/dist-packages (from prompt-toolkit<2.1.0,>=2.0.0->ipython>=5.0.0->ipykernel->jupyter->ResNetSrc==0.0.1.dev0) (1.15.0)\n",
            "Requirement already satisfied: wcwidth in /usr/local/lib/python3.7/dist-packages (from prompt-toolkit<2.1.0,>=2.0.0->ipython>=5.0.0->ipykernel->jupyter->ResNetSrc==0.0.1.dev0) (0.2.5)\n",
            "Requirement already satisfied: jupyterlab-widgets>=1.0.0 in /usr/local/lib/python3.7/dist-packages (from ipywidgets->jupyter->ResNetSrc==0.0.1.dev0) (3.0.3)\n",
            "Requirement already satisfied: widgetsnbextension~=3.6.0 in /usr/local/lib/python3.7/dist-packages (from ipywidgets->jupyter->ResNetSrc==0.0.1.dev0) (3.6.1)\n",
            "Requirement already satisfied: ipython-genutils~=0.2.0 in /usr/local/lib/python3.7/dist-packages (from ipywidgets->jupyter->ResNetSrc==0.0.1.dev0) (0.2.0)\n",
            "Requirement already satisfied: Send2Trash in /usr/local/lib/python3.7/dist-packages (from notebook->ResNetSrc==0.0.1.dev0) (1.8.0)\n",
            "Requirement already satisfied: jinja2 in /usr/local/lib/python3.7/dist-packages (from notebook->ResNetSrc==0.0.1.dev0) (2.11.3)\n",
            "Requirement already satisfied: jupyter-core>=4.4.0 in /usr/local/lib/python3.7/dist-packages (from notebook->ResNetSrc==0.0.1.dev0) (4.11.2)\n",
            "Requirement already satisfied: nbformat in /usr/local/lib/python3.7/dist-packages (from notebook->ResNetSrc==0.0.1.dev0) (5.7.0)\n",
            "Requirement already satisfied: pyzmq>=17 in /usr/local/lib/python3.7/dist-packages (from notebook->ResNetSrc==0.0.1.dev0) (23.2.1)\n",
            "Requirement already satisfied: terminado>=0.8.1 in /usr/local/lib/python3.7/dist-packages (from notebook->ResNetSrc==0.0.1.dev0) (0.13.3)\n",
            "Requirement already satisfied: python-dateutil>=2.1 in /usr/local/lib/python3.7/dist-packages (from jupyter-client->ipykernel->jupyter->ResNetSrc==0.0.1.dev0) (2.8.2)\n",
            "Requirement already satisfied: ptyprocess in /usr/local/lib/python3.7/dist-packages (from terminado>=0.8.1->notebook->ResNetSrc==0.0.1.dev0) (0.7.0)\n",
            "Requirement already satisfied: MarkupSafe>=0.23 in /usr/local/lib/python3.7/dist-packages (from jinja2->notebook->ResNetSrc==0.0.1.dev0) (2.0.1)\n",
            "Requirement already satisfied: numpy>=1.11 in /usr/local/lib/python3.7/dist-packages (from matplotlib->ResNetSrc==0.0.1.dev0) (1.21.6)\n",
            "Requirement already satisfied: pyparsing!=2.0.4,!=2.1.2,!=2.1.6,>=2.0.1 in /usr/local/lib/python3.7/dist-packages (from matplotlib->ResNetSrc==0.0.1.dev0) (3.0.9)\n",
            "Requirement already satisfied: cycler>=0.10 in /usr/local/lib/python3.7/dist-packages (from matplotlib->ResNetSrc==0.0.1.dev0) (0.11.0)\n",
            "Requirement already satisfied: kiwisolver>=1.0.1 in /usr/local/lib/python3.7/dist-packages (from matplotlib->ResNetSrc==0.0.1.dev0) (1.4.4)\n",
            "Requirement already satisfied: typing-extensions in /usr/local/lib/python3.7/dist-packages (from kiwisolver>=1.0.1->matplotlib->ResNetSrc==0.0.1.dev0) (4.1.1)\n",
            "Requirement already satisfied: pandocfilters>=1.4.1 in /usr/local/lib/python3.7/dist-packages (from nbconvert->jupyter->ResNetSrc==0.0.1.dev0) (1.5.0)\n",
            "Requirement already satisfied: mistune<2,>=0.8.1 in /usr/local/lib/python3.7/dist-packages (from nbconvert->jupyter->ResNetSrc==0.0.1.dev0) (0.8.4)\n",
            "Requirement already satisfied: entrypoints>=0.2.2 in /usr/local/lib/python3.7/dist-packages (from nbconvert->jupyter->ResNetSrc==0.0.1.dev0) (0.4)\n",
            "Requirement already satisfied: bleach in /usr/local/lib/python3.7/dist-packages (from nbconvert->jupyter->ResNetSrc==0.0.1.dev0) (5.0.1)\n",
            "Requirement already satisfied: testpath in /usr/local/lib/python3.7/dist-packages (from nbconvert->jupyter->ResNetSrc==0.0.1.dev0) (0.6.0)\n",
            "Requirement already satisfied: defusedxml in /usr/local/lib/python3.7/dist-packages (from nbconvert->jupyter->ResNetSrc==0.0.1.dev0) (0.7.1)\n",
            "Requirement already satisfied: importlib-metadata>=3.6 in /usr/local/lib/python3.7/dist-packages (from nbformat->notebook->ResNetSrc==0.0.1.dev0) (4.13.0)\n",
            "Requirement already satisfied: jsonschema>=2.6 in /usr/local/lib/python3.7/dist-packages (from nbformat->notebook->ResNetSrc==0.0.1.dev0) (4.3.3)\n",
            "Requirement already satisfied: fastjsonschema in /usr/local/lib/python3.7/dist-packages (from nbformat->notebook->ResNetSrc==0.0.1.dev0) (2.16.2)\n",
            "Requirement already satisfied: zipp>=0.5 in /usr/local/lib/python3.7/dist-packages (from importlib-metadata>=3.6->nbformat->notebook->ResNetSrc==0.0.1.dev0) (3.10.0)\n",
            "Requirement already satisfied: importlib-resources>=1.4.0 in /usr/local/lib/python3.7/dist-packages (from jsonschema>=2.6->nbformat->notebook->ResNetSrc==0.0.1.dev0) (5.10.0)\n",
            "Requirement already satisfied: pyrsistent!=0.17.0,!=0.17.1,!=0.17.2,>=0.14.0 in /usr/local/lib/python3.7/dist-packages (from jsonschema>=2.6->nbformat->notebook->ResNetSrc==0.0.1.dev0) (0.18.1)\n",
            "Requirement already satisfied: attrs>=17.4.0 in /usr/local/lib/python3.7/dist-packages (from jsonschema>=2.6->nbformat->notebook->ResNetSrc==0.0.1.dev0) (22.1.0)\n",
            "Requirement already satisfied: webencodings in /usr/local/lib/python3.7/dist-packages (from bleach->nbconvert->jupyter->ResNetSrc==0.0.1.dev0) (0.5.1)\n",
            "Requirement already satisfied: qtpy>=2.0.1 in /usr/local/lib/python3.7/dist-packages (from qtconsole->jupyter->ResNetSrc==0.0.1.dev0) (2.2.1)\n",
            "Requirement already satisfied: packaging in /usr/local/lib/python3.7/dist-packages (from qtpy>=2.0.1->qtconsole->jupyter->ResNetSrc==0.0.1.dev0) (21.3)\n",
            "Requirement already satisfied: pillow!=8.3.*,>=5.3.0 in /usr/local/lib/python3.7/dist-packages (from torchvision->ResNetSrc==0.0.1.dev0) (7.1.2)\n",
            "Requirement already satisfied: requests in /usr/local/lib/python3.7/dist-packages (from torchvision->ResNetSrc==0.0.1.dev0) (2.23.0)\n",
            "Requirement already satisfied: urllib3!=1.25.0,!=1.25.1,<1.26,>=1.21.1 in /usr/local/lib/python3.7/dist-packages (from requests->torchvision->ResNetSrc==0.0.1.dev0) (1.24.3)\n",
            "Requirement already satisfied: certifi>=2017.4.17 in /usr/local/lib/python3.7/dist-packages (from requests->torchvision->ResNetSrc==0.0.1.dev0) (2022.9.24)\n",
            "Requirement already satisfied: idna<3,>=2.5 in /usr/local/lib/python3.7/dist-packages (from requests->torchvision->ResNetSrc==0.0.1.dev0) (2.10)\n",
            "Requirement already satisfied: chardet<4,>=3.0.2 in /usr/local/lib/python3.7/dist-packages (from requests->torchvision->ResNetSrc==0.0.1.dev0) (3.0.4)\n"
          ]
        }
      ]
    },
    {
      "cell_type": "code",
      "source": [
        "# source: branch=main > notebooks > scratch.ipynb\n",
        "\n",
        "from src.model import ResNet, StemConfig\n",
        "\n",
        "stem_config = StemConfig(num_channels = 64, \n",
        "                         kernel_size = 5, \n",
        "                         stride = 1, padding = 2)\n",
        "\n",
        "from src.utils import initialize_parameters, epoch_time\n",
        "\n",
        "model_architecture = (\n",
        "    (2, 64),\n",
        "    (2, 128),\n",
        "    (2, 196),\n",
        "    (2, 196),\n",
        "    (2, 128),\n",
        "    (2, 128),\n",
        ")\n",
        "\n",
        "resnet_model = ResNet(model_architecture, \n",
        "                     stem_config = stem_config, \n",
        "                     output_size = 10) # CIFAR-10 has 10 classes"
      ],
      "metadata": {
        "colab": {
          "base_uri": "https://localhost:8080/"
        },
        "id": "D2pAOKaaPpkS",
        "outputId": "662aae8b-2555-4177-d7fc-f9a99252271a"
      },
      "execution_count": null,
      "outputs": [
        {
          "output_type": "stream",
          "name": "stderr",
          "text": [
            "/usr/local/lib/python3.7/dist-packages/torch/nn/modules/lazy.py:178: UserWarning: Lazy modules are a new feature under heavy development so changes to the API or functionality can happen at any moment.\n",
            "  warnings.warn('Lazy modules are a new feature under heavy development '\n"
          ]
        }
      ]
    },
    {
      "cell_type": "code",
      "source": [
        "# motivation: when attmpting to count parameters 2022.11/5(6)_p03.28\n",
        "\n",
        "# ValueError: Attempted to use an UNINITIALIZED parameter \n",
        "# in <method 'numel' of 'torch._C._TensorBase' objects>. \n",
        "\n",
        "# This error happens when you are using a `LazyModule` \n",
        "# or explicitly manipulating `torch.nn.parameter.UninitializedParameter` objects. \n",
        "\n",
        "# When using LazyModules, \n",
        "# Call `forward` with a dummy batch \n",
        "# to INITIALIZE the parameters \n",
        "# before calling torch functions\n",
        "\n",
        "# source: branch=main > notebooks > scratch.ipynb\n",
        "\n",
        "device = torch.device(\"cuda\" if torch.cuda.is_available() else \"cpu\")\n",
        "\n",
        "inputs = torch.empty((256, 3, 32, 32))\n",
        "inputs.normal_()\n",
        "resnet_model = resnet_model.to(device)\n",
        "resnet_output = resnet_model(inputs)\n",
        "print(resnet_output.shape)"
      ],
      "metadata": {
        "colab": {
          "base_uri": "https://localhost:8080/"
        },
        "id": "GAbUE-gFRDng",
        "outputId": "53131005-a127-4810-effc-f7853be6dfc2"
      },
      "execution_count": null,
      "outputs": [
        {
          "output_type": "stream",
          "name": "stdout",
          "text": [
            "torch.Size([256, 10])\n"
          ]
        }
      ]
    },
    {
      "cell_type": "markdown",
      "source": [
        "# Count Models"
      ],
      "metadata": {
        "id": "gl9Grnm_J7np"
      }
    },
    {
      "cell_type": "code",
      "source": [],
      "metadata": {
        "id": "W0mZrJQ8M9w-"
      },
      "execution_count": null,
      "outputs": []
    },
    {
      "cell_type": "markdown",
      "source": [
        "## Various one_sample_input_shape's"
      ],
      "metadata": {
        "id": "MEnR83ZfS6fE"
      }
    },
    {
      "cell_type": "code",
      "source": [
        "one_sample_input_shapes = \\\n",
        "[None,\n",
        " (3, 128, 128),\n",
        " (3, 32, 32), # CIFAR-10: (RGB, IMAGE_SIZE, IMAGE_SIZE)\n",
        " (3, 8, 8)]"
      ],
      "metadata": {
        "id": "x0sA0P4dS-5H"
      },
      "execution_count": null,
      "outputs": []
    },
    {
      "cell_type": "markdown",
      "source": [
        "## Use torchsummary on PyTorch's models"
      ],
      "metadata": {
        "id": "u19ZuOYtKEkg"
      }
    },
    {
      "cell_type": "code",
      "source": [
        "QUIET_VERBOSE = 0"
      ],
      "metadata": {
        "id": "-AmKyxkEKYlb"
      },
      "execution_count": null,
      "outputs": []
    },
    {
      "cell_type": "markdown",
      "source": [
        "### input_data = one_sample_shape"
      ],
      "metadata": {
        "id": "S9z8-jh_VEy9"
      }
    },
    {
      "cell_type": "code",
      "source": [
        "# for one_sample_input_shape in one_sample_input_shapes:\n",
        "for one_sample_input_shape in [(3,32,32)]:\n",
        "\n",
        "    resnet18_modelstatistics = summary(resnet18_model, one_sample_input_shape, verbose = QUIET_VERBOSE)\n",
        "\n",
        "    print('one_sample_input_shape', ':', one_sample_input_shape, ':')\n",
        "    print('\\n'.join(  str(resnet18_modelstatistics).split('\\n')[:7]  ))\n",
        "    print('[...]')\n",
        "    print('\\n'.join(  str(resnet18_modelstatistics).split('\\n')[-14:]  ))\n",
        "    print()"
      ],
      "metadata": {
        "colab": {
          "base_uri": "https://localhost:8080/"
        },
        "id": "T5ZTBJBLSmTH",
        "outputId": "87beb359-3f7c-4b47-88e5-1456387711ff"
      },
      "execution_count": null,
      "outputs": [
        {
          "output_type": "stream",
          "name": "stdout",
          "text": [
            "one_sample_input_shape : (3, 32, 32) :\n",
            "==========================================================================================\n",
            "Layer (type:depth-idx)                   Output Shape              Param #\n",
            "==========================================================================================\n",
            "├─Conv2d: 1-1                            [-1, 64, 16, 16]          9,408\n",
            "├─BatchNorm2d: 1-2                       [-1, 64, 16, 16]          128\n",
            "├─ReLU: 1-3                              [-1, 64, 16, 16]          --\n",
            "├─MaxPool2d: 1-4                         [-1, 64, 8, 8]            --\n",
            "[...]\n",
            "|    |    └─ReLU: 3-51                   [-1, 512, 1, 1]           --\n",
            "├─AdaptiveAvgPool2d: 1-9                 [-1, 512, 1, 1]           --\n",
            "├─Linear: 1-10                           [-1, 1000]                513,000\n",
            "==========================================================================================\n",
            "Total params: 11,689,512\n",
            "Trainable params: 11,689,512\n",
            "Non-trainable params: 0\n",
            "Total mult-adds (M): 60.03\n",
            "==========================================================================================\n",
            "Input size (MB): 0.01\n",
            "Forward/backward pass size (MB): 0.78\n",
            "Params size (MB): 44.59\n",
            "Estimated Total Size (MB): 45.38\n",
            "==========================================================================================\n",
            "\n"
          ]
        }
      ]
    },
    {
      "cell_type": "code",
      "source": [
        "resnet18_modelstatistics"
      ],
      "metadata": {
        "colab": {
          "base_uri": "https://localhost:8080/"
        },
        "id": "nbKo8I1VV1zj",
        "outputId": "66fb7b19-c1b3-4cbc-a274-5061aac2b2fd"
      },
      "execution_count": null,
      "outputs": [
        {
          "output_type": "execute_result",
          "data": {
            "text/plain": [
              "==========================================================================================\n",
              "Layer (type:depth-idx)                   Output Shape              Param #\n",
              "==========================================================================================\n",
              "├─Conv2d: 1-1                            [-1, 64, 16, 16]          9,408\n",
              "├─BatchNorm2d: 1-2                       [-1, 64, 16, 16]          128\n",
              "├─ReLU: 1-3                              [-1, 64, 16, 16]          --\n",
              "├─MaxPool2d: 1-4                         [-1, 64, 8, 8]            --\n",
              "├─Sequential: 1-5                        [-1, 64, 8, 8]            --\n",
              "|    └─BasicBlock: 2-1                   [-1, 64, 8, 8]            --\n",
              "|    |    └─Conv2d: 3-1                  [-1, 64, 8, 8]            36,864\n",
              "|    |    └─BatchNorm2d: 3-2             [-1, 64, 8, 8]            128\n",
              "|    |    └─ReLU: 3-3                    [-1, 64, 8, 8]            --\n",
              "|    |    └─Conv2d: 3-4                  [-1, 64, 8, 8]            36,864\n",
              "|    |    └─BatchNorm2d: 3-5             [-1, 64, 8, 8]            128\n",
              "|    |    └─ReLU: 3-6                    [-1, 64, 8, 8]            --\n",
              "|    └─BasicBlock: 2-2                   [-1, 64, 8, 8]            --\n",
              "|    |    └─Conv2d: 3-7                  [-1, 64, 8, 8]            36,864\n",
              "|    |    └─BatchNorm2d: 3-8             [-1, 64, 8, 8]            128\n",
              "|    |    └─ReLU: 3-9                    [-1, 64, 8, 8]            --\n",
              "|    |    └─Conv2d: 3-10                 [-1, 64, 8, 8]            36,864\n",
              "|    |    └─BatchNorm2d: 3-11            [-1, 64, 8, 8]            128\n",
              "|    |    └─ReLU: 3-12                   [-1, 64, 8, 8]            --\n",
              "├─Sequential: 1-6                        [-1, 128, 4, 4]           --\n",
              "|    └─BasicBlock: 2-3                   [-1, 128, 4, 4]           --\n",
              "|    |    └─Conv2d: 3-13                 [-1, 128, 4, 4]           73,728\n",
              "|    |    └─BatchNorm2d: 3-14            [-1, 128, 4, 4]           256\n",
              "|    |    └─ReLU: 3-15                   [-1, 128, 4, 4]           --\n",
              "|    |    └─Conv2d: 3-16                 [-1, 128, 4, 4]           147,456\n",
              "|    |    └─BatchNorm2d: 3-17            [-1, 128, 4, 4]           256\n",
              "|    |    └─Sequential: 3-18             [-1, 128, 4, 4]           8,448\n",
              "|    |    └─ReLU: 3-19                   [-1, 128, 4, 4]           --\n",
              "|    └─BasicBlock: 2-4                   [-1, 128, 4, 4]           --\n",
              "|    |    └─Conv2d: 3-20                 [-1, 128, 4, 4]           147,456\n",
              "|    |    └─BatchNorm2d: 3-21            [-1, 128, 4, 4]           256\n",
              "|    |    └─ReLU: 3-22                   [-1, 128, 4, 4]           --\n",
              "|    |    └─Conv2d: 3-23                 [-1, 128, 4, 4]           147,456\n",
              "|    |    └─BatchNorm2d: 3-24            [-1, 128, 4, 4]           256\n",
              "|    |    └─ReLU: 3-25                   [-1, 128, 4, 4]           --\n",
              "├─Sequential: 1-7                        [-1, 256, 2, 2]           --\n",
              "|    └─BasicBlock: 2-5                   [-1, 256, 2, 2]           --\n",
              "|    |    └─Conv2d: 3-26                 [-1, 256, 2, 2]           294,912\n",
              "|    |    └─BatchNorm2d: 3-27            [-1, 256, 2, 2]           512\n",
              "|    |    └─ReLU: 3-28                   [-1, 256, 2, 2]           --\n",
              "|    |    └─Conv2d: 3-29                 [-1, 256, 2, 2]           589,824\n",
              "|    |    └─BatchNorm2d: 3-30            [-1, 256, 2, 2]           512\n",
              "|    |    └─Sequential: 3-31             [-1, 256, 2, 2]           33,280\n",
              "|    |    └─ReLU: 3-32                   [-1, 256, 2, 2]           --\n",
              "|    └─BasicBlock: 2-6                   [-1, 256, 2, 2]           --\n",
              "|    |    └─Conv2d: 3-33                 [-1, 256, 2, 2]           589,824\n",
              "|    |    └─BatchNorm2d: 3-34            [-1, 256, 2, 2]           512\n",
              "|    |    └─ReLU: 3-35                   [-1, 256, 2, 2]           --\n",
              "|    |    └─Conv2d: 3-36                 [-1, 256, 2, 2]           589,824\n",
              "|    |    └─BatchNorm2d: 3-37            [-1, 256, 2, 2]           512\n",
              "|    |    └─ReLU: 3-38                   [-1, 256, 2, 2]           --\n",
              "├─Sequential: 1-8                        [-1, 512, 1, 1]           --\n",
              "|    └─BasicBlock: 2-7                   [-1, 512, 1, 1]           --\n",
              "|    |    └─Conv2d: 3-39                 [-1, 512, 1, 1]           1,179,648\n",
              "|    |    └─BatchNorm2d: 3-40            [-1, 512, 1, 1]           1,024\n",
              "|    |    └─ReLU: 3-41                   [-1, 512, 1, 1]           --\n",
              "|    |    └─Conv2d: 3-42                 [-1, 512, 1, 1]           2,359,296\n",
              "|    |    └─BatchNorm2d: 3-43            [-1, 512, 1, 1]           1,024\n",
              "|    |    └─Sequential: 3-44             [-1, 512, 1, 1]           132,096\n",
              "|    |    └─ReLU: 3-45                   [-1, 512, 1, 1]           --\n",
              "|    └─BasicBlock: 2-8                   [-1, 512, 1, 1]           --\n",
              "|    |    └─Conv2d: 3-46                 [-1, 512, 1, 1]           2,359,296\n",
              "|    |    └─BatchNorm2d: 3-47            [-1, 512, 1, 1]           1,024\n",
              "|    |    └─ReLU: 3-48                   [-1, 512, 1, 1]           --\n",
              "|    |    └─Conv2d: 3-49                 [-1, 512, 1, 1]           2,359,296\n",
              "|    |    └─BatchNorm2d: 3-50            [-1, 512, 1, 1]           1,024\n",
              "|    |    └─ReLU: 3-51                   [-1, 512, 1, 1]           --\n",
              "├─AdaptiveAvgPool2d: 1-9                 [-1, 512, 1, 1]           --\n",
              "├─Linear: 1-10                           [-1, 1000]                513,000\n",
              "==========================================================================================\n",
              "Total params: 11,689,512\n",
              "Trainable params: 11,689,512\n",
              "Non-trainable params: 0\n",
              "Total mult-adds (M): 60.03\n",
              "==========================================================================================\n",
              "Input size (MB): 0.01\n",
              "Forward/backward pass size (MB): 0.78\n",
              "Params size (MB): 44.59\n",
              "Estimated Total Size (MB): 45.38\n",
              "=========================================================================================="
            ]
          },
          "metadata": {},
          "execution_count": 15
        }
      ]
    },
    {
      "cell_type": "markdown",
      "source": [
        "### input_data = one_batch_sample_input"
      ],
      "metadata": {
        "id": "hv33edpRTSBi"
      }
    },
    {
      "cell_type": "code",
      "source": [
        "for one_sample_input_shape in one_sample_input_shapes:\n",
        "\n",
        "    if one_sample_input_shape is not None:\n",
        "        one_batch_input = torch.rand(*one_sample_input_shape)\n",
        "        one_batch_input = one_batch_input.unsqueeze(0) # [3,32,32]->[1,3,32,32]\n",
        "        print('one_batch_input shape', ':', one_batch_input.shape)\n",
        "    else:\n",
        "        one_batch_input = None\n",
        "        print('one_batch_input is None')\n",
        "    \n",
        "    resnet18_modelstatistics = summary(resnet18_model, one_batch_input, verbose = QUIET_VERBOSE)\n",
        "\n",
        "    print('\\n'.join(  str(resnet18_modelstatistics).split('\\n')[:7]  ))\n",
        "    print('[...]')\n",
        "    print('\\n'.join(  str(resnet18_modelstatistics).split('\\n')[-14:]  ))\n",
        "    print()"
      ],
      "metadata": {
        "colab": {
          "base_uri": "https://localhost:8080/"
        },
        "id": "oFHXkWGYTddF",
        "outputId": "1150255f-2ed5-416e-f601-a02dc1a4fba9"
      },
      "execution_count": null,
      "outputs": [
        {
          "output_type": "stream",
          "name": "stdout",
          "text": [
            "one_batch_input is None\n",
            "=================================================================\n",
            "Layer (type:depth-idx)                   Param #\n",
            "=================================================================\n",
            "├─Conv2d: 1-1                            9,408\n",
            "├─BatchNorm2d: 1-2                       128\n",
            "├─ReLU: 1-3                              --\n",
            "├─MaxPool2d: 1-4                         --\n",
            "[...]\n",
            "|    |    └─Sequential: 3-38             132,096\n",
            "|    └─BasicBlock: 2-8                   --\n",
            "|    |    └─Conv2d: 3-39                 2,359,296\n",
            "|    |    └─BatchNorm2d: 3-40            1,024\n",
            "|    |    └─ReLU: 3-41                   --\n",
            "|    |    └─Conv2d: 3-42                 2,359,296\n",
            "|    |    └─BatchNorm2d: 3-43            1,024\n",
            "├─AdaptiveAvgPool2d: 1-9                 --\n",
            "├─Linear: 1-10                           513,000\n",
            "=================================================================\n",
            "Total params: 11,689,512\n",
            "Trainable params: 11,689,512\n",
            "Non-trainable params: 0\n",
            "=================================================================\n",
            "\n",
            "one_batch_input shape : torch.Size([1, 3, 128, 128])\n",
            "==========================================================================================\n",
            "Layer (type:depth-idx)                   Output Shape              Param #\n",
            "==========================================================================================\n",
            "├─Conv2d: 1-1                            [-1, 64, 64, 64]          9,408\n",
            "├─BatchNorm2d: 1-2                       [-1, 64, 64, 64]          128\n",
            "├─ReLU: 1-3                              [-1, 64, 64, 64]          --\n",
            "├─MaxPool2d: 1-4                         [-1, 64, 32, 32]          --\n",
            "[...]\n",
            "|    |    └─ReLU: 3-51                   [-1, 512, 4, 4]           --\n",
            "├─AdaptiveAvgPool2d: 1-9                 [-1, 512, 1, 1]           --\n",
            "├─Linear: 1-10                           [-1, 1000]                513,000\n",
            "==========================================================================================\n",
            "Total params: 11,689,512\n",
            "Trainable params: 11,689,512\n",
            "Non-trainable params: 0\n",
            "Total mult-adds (M): 615.20\n",
            "==========================================================================================\n",
            "Input size (MB): 0.19\n",
            "Forward/backward pass size (MB): 12.38\n",
            "Params size (MB): 44.59\n",
            "Estimated Total Size (MB): 57.16\n",
            "==========================================================================================\n",
            "\n",
            "one_batch_input shape : torch.Size([1, 3, 32, 32])\n",
            "==========================================================================================\n",
            "Layer (type:depth-idx)                   Output Shape              Param #\n",
            "==========================================================================================\n",
            "├─Conv2d: 1-1                            [-1, 64, 16, 16]          9,408\n",
            "├─BatchNorm2d: 1-2                       [-1, 64, 16, 16]          128\n",
            "├─ReLU: 1-3                              [-1, 64, 16, 16]          --\n",
            "├─MaxPool2d: 1-4                         [-1, 64, 8, 8]            --\n",
            "[...]\n",
            "|    |    └─ReLU: 3-51                   [-1, 512, 1, 1]           --\n",
            "├─AdaptiveAvgPool2d: 1-9                 [-1, 512, 1, 1]           --\n",
            "├─Linear: 1-10                           [-1, 1000]                513,000\n",
            "==========================================================================================\n",
            "Total params: 11,689,512\n",
            "Trainable params: 11,689,512\n",
            "Non-trainable params: 0\n",
            "Total mult-adds (M): 60.03\n",
            "==========================================================================================\n",
            "Input size (MB): 0.01\n",
            "Forward/backward pass size (MB): 0.78\n",
            "Params size (MB): 44.59\n",
            "Estimated Total Size (MB): 45.38\n",
            "==========================================================================================\n",
            "\n",
            "one_batch_input shape : torch.Size([1, 3, 8, 8])\n",
            "==========================================================================================\n",
            "Layer (type:depth-idx)                   Output Shape              Param #\n",
            "==========================================================================================\n",
            "├─Conv2d: 1-1                            [-1, 64, 4, 4]            9,408\n",
            "├─BatchNorm2d: 1-2                       [-1, 64, 4, 4]            128\n",
            "├─ReLU: 1-3                              [-1, 64, 4, 4]            --\n",
            "├─MaxPool2d: 1-4                         [-1, 64, 2, 2]            --\n",
            "[...]\n",
            "|    |    └─ReLU: 3-51                   [-1, 512, 1, 1]           --\n",
            "├─AdaptiveAvgPool2d: 1-9                 [-1, 512, 1, 1]           --\n",
            "├─Linear: 1-10                           [-1, 1000]                513,000\n",
            "==========================================================================================\n",
            "Total params: 11,689,512\n",
            "Trainable params: 11,689,512\n",
            "Non-trainable params: 0\n",
            "Total mult-adds (M): 34.76\n",
            "==========================================================================================\n",
            "Input size (MB): 0.00\n",
            "Forward/backward pass size (MB): 0.11\n",
            "Params size (MB): 44.59\n",
            "Estimated Total Size (MB): 44.70\n",
            "==========================================================================================\n",
            "\n"
          ]
        }
      ]
    },
    {
      "cell_type": "markdown",
      "source": [
        "## Use loop parameters on PyTorch's models"
      ],
      "metadata": {
        "id": "1uwqn2qFOkbi"
      }
    },
    {
      "cell_type": "code",
      "source": [
        "count_parameters(resnet18_model)"
      ],
      "metadata": {
        "colab": {
          "base_uri": "https://localhost:8080/"
        },
        "id": "O1K1hgrZNLpK",
        "outputId": "45d621a5-8743-4464-de22-3c4fd31ca367"
      },
      "execution_count": null,
      "outputs": [
        {
          "output_type": "execute_result",
          "data": {
            "text/plain": [
              "(11689512, 11689512)"
            ]
          },
          "metadata": {},
          "execution_count": 17
        }
      ]
    },
    {
      "cell_type": "markdown",
      "source": [
        "## Use torchsummmary on textbook via Alex's models"
      ],
      "metadata": {
        "id": "0iGMvIrERL3D"
      }
    },
    {
      "cell_type": "code",
      "source": [
        "QUIET_VERBOSE = 0"
      ],
      "metadata": {
        "id": "Kc6HAmxGRTSj"
      },
      "execution_count": null,
      "outputs": []
    },
    {
      "cell_type": "code",
      "source": [
        "for one_sample_input_shape in [(3,32,32)]:\n",
        "# for one_sample_input_shape in one_sample_input_shapes:\n",
        "\n",
        "    resnet_modelstatistics = summary(resnet_model, one_sample_input_shape, verbose = QUIET_VERBOSE)\n",
        "\n",
        "    print('one_sample_input_shape', ':', one_sample_input_shape, ':')\n",
        "    print('\\n'.join(  str(resnet_modelstatistics).split('\\n')[:7]  ))\n",
        "    print('\\n'.join(  str(resnet_modelstatistics).split('\\n')[-14:]  ))\n",
        "    print()"
      ],
      "metadata": {
        "colab": {
          "base_uri": "https://localhost:8080/"
        },
        "id": "QI0DMY1eRaiC",
        "outputId": "2e993989-b10d-42bc-daab-dd8e10dd6b7b"
      },
      "execution_count": null,
      "outputs": [
        {
          "output_type": "stream",
          "name": "stdout",
          "text": [
            "one_sample_input_shape : (3, 32, 32) :\n",
            "==========================================================================================\n",
            "Layer (type:depth-idx)                   Output Shape              Param #\n",
            "==========================================================================================\n",
            "├─Sequential: 1-1                        [-1, 64, 32, 32]          --\n",
            "|    └─Conv2d: 2-1                       [-1, 64, 32, 32]          4,864\n",
            "|    └─BatchNorm2d: 2-2                  [-1, 64, 32, 32]          128\n",
            "|    └─ReLU: 2-3                         [-1, 64, 32, 32]          --\n",
            "|    └─AdaptiveAvgPool2d: 2-10           [-1, 128, 1, 1]           --\n",
            "|    └─Flatten: 2-11                     [-1, 128]                 --\n",
            "|    └─Linear: 2-12                      [-1, 10]                  1,290\n",
            "==========================================================================================\n",
            "Total params: 4,697,842\n",
            "Trainable params: 4,697,842\n",
            "Non-trainable params: 0\n",
            "Total mult-adds (M): 412.75\n",
            "==========================================================================================\n",
            "Input size (MB): 0.01\n",
            "Forward/backward pass size (MB): 8.37\n",
            "Params size (MB): 17.92\n",
            "Estimated Total Size (MB): 26.30\n",
            "==========================================================================================\n",
            "\n"
          ]
        }
      ]
    },
    {
      "cell_type": "code",
      "source": [
        "resnet_modelstatistics"
      ],
      "metadata": {
        "colab": {
          "base_uri": "https://localhost:8080/"
        },
        "id": "lslTJLhbUlb5",
        "outputId": "a5f451f9-49d4-4f12-bf0e-a78af1e9d87c"
      },
      "execution_count": null,
      "outputs": [
        {
          "output_type": "execute_result",
          "data": {
            "text/plain": [
              "==========================================================================================\n",
              "Layer (type:depth-idx)                   Output Shape              Param #\n",
              "==========================================================================================\n",
              "├─Sequential: 1-1                        [-1, 64, 32, 32]          --\n",
              "|    └─Conv2d: 2-1                       [-1, 64, 32, 32]          4,864\n",
              "|    └─BatchNorm2d: 2-2                  [-1, 64, 32, 32]          128\n",
              "|    └─ReLU: 2-3                         [-1, 64, 32, 32]          --\n",
              "├─Sequential: 1-2                        [-1, 128, 1, 1]           --\n",
              "|    └─Sequential: 2-4                   [-1, 64, 32, 32]          --\n",
              "|    |    └─ResidualBlock: 3-1           [-1, 64, 32, 32]          74,112\n",
              "|    |    └─ResidualBlock: 3-2           [-1, 64, 32, 32]          74,112\n",
              "|    └─Sequential: 2-5                   [-1, 128, 16, 16]         --\n",
              "|    |    └─ResidualBlock: 3-3           [-1, 128, 16, 16]         230,272\n",
              "|    |    └─ResidualBlock: 3-4           [-1, 128, 16, 16]         295,680\n",
              "|    └─Sequential: 2-6                   [-1, 196, 8, 8]           --\n",
              "|    |    └─ResidualBlock: 3-5           [-1, 196, 8, 8]           597,996\n",
              "|    |    └─ResidualBlock: 3-6           [-1, 196, 8, 8]           692,664\n",
              "|    └─Sequential: 2-7                   [-1, 196, 4, 4]           --\n",
              "|    |    └─ResidualBlock: 3-7           [-1, 196, 4, 4]           731,276\n",
              "|    |    └─ResidualBlock: 3-8           [-1, 196, 4, 4]           692,664\n",
              "|    └─Sequential: 2-8                   [-1, 128, 2, 2]           --\n",
              "|    |    └─ResidualBlock: 3-9           [-1, 128, 2, 2]           399,232\n",
              "|    |    └─ResidualBlock: 3-10          [-1, 128, 2, 2]           295,680\n",
              "|    └─Sequential: 2-9                   [-1, 128, 1, 1]           --\n",
              "|    |    └─ResidualBlock: 3-11          [-1, 128, 1, 1]           312,192\n",
              "|    |    └─ResidualBlock: 3-12          [-1, 128, 1, 1]           295,680\n",
              "├─Sequential: 1-3                        [-1, 10]                  --\n",
              "|    └─AdaptiveAvgPool2d: 2-10           [-1, 128, 1, 1]           --\n",
              "|    └─Flatten: 2-11                     [-1, 128]                 --\n",
              "|    └─Linear: 2-12                      [-1, 10]                  1,290\n",
              "==========================================================================================\n",
              "Total params: 4,697,842\n",
              "Trainable params: 4,697,842\n",
              "Non-trainable params: 0\n",
              "Total mult-adds (M): 412.75\n",
              "==========================================================================================\n",
              "Input size (MB): 0.01\n",
              "Forward/backward pass size (MB): 8.37\n",
              "Params size (MB): 17.92\n",
              "Estimated Total Size (MB): 26.30\n",
              "=========================================================================================="
            ]
          },
          "metadata": {},
          "execution_count": 20
        }
      ]
    },
    {
      "cell_type": "markdown",
      "source": [
        "## Use loop parameters on textbook via Alex's models"
      ],
      "metadata": {
        "id": "RNjZ0kcvQJO4"
      }
    },
    {
      "cell_type": "code",
      "source": [
        "count_parameters(resnet_model)"
      ],
      "metadata": {
        "colab": {
          "base_uri": "https://localhost:8080/"
        },
        "id": "r6cRyjfuOp7i",
        "outputId": "b2a107ae-5fa3-4e9a-f7dd-1ee2e517915b"
      },
      "execution_count": null,
      "outputs": [
        {
          "output_type": "execute_result",
          "data": {
            "text/plain": [
              "(4697842, 4697842)"
            ]
          },
          "metadata": {},
          "execution_count": 21
        }
      ]
    },
    {
      "cell_type": "markdown",
      "source": [
        "# Count A Layer"
      ],
      "metadata": {
        "id": "i4VrB1ETN0G6"
      }
    },
    {
      "cell_type": "code",
      "source": [
        "import torch.nn as nn\n",
        "# in order to construct individual layers"
      ],
      "metadata": {
        "id": "UNccgJBGORvH"
      },
      "execution_count": null,
      "outputs": []
    },
    {
      "cell_type": "code",
      "source": [
        "# note: in_channels is irrelevant because it will be\n",
        "#       collapsed by the filter \n",
        "#       [in_channels,kernel_size,kernel_size]\n",
        "# note: out_channels is irrelevant because it will\n",
        "#       simply stack up each of the [output_n,output_n]\n",
        "def calc_conv2d_output_n(input_n,\n",
        "                         kernel_size, stride,\n",
        "                         padding):\n",
        "    # here, assume padding is defined as on either side\n",
        "    # not the sum of both sides\n",
        "    padded_input_n = input_n + 2 * padding\n",
        "\n",
        "    output_n = (padded_input_n - kernel_size) / stride + 1\n",
        "\n",
        "    return output_n"
      ],
      "metadata": {
        "id": "qIbpOrBpOgWo"
      },
      "execution_count": null,
      "outputs": []
    },
    {
      "cell_type": "code",
      "source": [
        "kernel_size = 3\n",
        "stride      = 1\n",
        "padding     = 1\n",
        "\n",
        "# one_sample = torch.rand(3, 32, 32)\n",
        "# one_sample = torch.rand(64, 8,8)\n",
        "# one_sample = torch.rand(256, 2,2)\n",
        "one_sample = torch.rand(128, 2,2)\n",
        "\n",
        "one_layer = nn.Conv2d(in_channels = one_sample.shape[0], out_channels = 64,\n",
        "                      kernel_size = kernel_size,\n",
        "                      stride = stride,\n",
        "                      padding = padding, \n",
        "                      bias = False)\n",
        "\n",
        "one_output = one_layer(one_sample)\n",
        "\n",
        "print(one_sample.shape, '->', one_output.shape,\n",
        "      'vs', calc_conv2d_output_n(input_n = one_sample.shape[-1],\n",
        "                                 kernel_size=kernel_size,\n",
        "                                 stride=stride,\n",
        "                                 padding = padding),\n",
        "      'expected')"
      ],
      "metadata": {
        "colab": {
          "base_uri": "https://localhost:8080/"
        },
        "id": "3lIBuaRxN1jY",
        "outputId": "dab10ea6-87c4-44ca-ae89-8d1afb101db4"
      },
      "execution_count": null,
      "outputs": [
        {
          "output_type": "stream",
          "name": "stdout",
          "text": [
            "torch.Size([128, 2, 2]) -> torch.Size([64, 2, 2]) vs 2.0 expected\n"
          ]
        }
      ]
    },
    {
      "cell_type": "code",
      "source": [],
      "metadata": {
        "id": "SkVaVD_EVdOg"
      },
      "execution_count": null,
      "outputs": []
    }
  ]
}