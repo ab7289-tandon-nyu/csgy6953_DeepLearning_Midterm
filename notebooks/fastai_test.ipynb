{
 "cells": [
  {
   "cell_type": "code",
   "execution_count": null,
   "metadata": {},
   "outputs": [],
   "source": [
    "!git clone -b alex \"https://github.com/ab7289-tandon-nyu/csgy6953_DeepLearning_Midterm.git\"\n",
    "!cp -r /content/csgy6953_DeepLearning_Midterm/src/ ."
   ]
  },
  {
   "cell_type": "code",
   "execution_count": null,
   "metadata": {},
   "outputs": [],
   "source": [
    "import torch\n",
    "import torch.nn as nn\n",
    "import matplotlib.pyplot as plt\n",
    "\n",
    "import time\n",
    "import copy\n",
    "import random"
   ]
  },
  {
   "cell_type": "code",
   "execution_count": null,
   "metadata": {},
   "outputs": [],
   "source": [
    "SEED = 1234\n",
    "\n",
    "random.seed(SEED)\n",
    "torch.manual_seed(SEED)\n",
    "torch.cuda.manual_seed(SEED)\n",
    "torch.backends.cudnn.deterministic = True\n",
    "\n",
    "device = torch.device(\"cuda\" if torch.cuda.is_available() else \"cpu\")"
   ]
  },
  {
   "cell_type": "code",
   "execution_count": null,
   "metadata": {},
   "outputs": [],
   "source": [
    "from src.data import get_transformed_data, make_data_loaders\n",
    "from src.transforms import make_auto_transforms\n",
    "\n",
    "BATCH_SIZE = 256\n",
    "valid_ration = 0.1\n",
    "\n",
    "train_iter, valid_iter, test_iter = (\n",
    "    make_data_loaders(\n",
    "        *get_transformed_data(\n",
    "            make_transforms= make_auto_transforms,\n",
    "            valid_ratio= valid_ration\n",
    "        ),\n",
    "        batch_size=BATCH_SIZE,\n",
    "    )\n",
    ")"
   ]
  },
  {
   "cell_type": "code",
   "execution_count": null,
   "metadata": {},
   "outputs": [],
   "source": [
    "from src.model import ResNet, StemConfig, ResidualBlockType\n",
    "from src.utils import initialize_parameters\n",
    "\n",
    "arch = [\n",
    "   (ResidualBlockType.BASIC, 1, 32, 0.1),\n",
    "   (ResidualBlockType.BASIC, 4, 64, 0.1),\n",
    "   (ResidualBlockType.BASIC, 7, 128, 0.1),\n",
    "   (ResidualBlockType.BASIC, 4, 196, 0.1),\n",
    "]\n",
    "\n",
    "config = StemConfig(num_channels=32, kernel_size=3, stride=1, padding=1)\n",
    "model = ResNet(arch, stem_config=config, output_size=10, use_bias=False)"
   ]
  },
  {
   "cell_type": "code",
   "execution_count": null,
   "metadata": {},
   "outputs": [],
   "source": [
    "print(\"Initializing new model\")\n",
    "inputs = torch.ones((BATCH_SIZE, 3, 32, 32))\n",
    "model = model.to(device)\n",
    "y = model(inputs.to(device))\n",
    "print(y.size())\n",
    "\n",
    "model.apply(initialize_parameters)"
   ]
  },
  {
   "cell_type": "code",
   "execution_count": null,
   "metadata": {},
   "outputs": [],
   "source": [
    "from fastai.conv_learner import *\n",
    "\n",
    "learn = ConvLearner.from_model_data(model, train_iter)\n",
    "learn.crit = F.cross_entropy"
   ]
  },
  {
   "cell_type": "code",
   "execution_count": null,
   "metadata": {},
   "outputs": [],
   "source": [
    "learn.lr_find(wds=1e-4, end_lr=100)"
   ]
  },
  {
   "cell_type": "code",
   "execution_count": null,
   "metadata": {},
   "outputs": [],
   "source": [
    "learn.sched.plot(10, 1)"
   ]
  }
 ],
 "metadata": {
  "kernelspec": {
   "display_name": "Python 3.10.8 ('venv': venv)",
   "language": "python",
   "name": "python3"
  },
  "language_info": {
   "name": "python",
   "version": "3.10.8"
  },
  "orig_nbformat": 4,
  "vscode": {
   "interpreter": {
    "hash": "b53f36c18b1007b71a362ee7be890264880ad87693ab57d2c5b205b6d4469eb2"
   }
  }
 },
 "nbformat": 4,
 "nbformat_minor": 2
}
