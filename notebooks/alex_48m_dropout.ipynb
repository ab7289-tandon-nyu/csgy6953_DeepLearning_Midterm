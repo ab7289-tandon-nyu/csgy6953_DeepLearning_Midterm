{
  "cells": [
    {
      "cell_type": "code",
      "execution_count": null,
      "metadata": {
        "colab": {
          "base_uri": "https://localhost:8080/"
        },
        "id": "p5a2OcE_GwrT",
        "outputId": "70e10165-b5b0-4e13-f302-0bb07538b121"
      },
      "outputs": [
        {
          "name": "stdout",
          "output_type": "stream",
          "text": [
            "Cloning into 'csgy6953_DeepLearning_Midterm'...\n",
            "remote: Enumerating objects: 124, done.\u001b[K\n",
            "remote: Counting objects: 100% (124/124), done.\u001b[K\n",
            "remote: Compressing objects: 100% (78/78), done.\u001b[K\n",
            "remote: Total 124 (delta 69), reused 89 (delta 40), pack-reused 0\u001b[K\n",
            "Receiving objects: 100% (124/124), 33.28 KiB | 11.09 MiB/s, done.\n",
            "Resolving deltas: 100% (69/69), done.\n"
          ]
        }
      ],
      "source": [
        "# !pip install -U \"git+https://github.com/ab7289-tandon-nyu/csgy6953_DeepLearning_Midterm.git\"\n",
        "\n",
        "!git clone -b alex \"https://github.com/ab7289-tandon-nyu/csgy6953_DeepLearning_Midterm.git\"\n",
        "!cp -r /content/csgy6953_DeepLearning_Midterm/src/ ."
      ]
    },
    {
      "cell_type": "code",
      "execution_count": null,
      "metadata": {
        "id": "Ow3lduSvGwrU"
      },
      "outputs": [],
      "source": [
        "import torch\n",
        "import torch.nn as nn\n",
        "import random\n",
        "import numpy as np\n",
        "\n",
        "import copy\n",
        "import time"
      ]
    },
    {
      "cell_type": "code",
      "execution_count": null,
      "metadata": {
        "colab": {
          "base_uri": "https://localhost:8080/"
        },
        "id": "NJaOta3cmQwI",
        "outputId": "73d6ba0d-b586-4392-c97f-1be9dc24607a"
      },
      "outputs": [
        {
          "name": "stdout",
          "output_type": "stream",
          "text": [
            "Mounted at /content/drive\n"
          ]
        }
      ],
      "source": [
        "from google.colab import drive\n",
        "drive.mount('/content/drive')"
      ]
    },
    {
      "cell_type": "code",
      "execution_count": null,
      "metadata": {
        "id": "c2CF9rXbGwrU"
      },
      "outputs": [],
      "source": [
        "SEED = 1234\n",
        "\n",
        "random.seed(SEED)\n",
        "np.random.seed(SEED)\n",
        "torch.manual_seed(SEED)\n",
        "torch.cuda.manual_seed(SEED)\n",
        "torch.backends.cudnn.deterministic = True\n",
        "\n",
        "device = torch.device(\"cuda\" if torch.cuda.is_available() else \"cpu\")"
      ]
    },
    {
      "cell_type": "code",
      "execution_count": null,
      "metadata": {
        "id": "JxwCl4lcGwrW"
      },
      "outputs": [],
      "source": [
        "from src.data import get_transformed_data, make_data_loaders\n",
        "from src.transforms import make_transforms\n",
        "\n",
        "batch_size = 512\n",
        "\n",
        "valid_ratio = 0.1\n",
        "train_data, valid_data, test_data = (\n",
        "    get_transformed_data(\n",
        "        make_transforms = make_transforms, \n",
        "        valid_ratio = valid_ratio\n",
        "    )\n",
        ")\n",
        "\n",
        "train_iter, valid_iter, test_iter = (\n",
        "    make_data_loaders(\n",
        "        train_data,\n",
        "        valid_data,\n",
        "        test_data,\n",
        "        batch_size\n",
        "    )\n",
        ")"
      ]
    },
    {
      "cell_type": "markdown",
      "metadata": {
        "id": "lfPJNbhPGwrW"
      },
      "source": [
        "**Define our Model"
      ]
    },
    {
      "cell_type": "code",
      "execution_count": null,
      "metadata": {
        "colab": {
          "base_uri": "https://localhost:8080/"
        },
        "id": "JsPprgn5GwrW",
        "outputId": "91e8a943-8d16-46a1-aa30-8b62959a6b7b"
      },
      "outputs": [
        {
          "name": "stderr",
          "output_type": "stream",
          "text": [
            "/usr/local/lib/python3.7/dist-packages/torch/nn/modules/lazy.py:178: UserWarning: Lazy modules are a new feature under heavy development so changes to the API or functionality can happen at any moment.\n",
            "  warnings.warn('Lazy modules are a new feature under heavy development '\n"
          ]
        }
      ],
      "source": [
        "from src.model import ResNet, StemConfig\n",
        "from src.utils import initialize_parameters, epoch_time\n",
        "\n",
        "model_architecture = (\n",
        "    (1, 128, 0.5),\n",
        "    (2, 128, 0.5),\n",
        "    (2, 128, 0.5),\n",
        "    (2, 128, 0.5),\n",
        "    (2, 196, 0.5),\n",
        "    (2, 196, 0.5),\n",
        ")\n",
        "\n",
        "stem_config = StemConfig(num_channels=128, kernel_size=3, stride=1, padding=1)\n",
        "model = ResNet(model_architecture, stem_config=stem_config, output_size=10)"
      ]
    },
    {
      "cell_type": "code",
      "execution_count": null,
      "metadata": {
        "id": "QDYsBaXalMYo"
      },
      "outputs": [],
      "source": [
        "from pathlib import Path\n",
        "\n",
        "path = \"/content/drive/MyDrive/School/Tandon MSCS/Classes/CS-GY 6953: Deep Learning/midterm/\"\n",
        "file_path = path + \"resnet_alex_48m_dropout.pt\"\n",
        "\n",
        "model_file = Path(file_path)"
      ]
    },
    {
      "cell_type": "markdown",
      "metadata": {
        "id": "-teLbU72GwrX"
      },
      "source": [
        "Need to run a dummy set of data to initialize the lazy modules before we can use torchsummary"
      ]
    },
    {
      "cell_type": "code",
      "execution_count": null,
      "metadata": {
        "colab": {
          "base_uri": "https://localhost:8080/"
        },
        "id": "GtRvQ7y_GwrX",
        "outputId": "7cccde2c-d2a6-4ee8-f175-010f9212193d"
      },
      "outputs": [
        {
          "name": "stdout",
          "output_type": "stream",
          "text": [
            "loading saved model\n"
          ]
        }
      ],
      "source": [
        "if model_file.exists() and model_file.is_file():\n",
        "  print(\"loading saved model\")\n",
        "  # load our previously trained model\n",
        "  model.load_state_dict(torch.load(model_file))\n",
        "else:\n",
        "  print(\"initializing new model\")\n",
        "  # intialize a new model\n",
        "  inputs = torch.empty((512, 3, 32, 32))\n",
        "  inputs.normal_()\n",
        "  model = model.to(device)\n",
        "  y = model(inputs.to(device))\n",
        "  print(y.size())\n",
        "\n",
        "  model.apply(initialize_parameters)"
      ]
    },
    {
      "cell_type": "code",
      "execution_count": null,
      "metadata": {
        "colab": {
          "base_uri": "https://localhost:8080/"
        },
        "id": "OjqTh-mhGwrX",
        "outputId": "380d04dc-63a7-41b1-d310-11e6ae3d114f"
      },
      "outputs": [
        {
          "name": "stdout",
          "output_type": "stream",
          "text": [
            "num params: 4,845,850\n"
          ]
        }
      ],
      "source": [
        "print(f\"num params: {sum([p.numel() for p in model.parameters() if p.requires_grad]):,}\")"
      ]
    },
    {
      "cell_type": "code",
      "execution_count": null,
      "metadata": {
        "colab": {
          "base_uri": "https://localhost:8080/"
        },
        "id": "aN5uGCn-GwrX",
        "outputId": "f03c20e9-f1f4-493a-a799-856fbec7fc25"
      },
      "outputs": [
        {
          "name": "stdout",
          "output_type": "stream",
          "text": [
            "Prevous best loss: f0.5841, acc: f81.39%\n"
          ]
        }
      ],
      "source": [
        "from src.engine import train_one_epoch, evaluate\n",
        "\n",
        "best_loss = float('inf')\n",
        "\n",
        "EPOCHS  = 20\n",
        "learning_rate = 1e-3\n",
        "criterion = nn.CrossEntropyLoss().to(device)\n",
        "optimizer = torch.optim.Adam(model.parameters(), lr=learning_rate)\n",
        "\n",
        "if model_file.is_file():\n",
        "  # if we loaded a previously saved iteration, we want to get the current\n",
        "  # best loss otherwise we could overwrite our save with a worse model\n",
        "  loss, acc = evaluate(model.to(device), test_iterator, criterion, device)\n",
        "  best_loss = loss\n",
        "  print(f\"Prevous best loss: {loss:.4f}, acc: {acc * 100:.2f}%\")"
      ]
    },
    {
      "cell_type": "code",
      "execution_count": null,
      "metadata": {
        "colab": {
          "base_uri": "https://localhost:8080/"
        },
        "id": "LS1DEX_fGwrX",
        "outputId": "cf7c7f8e-c18a-4224-9160-67edab8c2151"
      },
      "outputs": [
        {
          "name": "stdout",
          "output_type": "stream",
          "text": [
            "Epoch 1\n",
            "\tTrain elapsed: 1:4, loss: 0.5319, acc: 81.06%\n",
            "\tValidation elapsed: 0:2, loss: 0.6503, acc: 79.13%\n",
            "Epoch 2\n",
            "\tTrain elapsed: 1:5, loss: 0.4895, acc: 82.87%\n",
            "\tValidation elapsed: 0:2, loss: 0.5683, acc: 81.44%\n",
            "Epoch 3\n",
            "\tTrain elapsed: 1:5, loss: 0.4579, acc: 83.95%\n",
            "\tValidation elapsed: 0:2, loss: 0.5227, acc: 82.86%\n",
            "Epoch 4\n",
            "\tTrain elapsed: 1:5, loss: 0.4417, acc: 84.40%\n",
            "\tValidation elapsed: 0:2, loss: 0.5241, acc: 83.28%\n",
            "Epoch 5\n",
            "\tTrain elapsed: 1:5, loss: 0.4269, acc: 84.94%\n",
            "\tValidation elapsed: 0:2, loss: 0.5182, acc: 83.30%\n",
            "Epoch 6\n",
            "\tTrain elapsed: 1:5, loss: 0.4081, acc: 85.46%\n",
            "\tValidation elapsed: 0:2, loss: 0.5031, acc: 83.67%\n",
            "Epoch 7\n",
            "\tTrain elapsed: 1:5, loss: 0.3884, acc: 86.29%\n",
            "\tValidation elapsed: 0:2, loss: 0.4962, acc: 83.85%\n",
            "Epoch 8\n",
            "\tTrain elapsed: 1:6, loss: 0.3788, acc: 86.70%\n",
            "\tValidation elapsed: 0:2, loss: 0.4906, acc: 84.54%\n",
            "Epoch 9\n",
            "\tTrain elapsed: 1:5, loss: 0.3597, acc: 87.13%\n",
            "\tValidation elapsed: 0:2, loss: 0.4468, acc: 85.81%\n",
            "Epoch 10\n",
            "\tTrain elapsed: 1:5, loss: 0.3478, acc: 87.56%\n",
            "\tValidation elapsed: 0:2, loss: 0.4800, acc: 84.66%\n",
            "Epoch 11\n",
            "\tTrain elapsed: 1:5, loss: 0.3353, acc: 88.08%\n",
            "\tValidation elapsed: 0:2, loss: 0.4916, acc: 85.31%\n",
            "Epoch 12\n",
            "\tTrain elapsed: 1:5, loss: 0.3299, acc: 88.36%\n",
            "\tValidation elapsed: 0:2, loss: 0.4654, acc: 85.46%\n",
            "Epoch 13\n",
            "\tTrain elapsed: 1:5, loss: 0.3147, acc: 88.82%\n",
            "\tValidation elapsed: 0:2, loss: 0.4603, acc: 86.21%\n",
            "Epoch 14\n",
            "\tTrain elapsed: 1:5, loss: 0.3014, acc: 89.27%\n",
            "\tValidation elapsed: 0:2, loss: 0.4512, acc: 86.45%\n",
            "Epoch 15\n",
            "\tTrain elapsed: 1:5, loss: 0.2969, acc: 89.38%\n",
            "\tValidation elapsed: 0:2, loss: 0.4314, acc: 86.09%\n",
            "Epoch 16\n",
            "\tTrain elapsed: 1:5, loss: 0.2783, acc: 90.14%\n",
            "\tValidation elapsed: 0:2, loss: 0.4624, acc: 85.35%\n",
            "Epoch 17\n",
            "\tTrain elapsed: 1:5, loss: 0.2732, acc: 90.30%\n",
            "\tValidation elapsed: 0:2, loss: 0.4706, acc: 86.28%\n",
            "Epoch 18\n",
            "\tTrain elapsed: 1:5, loss: 0.2712, acc: 90.54%\n",
            "\tValidation elapsed: 0:2, loss: 0.4519, acc: 85.97%\n",
            "Epoch 19\n",
            "\tTrain elapsed: 1:5, loss: 0.2652, acc: 90.61%\n",
            "\tValidation elapsed: 0:2, loss: 0.4588, acc: 86.01%\n",
            "Epoch 20\n",
            "\tTrain elapsed: 1:5, loss: 0.2485, acc: 91.24%\n",
            "\tValidation elapsed: 0:2, loss: 0.4470, acc: 86.65%\n"
          ]
        }
      ],
      "source": [
        "for epoch in range(1, EPOCHS+1):\n",
        "    start = time.time()\n",
        "\n",
        "    print(f\"Epoch {epoch}\")\n",
        "    train_loss, train_acc = train_one_epoch(model, train_iterator, criterion, optimizer, device)\n",
        "    train_mins, train_secs = epoch_time(start, time.time())\n",
        "\n",
        "    print(f\"\\tTrain elapsed: {train_mins}:{train_secs}, loss: {train_loss:.4f}, acc: {train_acc * 100:.2f}%\")\n",
        "\n",
        "    start = time.time()\n",
        "    val_loss, val_acc = evaluate(model, valid_iterator, criterion, device)\n",
        "    val_mins, val_secs = epoch_time(start, time.time())\n",
        "\n",
        "    print(f\"\\tValidation elapsed: {val_mins}:{val_secs}, loss: {val_loss:.4f}, acc: {val_acc * 100:.2f}%\")\n",
        "\n",
        "    if val_loss < best_loss:\n",
        "        best_loss = val_loss\n",
        "        # torch.save(model.state_dict(), \"/content/drive/MyDrive/Colab Notebooks/midterm/resnet_alex_485.pt\")\n",
        "        torch.save(model.state_dict(), file_path)"
      ]
    },
    {
      "cell_type": "markdown",
      "metadata": {
        "id": "txl2I40ZGwrX"
      },
      "source": [
        "## Evaluate the Model  "
      ]
    },
    {
      "cell_type": "code",
      "execution_count": null,
      "metadata": {
        "colab": {
          "base_uri": "https://localhost:8080/"
        },
        "id": "io_QMFwgGwrX",
        "outputId": "9d742dba-bcf3-41f4-844a-5c325de68f11"
      },
      "outputs": [
        {
          "name": "stdout",
          "output_type": "stream",
          "text": [
            "Test Loss: 0.4431\n",
            "Test Accuracy: 85.99%\n"
          ]
        }
      ],
      "source": [
        "# model.load_state_dict(torch.load(\"/content/drive/MyDrive/Colab Notebooks/midterm/resnet_alex_485.pt\"))\n",
        "model.load_state_dict(torch.load(file_path))\n",
        "test_loss, test_acc = evaluate(model.to(device), test_iterator, criterion, device)\n",
        "print(f\"Test Loss: {test_loss:.4f}\\nTest Accuracy: {test_acc * 100:.2f}%\")"
      ]
    }
  ],
  "metadata": {
    "accelerator": "GPU",
    "colab": {
      "collapsed_sections": [],
      "provenance": []
    },
    "gpuClass": "standard",
    "kernelspec": {
      "display_name": "Python 3 (ipykernel)",
      "language": "python",
      "name": "python3"
    },
    "language_info": {
      "codemirror_mode": {
        "name": "ipython",
        "version": 3
      },
      "file_extension": ".py",
      "mimetype": "text/x-python",
      "name": "python",
      "nbconvert_exporter": "python",
      "pygments_lexer": "ipython3",
      "version": "3.10.8"
    },
    "orig_nbformat": 4,
    "vscode": {
      "interpreter": {
        "hash": "1f47d77051f6b3ff9692dd9abb1762c48ba70321fbafb2dfb079395901beb4e2"
      }
    },
    "widgets": {
      "application/vnd.jupyter.widget-state+json": {
        "0c8b12c702064b3abd9fe79867aefdee": {
          "model_module": "@jupyter-widgets/base",
          "model_module_version": "1.2.0",
          "model_name": "LayoutModel",
          "state": {
            "_model_module": "@jupyter-widgets/base",
            "_model_module_version": "1.2.0",
            "_model_name": "LayoutModel",
            "_view_count": null,
            "_view_module": "@jupyter-widgets/base",
            "_view_module_version": "1.2.0",
            "_view_name": "LayoutView",
            "align_content": null,
            "align_items": null,
            "align_self": null,
            "border": null,
            "bottom": null,
            "display": null,
            "flex": null,
            "flex_flow": null,
            "grid_area": null,
            "grid_auto_columns": null,
            "grid_auto_flow": null,
            "grid_auto_rows": null,
            "grid_column": null,
            "grid_gap": null,
            "grid_row": null,
            "grid_template_areas": null,
            "grid_template_columns": null,
            "grid_template_rows": null,
            "height": null,
            "justify_content": null,
            "justify_items": null,
            "left": null,
            "margin": null,
            "max_height": null,
            "max_width": null,
            "min_height": null,
            "min_width": null,
            "object_fit": null,
            "object_position": null,
            "order": null,
            "overflow": null,
            "overflow_x": null,
            "overflow_y": null,
            "padding": null,
            "right": null,
            "top": null,
            "visibility": null,
            "width": null
          }
        },
        "311f491b4a524247abdddd45b3be9819": {
          "model_module": "@jupyter-widgets/base",
          "model_module_version": "1.2.0",
          "model_name": "LayoutModel",
          "state": {
            "_model_module": "@jupyter-widgets/base",
            "_model_module_version": "1.2.0",
            "_model_name": "LayoutModel",
            "_view_count": null,
            "_view_module": "@jupyter-widgets/base",
            "_view_module_version": "1.2.0",
            "_view_name": "LayoutView",
            "align_content": null,
            "align_items": null,
            "align_self": null,
            "border": null,
            "bottom": null,
            "display": null,
            "flex": null,
            "flex_flow": null,
            "grid_area": null,
            "grid_auto_columns": null,
            "grid_auto_flow": null,
            "grid_auto_rows": null,
            "grid_column": null,
            "grid_gap": null,
            "grid_row": null,
            "grid_template_areas": null,
            "grid_template_columns": null,
            "grid_template_rows": null,
            "height": null,
            "justify_content": null,
            "justify_items": null,
            "left": null,
            "margin": null,
            "max_height": null,
            "max_width": null,
            "min_height": null,
            "min_width": null,
            "object_fit": null,
            "object_position": null,
            "order": null,
            "overflow": null,
            "overflow_x": null,
            "overflow_y": null,
            "padding": null,
            "right": null,
            "top": null,
            "visibility": null,
            "width": null
          }
        },
        "345f0c1c13ba43bd89c8d693c3536aee": {
          "model_module": "@jupyter-widgets/controls",
          "model_module_version": "1.5.0",
          "model_name": "DescriptionStyleModel",
          "state": {
            "_model_module": "@jupyter-widgets/controls",
            "_model_module_version": "1.5.0",
            "_model_name": "DescriptionStyleModel",
            "_view_count": null,
            "_view_module": "@jupyter-widgets/base",
            "_view_module_version": "1.2.0",
            "_view_name": "StyleView",
            "description_width": ""
          }
        },
        "4864ded28dd04e7fa8ad86e359969fa3": {
          "model_module": "@jupyter-widgets/base",
          "model_module_version": "1.2.0",
          "model_name": "LayoutModel",
          "state": {
            "_model_module": "@jupyter-widgets/base",
            "_model_module_version": "1.2.0",
            "_model_name": "LayoutModel",
            "_view_count": null,
            "_view_module": "@jupyter-widgets/base",
            "_view_module_version": "1.2.0",
            "_view_name": "LayoutView",
            "align_content": null,
            "align_items": null,
            "align_self": null,
            "border": null,
            "bottom": null,
            "display": null,
            "flex": null,
            "flex_flow": null,
            "grid_area": null,
            "grid_auto_columns": null,
            "grid_auto_flow": null,
            "grid_auto_rows": null,
            "grid_column": null,
            "grid_gap": null,
            "grid_row": null,
            "grid_template_areas": null,
            "grid_template_columns": null,
            "grid_template_rows": null,
            "height": null,
            "justify_content": null,
            "justify_items": null,
            "left": null,
            "margin": null,
            "max_height": null,
            "max_width": null,
            "min_height": null,
            "min_width": null,
            "object_fit": null,
            "object_position": null,
            "order": null,
            "overflow": null,
            "overflow_x": null,
            "overflow_y": null,
            "padding": null,
            "right": null,
            "top": null,
            "visibility": null,
            "width": null
          }
        },
        "5fe474db697e46f0b4552648ce63f500": {
          "model_module": "@jupyter-widgets/controls",
          "model_module_version": "1.5.0",
          "model_name": "HTMLModel",
          "state": {
            "_dom_classes": [],
            "_model_module": "@jupyter-widgets/controls",
            "_model_module_version": "1.5.0",
            "_model_name": "HTMLModel",
            "_view_count": null,
            "_view_module": "@jupyter-widgets/controls",
            "_view_module_version": "1.5.0",
            "_view_name": "HTMLView",
            "description": "",
            "description_tooltip": null,
            "layout": "IPY_MODEL_311f491b4a524247abdddd45b3be9819",
            "placeholder": "​",
            "style": "IPY_MODEL_eda4fd029831455ea64a3b869ef8501a",
            "value": " 170498071/170498071 [00:03&lt;00:00, 54089454.42it/s]"
          }
        },
        "69d93a40e18a480ba741c41620c4da30": {
          "model_module": "@jupyter-widgets/controls",
          "model_module_version": "1.5.0",
          "model_name": "HTMLModel",
          "state": {
            "_dom_classes": [],
            "_model_module": "@jupyter-widgets/controls",
            "_model_module_version": "1.5.0",
            "_model_name": "HTMLModel",
            "_view_count": null,
            "_view_module": "@jupyter-widgets/controls",
            "_view_module_version": "1.5.0",
            "_view_name": "HTMLView",
            "description": "",
            "description_tooltip": null,
            "layout": "IPY_MODEL_4864ded28dd04e7fa8ad86e359969fa3",
            "placeholder": "​",
            "style": "IPY_MODEL_345f0c1c13ba43bd89c8d693c3536aee",
            "value": "100%"
          }
        },
        "7420acbcd2734eca91f9e33e3d5c9efc": {
          "model_module": "@jupyter-widgets/controls",
          "model_module_version": "1.5.0",
          "model_name": "ProgressStyleModel",
          "state": {
            "_model_module": "@jupyter-widgets/controls",
            "_model_module_version": "1.5.0",
            "_model_name": "ProgressStyleModel",
            "_view_count": null,
            "_view_module": "@jupyter-widgets/base",
            "_view_module_version": "1.2.0",
            "_view_name": "StyleView",
            "bar_color": null,
            "description_width": ""
          }
        },
        "b2690814d6aa49ac9e671e450e4113d3": {
          "model_module": "@jupyter-widgets/controls",
          "model_module_version": "1.5.0",
          "model_name": "FloatProgressModel",
          "state": {
            "_dom_classes": [],
            "_model_module": "@jupyter-widgets/controls",
            "_model_module_version": "1.5.0",
            "_model_name": "FloatProgressModel",
            "_view_count": null,
            "_view_module": "@jupyter-widgets/controls",
            "_view_module_version": "1.5.0",
            "_view_name": "ProgressView",
            "bar_style": "success",
            "description": "",
            "description_tooltip": null,
            "layout": "IPY_MODEL_d7bca42830254a7e8c2ca2e4be532c5a",
            "max": 170498071,
            "min": 0,
            "orientation": "horizontal",
            "style": "IPY_MODEL_7420acbcd2734eca91f9e33e3d5c9efc",
            "value": 170498071
          }
        },
        "c9f4ba9f71de4c82bb38ff60eae11f83": {
          "model_module": "@jupyter-widgets/controls",
          "model_module_version": "1.5.0",
          "model_name": "HBoxModel",
          "state": {
            "_dom_classes": [],
            "_model_module": "@jupyter-widgets/controls",
            "_model_module_version": "1.5.0",
            "_model_name": "HBoxModel",
            "_view_count": null,
            "_view_module": "@jupyter-widgets/controls",
            "_view_module_version": "1.5.0",
            "_view_name": "HBoxView",
            "box_style": "",
            "children": [
              "IPY_MODEL_69d93a40e18a480ba741c41620c4da30",
              "IPY_MODEL_b2690814d6aa49ac9e671e450e4113d3",
              "IPY_MODEL_5fe474db697e46f0b4552648ce63f500"
            ],
            "layout": "IPY_MODEL_0c8b12c702064b3abd9fe79867aefdee"
          }
        },
        "d7bca42830254a7e8c2ca2e4be532c5a": {
          "model_module": "@jupyter-widgets/base",
          "model_module_version": "1.2.0",
          "model_name": "LayoutModel",
          "state": {
            "_model_module": "@jupyter-widgets/base",
            "_model_module_version": "1.2.0",
            "_model_name": "LayoutModel",
            "_view_count": null,
            "_view_module": "@jupyter-widgets/base",
            "_view_module_version": "1.2.0",
            "_view_name": "LayoutView",
            "align_content": null,
            "align_items": null,
            "align_self": null,
            "border": null,
            "bottom": null,
            "display": null,
            "flex": null,
            "flex_flow": null,
            "grid_area": null,
            "grid_auto_columns": null,
            "grid_auto_flow": null,
            "grid_auto_rows": null,
            "grid_column": null,
            "grid_gap": null,
            "grid_row": null,
            "grid_template_areas": null,
            "grid_template_columns": null,
            "grid_template_rows": null,
            "height": null,
            "justify_content": null,
            "justify_items": null,
            "left": null,
            "margin": null,
            "max_height": null,
            "max_width": null,
            "min_height": null,
            "min_width": null,
            "object_fit": null,
            "object_position": null,
            "order": null,
            "overflow": null,
            "overflow_x": null,
            "overflow_y": null,
            "padding": null,
            "right": null,
            "top": null,
            "visibility": null,
            "width": null
          }
        },
        "eda4fd029831455ea64a3b869ef8501a": {
          "model_module": "@jupyter-widgets/controls",
          "model_module_version": "1.5.0",
          "model_name": "DescriptionStyleModel",
          "state": {
            "_model_module": "@jupyter-widgets/controls",
            "_model_module_version": "1.5.0",
            "_model_name": "DescriptionStyleModel",
            "_view_count": null,
            "_view_module": "@jupyter-widgets/base",
            "_view_module_version": "1.2.0",
            "_view_name": "StyleView",
            "description_width": ""
          }
        }
      }
    }
  },
  "nbformat": 4,
  "nbformat_minor": 0
}
