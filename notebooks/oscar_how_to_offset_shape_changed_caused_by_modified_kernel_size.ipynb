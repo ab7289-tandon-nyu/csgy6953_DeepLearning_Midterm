{
  "nbformat": 4,
  "nbformat_minor": 0,
  "metadata": {
    "colab": {
      "provenance": [],
      "authorship_tag": "ABX9TyP4/8qYq2G/RmCpe2ZncQyu",
      "include_colab_link": true
    },
    "kernelspec": {
      "name": "python3",
      "display_name": "Python 3"
    },
    "language_info": {
      "name": "python"
    },
    "gpuClass": "standard"
  },
  "cells": [
    {
      "cell_type": "markdown",
      "metadata": {
        "id": "view-in-github",
        "colab_type": "text"
      },
      "source": [
        "<a href=\"https://colab.research.google.com/github/ab7289-tandon-nyu/csgy6953_DeepLearning_Midterm/blob/oscar2/oscar_how_to_offset_shape_changed_caused_by_modified_kernel_size.ipynb\" target=\"_parent\"><img src=\"https://colab.research.google.com/assets/colab-badge.svg\" alt=\"Open In Colab\"/></a>"
      ]
    },
    {
      "cell_type": "code",
      "execution_count": null,
      "metadata": {
        "id": "YYBaa6unlYZW"
      },
      "outputs": [],
      "source": [
        "import torch\n",
        "import torch.nn as nn"
      ]
    },
    {
      "cell_type": "code",
      "source": [
        "one_sample_input_shape = (3, 32, 32)\n",
        "\n",
        "one_sample_input = torch.rand(one_sample_input_shape)\n",
        "print(one_sample_input.shape)"
      ],
      "metadata": {
        "colab": {
          "base_uri": "https://localhost:8080/"
        },
        "id": "Hf1_Rop5mEhp",
        "outputId": "8f66a84f-2a0a-41fa-9d91-d756b9afab28"
      },
      "execution_count": null,
      "outputs": [
        {
          "output_type": "stream",
          "name": "stdout",
          "text": [
            "torch.Size([3, 32, 32])\n"
          ]
        }
      ]
    },
    {
      "cell_type": "code",
      "source": [
        "## ResNet > stem > the sole conv layer\n",
        "\n",
        "resnet_stem_conv = \\\n",
        "nn.Conv2d(in_channels  = one_sample_input_shape[0], # = 3  # channel\n",
        "          out_channels = 64,                               # channel\n",
        "          kernel_size  = 3, stride = 1, padding = 1,       # image size\n",
        "          bias = False)\n",
        "\n",
        "# out_n \n",
        "# = floor( (in_n + 2*pad - kernel) / stride + 1) \n",
        "# = floor(  in_n + 2*pad - kernel           + 1)\n",
        "# = floor(  in_n + 2     - 3                + 1)\n",
        "# =         in_n\n",
        "\n",
        "print(one_sample_input.shape)\n",
        "print('\\|/', resnet_stem_conv, '\\|/')\n",
        "one_sample_resnet_stem_output = resnet_stem_conv(one_sample_input)\n",
        "print(one_sample_resnet_stem_output.shape)"
      ],
      "metadata": {
        "colab": {
          "base_uri": "https://localhost:8080/"
        },
        "id": "zSNwgU9amS9J",
        "outputId": "72a5eda9-fddf-4c35-d7fb-647758b4fcf0"
      },
      "execution_count": null,
      "outputs": [
        {
          "output_type": "stream",
          "name": "stdout",
          "text": [
            "torch.Size([3, 32, 32])\n",
            "\\|/ Conv2d(3, 64, kernel_size=(3, 3), stride=(1, 1), padding=(1, 1), bias=False) \\|/\n",
            "torch.Size([64, 32, 32])\n"
          ]
        }
      ]
    },
    {
      "cell_type": "code",
      "source": [
        "## ResNet > body > residual layer 1 > residual block 1 > two conv layers and an identity\n",
        "\n",
        "main_block_kernel_size = 2\n",
        "\n",
        "resnet_body_layer1_block1_conv1 = \\\n",
        "nn.Conv2d(in_channels = one_sample_resnet_stem_output.shape[0],          # channel\n",
        "          out_channels = 64,                                             # channel\n",
        "          kernel_size = main_block_kernel_size, stride = 1, padding = 1, # image size\n",
        "          bias = False)\n",
        "\n",
        "# out_n \n",
        "# = floor( (in_n + 2*pad - kernel) / stride + 1) \n",
        "# = floor(  in_n + 2*pad - kernel           + 1)\n",
        "# = floor(  in_n + 2     - 2                + 1)\n",
        "# =         in_n                            + 1\n",
        "\n",
        "print(one_sample_resnet_stem_output.shape)\n",
        "print('\\|/', resnet_stem_conv, '\\|/')\n",
        "one_sample_resnet_body_layer1_block1_conv1_output = resnet_body_layer1_block1_conv1(one_sample_resnet_stem_output)\n",
        "print(one_sample_resnet_body_layer1_block1_conv1_output.shape)\n",
        "\n",
        "# ----\n",
        "\n",
        "resnet_body_one_block_pool1 = \\\n",
        "nn.AvgPool2d(kernel_size = 2, stride = 1)\n",
        "\n",
        "# out_n\n",
        "# = floor( (in_n + 2*padding - kernel) / stride + 1)\n",
        "# = floor(  in_n + 2*padding - kernel           + 1)\n",
        "# =         in_n +   0       - 2                + 1\n",
        "# = in_n - 1\n",
        "\n",
        "print(one_sample_resnet_body_layer1_block1_conv1_output.shape)\n",
        "print('\\|/', resnet_body_one_block_pool1, '\\|/')\n",
        "one_sample_resnet_body_layer1_block1_pool1_output = resnet_body_one_block_pool1(one_sample_resnet_body_layer1_block1_conv1_output)\n",
        "print(one_sample_resnet_body_layer1_block1_pool1_output.shape)"
      ],
      "metadata": {
        "colab": {
          "base_uri": "https://localhost:8080/"
        },
        "id": "pW-UnliJnXXx",
        "outputId": "2c6c938d-83b1-42d4-c634-4bbd36390cf1"
      },
      "execution_count": null,
      "outputs": [
        {
          "output_type": "stream",
          "name": "stdout",
          "text": [
            "torch.Size([64, 32, 32])\n",
            "\\|/ Conv2d(3, 64, kernel_size=(3, 3), stride=(1, 1), padding=(1, 1), bias=False) \\|/\n",
            "torch.Size([64, 33, 33])\n",
            "torch.Size([64, 33, 33])\n",
            "\\|/ AvgPool2d(kernel_size=2, stride=1, padding=0) \\|/\n",
            "torch.Size([64, 32, 32])\n"
          ]
        }
      ]
    },
    {
      "cell_type": "code",
      "source": [],
      "metadata": {
        "id": "GvkvslZVTojp"
      },
      "execution_count": null,
      "outputs": []
    }
  ]
}