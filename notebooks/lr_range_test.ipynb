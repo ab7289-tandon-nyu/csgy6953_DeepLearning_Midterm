{
 "cells": [
  {
   "cell_type": "code",
   "execution_count": 8,
   "metadata": {},
   "outputs": [
    {
     "name": "stdout",
     "output_type": "stream",
     "text": [
      "Obtaining file:///C:/dev/workspace/NYU/csgy6953_DeepLearning_Midterm\n",
      "  Installing build dependencies: started\n",
      "  Installing build dependencies: finished with status 'done'\n",
      "  Checking if build backend supports build_editable: started\n",
      "  Checking if build backend supports build_editable: finished with status 'done'\n",
      "  Getting requirements to build editable: started\n",
      "  Getting requirements to build editable: finished with status 'done'\n",
      "  Preparing editable metadata (pyproject.toml): started\n",
      "  Preparing editable metadata (pyproject.toml): finished with status 'done'\n",
      "Requirement already satisfied: matplotlib in c:\\dev\\workspace\\nyu\\csgy6953_deeplearning_midterm\\venv\\lib\\site-packages (from ResNetSrc==0.0.1.dev0) (3.6.2)\n",
      "Requirement already satisfied: torch in c:\\dev\\workspace\\nyu\\csgy6953_deeplearning_midterm\\venv\\lib\\site-packages (from ResNetSrc==0.0.1.dev0) (1.13.0)\n",
      "Requirement already satisfied: torch-summary in c:\\dev\\workspace\\nyu\\csgy6953_deeplearning_midterm\\venv\\lib\\site-packages (from ResNetSrc==0.0.1.dev0) (1.4.5)\n",
      "Requirement already satisfied: torchvision in c:\\dev\\workspace\\nyu\\csgy6953_deeplearning_midterm\\venv\\lib\\site-packages (from ResNetSrc==0.0.1.dev0) (0.14.0)\n",
      "Requirement already satisfied: jupyter in c:\\dev\\workspace\\nyu\\csgy6953_deeplearning_midterm\\venv\\lib\\site-packages (from ResNetSrc==0.0.1.dev0) (1.0.0)\n",
      "Requirement already satisfied: notebook in c:\\dev\\workspace\\nyu\\csgy6953_deeplearning_midterm\\venv\\lib\\site-packages (from ResNetSrc==0.0.1.dev0) (6.5.2)\n",
      "Requirement already satisfied: ipykernel in c:\\dev\\workspace\\nyu\\csgy6953_deeplearning_midterm\\venv\\lib\\site-packages (from jupyter->ResNetSrc==0.0.1.dev0) (6.17.1)\n",
      "Requirement already satisfied: ipywidgets in c:\\dev\\workspace\\nyu\\csgy6953_deeplearning_midterm\\venv\\lib\\site-packages (from jupyter->ResNetSrc==0.0.1.dev0) (8.0.2)\n",
      "Requirement already satisfied: jupyter-console in c:\\dev\\workspace\\nyu\\csgy6953_deeplearning_midterm\\venv\\lib\\site-packages (from jupyter->ResNetSrc==0.0.1.dev0) (6.4.4)\n",
      "Requirement already satisfied: qtconsole in c:\\dev\\workspace\\nyu\\csgy6953_deeplearning_midterm\\venv\\lib\\site-packages (from jupyter->ResNetSrc==0.0.1.dev0) (5.4.0)\n",
      "Requirement already satisfied: nbconvert in c:\\dev\\workspace\\nyu\\csgy6953_deeplearning_midterm\\venv\\lib\\site-packages (from jupyter->ResNetSrc==0.0.1.dev0) (7.2.5)\n",
      "Requirement already satisfied: python-dateutil>=2.7 in c:\\dev\\workspace\\nyu\\csgy6953_deeplearning_midterm\\venv\\lib\\site-packages (from matplotlib->ResNetSrc==0.0.1.dev0) (2.8.2)\n",
      "Requirement already satisfied: packaging>=20.0 in c:\\dev\\workspace\\nyu\\csgy6953_deeplearning_midterm\\venv\\lib\\site-packages (from matplotlib->ResNetSrc==0.0.1.dev0) (21.3)\n",
      "Requirement already satisfied: fonttools>=4.22.0 in c:\\dev\\workspace\\nyu\\csgy6953_deeplearning_midterm\\venv\\lib\\site-packages (from matplotlib->ResNetSrc==0.0.1.dev0) (4.38.0)\n",
      "Requirement already satisfied: contourpy>=1.0.1 in c:\\dev\\workspace\\nyu\\csgy6953_deeplearning_midterm\\venv\\lib\\site-packages (from matplotlib->ResNetSrc==0.0.1.dev0) (1.0.6)\n",
      "Requirement already satisfied: cycler>=0.10 in c:\\dev\\workspace\\nyu\\csgy6953_deeplearning_midterm\\venv\\lib\\site-packages (from matplotlib->ResNetSrc==0.0.1.dev0) (0.11.0)\n",
      "Requirement already satisfied: pillow>=6.2.0 in c:\\dev\\workspace\\nyu\\csgy6953_deeplearning_midterm\\venv\\lib\\site-packages (from matplotlib->ResNetSrc==0.0.1.dev0) (9.3.0)\n",
      "Requirement already satisfied: pyparsing>=2.2.1 in c:\\dev\\workspace\\nyu\\csgy6953_deeplearning_midterm\\venv\\lib\\site-packages (from matplotlib->ResNetSrc==0.0.1.dev0) (3.0.9)\n",
      "Requirement already satisfied: kiwisolver>=1.0.1 in c:\\dev\\workspace\\nyu\\csgy6953_deeplearning_midterm\\venv\\lib\\site-packages (from matplotlib->ResNetSrc==0.0.1.dev0) (1.4.4)\n",
      "Requirement already satisfied: numpy>=1.19 in c:\\dev\\workspace\\nyu\\csgy6953_deeplearning_midterm\\venv\\lib\\site-packages (from matplotlib->ResNetSrc==0.0.1.dev0) (1.23.4)\n",
      "Requirement already satisfied: Send2Trash>=1.8.0 in c:\\dev\\workspace\\nyu\\csgy6953_deeplearning_midterm\\venv\\lib\\site-packages (from notebook->ResNetSrc==0.0.1.dev0) (1.8.0)\n",
      "Requirement already satisfied: tornado>=6.1 in c:\\dev\\workspace\\nyu\\csgy6953_deeplearning_midterm\\venv\\lib\\site-packages (from notebook->ResNetSrc==0.0.1.dev0) (6.2)\n",
      "Requirement already satisfied: prometheus-client in c:\\dev\\workspace\\nyu\\csgy6953_deeplearning_midterm\\venv\\lib\\site-packages (from notebook->ResNetSrc==0.0.1.dev0) (0.15.0)\n",
      "Requirement already satisfied: terminado>=0.8.3 in c:\\dev\\workspace\\nyu\\csgy6953_deeplearning_midterm\\venv\\lib\\site-packages (from notebook->ResNetSrc==0.0.1.dev0) (0.17.0)\n",
      "Requirement already satisfied: jinja2 in c:\\dev\\workspace\\nyu\\csgy6953_deeplearning_midterm\\venv\\lib\\site-packages (from notebook->ResNetSrc==0.0.1.dev0) (3.1.2)\n",
      "Requirement already satisfied: jupyter-client>=5.3.4 in c:\\dev\\workspace\\nyu\\csgy6953_deeplearning_midterm\\venv\\lib\\site-packages (from notebook->ResNetSrc==0.0.1.dev0) (7.4.7)\n",
      "Requirement already satisfied: traitlets>=4.2.1 in c:\\dev\\workspace\\nyu\\csgy6953_deeplearning_midterm\\venv\\lib\\site-packages (from notebook->ResNetSrc==0.0.1.dev0) (5.5.0)\n",
      "Requirement already satisfied: nest-asyncio>=1.5 in c:\\dev\\workspace\\nyu\\csgy6953_deeplearning_midterm\\venv\\lib\\site-packages (from notebook->ResNetSrc==0.0.1.dev0) (1.5.6)\n",
      "Requirement already satisfied: argon2-cffi in c:\\dev\\workspace\\nyu\\csgy6953_deeplearning_midterm\\venv\\lib\\site-packages (from notebook->ResNetSrc==0.0.1.dev0) (21.3.0)\n",
      "Requirement already satisfied: nbformat in c:\\dev\\workspace\\nyu\\csgy6953_deeplearning_midterm\\venv\\lib\\site-packages (from notebook->ResNetSrc==0.0.1.dev0) (5.7.0)\n",
      "Requirement already satisfied: nbclassic>=0.4.7 in c:\\dev\\workspace\\nyu\\csgy6953_deeplearning_midterm\\venv\\lib\\site-packages (from notebook->ResNetSrc==0.0.1.dev0) (0.4.8)\n",
      "Requirement already satisfied: jupyter-core>=4.6.1 in c:\\dev\\workspace\\nyu\\csgy6953_deeplearning_midterm\\venv\\lib\\site-packages (from notebook->ResNetSrc==0.0.1.dev0) (5.0.0)\n",
      "Requirement already satisfied: pyzmq>=17 in c:\\dev\\workspace\\nyu\\csgy6953_deeplearning_midterm\\venv\\lib\\site-packages (from notebook->ResNetSrc==0.0.1.dev0) (24.0.1)\n",
      "Requirement already satisfied: ipython-genutils in c:\\dev\\workspace\\nyu\\csgy6953_deeplearning_midterm\\venv\\lib\\site-packages (from notebook->ResNetSrc==0.0.1.dev0) (0.2.0)\n",
      "Requirement already satisfied: typing-extensions in c:\\dev\\workspace\\nyu\\csgy6953_deeplearning_midterm\\venv\\lib\\site-packages (from torch->ResNetSrc==0.0.1.dev0) (4.4.0)\n",
      "Requirement already satisfied: requests in c:\\dev\\workspace\\nyu\\csgy6953_deeplearning_midterm\\venv\\lib\\site-packages (from torchvision->ResNetSrc==0.0.1.dev0) (2.28.1)\n",
      "Requirement already satisfied: entrypoints in c:\\dev\\workspace\\nyu\\csgy6953_deeplearning_midterm\\venv\\lib\\site-packages (from jupyter-client>=5.3.4->notebook->ResNetSrc==0.0.1.dev0) (0.4)\n",
      "Requirement already satisfied: pywin32>=1.0 in c:\\dev\\workspace\\nyu\\csgy6953_deeplearning_midterm\\venv\\lib\\site-packages (from jupyter-core>=4.6.1->notebook->ResNetSrc==0.0.1.dev0) (305)\n",
      "Requirement already satisfied: platformdirs in c:\\dev\\workspace\\nyu\\csgy6953_deeplearning_midterm\\venv\\lib\\site-packages (from jupyter-core>=4.6.1->notebook->ResNetSrc==0.0.1.dev0) (2.5.4)\n",
      "Requirement already satisfied: notebook-shim>=0.1.0 in c:\\dev\\workspace\\nyu\\csgy6953_deeplearning_midterm\\venv\\lib\\site-packages (from nbclassic>=0.4.7->notebook->ResNetSrc==0.0.1.dev0) (0.2.2)\n",
      "Requirement already satisfied: jupyter-server>=1.8 in c:\\dev\\workspace\\nyu\\csgy6953_deeplearning_midterm\\venv\\lib\\site-packages (from nbclassic>=0.4.7->notebook->ResNetSrc==0.0.1.dev0) (1.23.2)\n",
      "Requirement already satisfied: bleach in c:\\dev\\workspace\\nyu\\csgy6953_deeplearning_midterm\\venv\\lib\\site-packages (from nbconvert->jupyter->ResNetSrc==0.0.1.dev0) (5.0.1)\n",
      "Requirement already satisfied: pygments>=2.4.1 in c:\\dev\\workspace\\nyu\\csgy6953_deeplearning_midterm\\venv\\lib\\site-packages (from nbconvert->jupyter->ResNetSrc==0.0.1.dev0) (2.13.0)\n",
      "Requirement already satisfied: jupyterlab-pygments in c:\\dev\\workspace\\nyu\\csgy6953_deeplearning_midterm\\venv\\lib\\site-packages (from nbconvert->jupyter->ResNetSrc==0.0.1.dev0) (0.2.2)\n",
      "Requirement already satisfied: defusedxml in c:\\dev\\workspace\\nyu\\csgy6953_deeplearning_midterm\\venv\\lib\\site-packages (from nbconvert->jupyter->ResNetSrc==0.0.1.dev0) (0.7.1)\n",
      "Requirement already satisfied: markupsafe>=2.0 in c:\\dev\\workspace\\nyu\\csgy6953_deeplearning_midterm\\venv\\lib\\site-packages (from nbconvert->jupyter->ResNetSrc==0.0.1.dev0) (2.1.1)\n",
      "Requirement already satisfied: nbclient>=0.5.0 in c:\\dev\\workspace\\nyu\\csgy6953_deeplearning_midterm\\venv\\lib\\site-packages (from nbconvert->jupyter->ResNetSrc==0.0.1.dev0) (0.7.0)\n",
      "Requirement already satisfied: beautifulsoup4 in c:\\dev\\workspace\\nyu\\csgy6953_deeplearning_midterm\\venv\\lib\\site-packages (from nbconvert->jupyter->ResNetSrc==0.0.1.dev0) (4.11.1)\n",
      "Requirement already satisfied: mistune<3,>=2.0.3 in c:\\dev\\workspace\\nyu\\csgy6953_deeplearning_midterm\\venv\\lib\\site-packages (from nbconvert->jupyter->ResNetSrc==0.0.1.dev0) (2.0.4)\n",
      "Requirement already satisfied: tinycss2 in c:\\dev\\workspace\\nyu\\csgy6953_deeplearning_midterm\\venv\\lib\\site-packages (from nbconvert->jupyter->ResNetSrc==0.0.1.dev0) (1.2.1)\n",
      "Requirement already satisfied: pandocfilters>=1.4.1 in c:\\dev\\workspace\\nyu\\csgy6953_deeplearning_midterm\\venv\\lib\\site-packages (from nbconvert->jupyter->ResNetSrc==0.0.1.dev0) (1.5.0)\n",
      "Requirement already satisfied: jsonschema>=2.6 in c:\\dev\\workspace\\nyu\\csgy6953_deeplearning_midterm\\venv\\lib\\site-packages (from nbformat->notebook->ResNetSrc==0.0.1.dev0) (4.17.0)\n",
      "Requirement already satisfied: fastjsonschema in c:\\dev\\workspace\\nyu\\csgy6953_deeplearning_midterm\\venv\\lib\\site-packages (from nbformat->notebook->ResNetSrc==0.0.1.dev0) (2.16.2)\n",
      "Requirement already satisfied: six>=1.5 in c:\\dev\\workspace\\nyu\\csgy6953_deeplearning_midterm\\venv\\lib\\site-packages (from python-dateutil>=2.7->matplotlib->ResNetSrc==0.0.1.dev0) (1.16.0)\n",
      "Requirement already satisfied: pywinpty>=1.1.0 in c:\\dev\\workspace\\nyu\\csgy6953_deeplearning_midterm\\venv\\lib\\site-packages (from terminado>=0.8.3->notebook->ResNetSrc==0.0.1.dev0) (2.0.9)\n",
      "Requirement already satisfied: argon2-cffi-bindings in c:\\dev\\workspace\\nyu\\csgy6953_deeplearning_midterm\\venv\\lib\\site-packages (from argon2-cffi->notebook->ResNetSrc==0.0.1.dev0) (21.2.0)\n",
      "Requirement already satisfied: ipython>=7.23.1 in c:\\dev\\workspace\\nyu\\csgy6953_deeplearning_midterm\\venv\\lib\\site-packages (from ipykernel->jupyter->ResNetSrc==0.0.1.dev0) (8.6.0)\n",
      "Requirement already satisfied: matplotlib-inline>=0.1 in c:\\dev\\workspace\\nyu\\csgy6953_deeplearning_midterm\\venv\\lib\\site-packages (from ipykernel->jupyter->ResNetSrc==0.0.1.dev0) (0.1.6)\n",
      "Requirement already satisfied: debugpy>=1.0 in c:\\dev\\workspace\\nyu\\csgy6953_deeplearning_midterm\\venv\\lib\\site-packages (from ipykernel->jupyter->ResNetSrc==0.0.1.dev0) (1.6.3)\n",
      "Requirement already satisfied: psutil in c:\\dev\\workspace\\nyu\\csgy6953_deeplearning_midterm\\venv\\lib\\site-packages (from ipykernel->jupyter->ResNetSrc==0.0.1.dev0) (5.9.4)\n",
      "Requirement already satisfied: jupyterlab-widgets~=3.0 in c:\\dev\\workspace\\nyu\\csgy6953_deeplearning_midterm\\venv\\lib\\site-packages (from ipywidgets->jupyter->ResNetSrc==0.0.1.dev0) (3.0.3)\n",
      "Requirement already satisfied: widgetsnbextension~=4.0 in c:\\dev\\workspace\\nyu\\csgy6953_deeplearning_midterm\\venv\\lib\\site-packages (from ipywidgets->jupyter->ResNetSrc==0.0.1.dev0) (4.0.3)\n",
      "Requirement already satisfied: prompt-toolkit!=3.0.0,!=3.0.1,<3.1.0,>=2.0.0 in c:\\dev\\workspace\\nyu\\csgy6953_deeplearning_midterm\\venv\\lib\\site-packages (from jupyter-console->jupyter->ResNetSrc==0.0.1.dev0) (3.0.32)\n",
      "Requirement already satisfied: qtpy>=2.0.1 in c:\\dev\\workspace\\nyu\\csgy6953_deeplearning_midterm\\venv\\lib\\site-packages (from qtconsole->jupyter->ResNetSrc==0.0.1.dev0) (2.3.0)\n",
      "Requirement already satisfied: idna<4,>=2.5 in c:\\dev\\workspace\\nyu\\csgy6953_deeplearning_midterm\\venv\\lib\\site-packages (from requests->torchvision->ResNetSrc==0.0.1.dev0) (3.4)\n",
      "Requirement already satisfied: charset-normalizer<3,>=2 in c:\\dev\\workspace\\nyu\\csgy6953_deeplearning_midterm\\venv\\lib\\site-packages (from requests->torchvision->ResNetSrc==0.0.1.dev0) (2.1.1)\n",
      "Requirement already satisfied: certifi>=2017.4.17 in c:\\dev\\workspace\\nyu\\csgy6953_deeplearning_midterm\\venv\\lib\\site-packages (from requests->torchvision->ResNetSrc==0.0.1.dev0) (2022.9.24)\n",
      "Requirement already satisfied: urllib3<1.27,>=1.21.1 in c:\\dev\\workspace\\nyu\\csgy6953_deeplearning_midterm\\venv\\lib\\site-packages (from requests->torchvision->ResNetSrc==0.0.1.dev0) (1.26.12)\n",
      "Requirement already satisfied: colorama in c:\\dev\\workspace\\nyu\\csgy6953_deeplearning_midterm\\venv\\lib\\site-packages (from ipython>=7.23.1->ipykernel->jupyter->ResNetSrc==0.0.1.dev0) (0.4.6)\n",
      "Requirement already satisfied: backcall in c:\\dev\\workspace\\nyu\\csgy6953_deeplearning_midterm\\venv\\lib\\site-packages (from ipython>=7.23.1->ipykernel->jupyter->ResNetSrc==0.0.1.dev0) (0.2.0)\n",
      "Requirement already satisfied: stack-data in c:\\dev\\workspace\\nyu\\csgy6953_deeplearning_midterm\\venv\\lib\\site-packages (from ipython>=7.23.1->ipykernel->jupyter->ResNetSrc==0.0.1.dev0) (0.6.1)\n",
      "Requirement already satisfied: jedi>=0.16 in c:\\dev\\workspace\\nyu\\csgy6953_deeplearning_midterm\\venv\\lib\\site-packages (from ipython>=7.23.1->ipykernel->jupyter->ResNetSrc==0.0.1.dev0) (0.18.1)\n",
      "Requirement already satisfied: decorator in c:\\dev\\workspace\\nyu\\csgy6953_deeplearning_midterm\\venv\\lib\\site-packages (from ipython>=7.23.1->ipykernel->jupyter->ResNetSrc==0.0.1.dev0) (5.1.1)\n",
      "Requirement already satisfied: pickleshare in c:\\dev\\workspace\\nyu\\csgy6953_deeplearning_midterm\\venv\\lib\\site-packages (from ipython>=7.23.1->ipykernel->jupyter->ResNetSrc==0.0.1.dev0) (0.7.5)\n",
      "Requirement already satisfied: attrs>=17.4.0 in c:\\dev\\workspace\\nyu\\csgy6953_deeplearning_midterm\\venv\\lib\\site-packages (from jsonschema>=2.6->nbformat->notebook->ResNetSrc==0.0.1.dev0) (22.1.0)\n",
      "Requirement already satisfied: pyrsistent!=0.17.0,!=0.17.1,!=0.17.2,>=0.14.0 in c:\\dev\\workspace\\nyu\\csgy6953_deeplearning_midterm\\venv\\lib\\site-packages (from jsonschema>=2.6->nbformat->notebook->ResNetSrc==0.0.1.dev0) (0.19.2)\n",
      "Requirement already satisfied: websocket-client in c:\\dev\\workspace\\nyu\\csgy6953_deeplearning_midterm\\venv\\lib\\site-packages (from jupyter-server>=1.8->nbclassic>=0.4.7->notebook->ResNetSrc==0.0.1.dev0) (1.4.2)\n",
      "Requirement already satisfied: anyio<4,>=3.1.0 in c:\\dev\\workspace\\nyu\\csgy6953_deeplearning_midterm\\venv\\lib\\site-packages (from jupyter-server>=1.8->nbclassic>=0.4.7->notebook->ResNetSrc==0.0.1.dev0) (3.6.2)\n",
      "Requirement already satisfied: wcwidth in c:\\dev\\workspace\\nyu\\csgy6953_deeplearning_midterm\\venv\\lib\\site-packages (from prompt-toolkit!=3.0.0,!=3.0.1,<3.1.0,>=2.0.0->jupyter-console->jupyter->ResNetSrc==0.0.1.dev0) (0.2.5)\n",
      "Requirement already satisfied: cffi>=1.0.1 in c:\\dev\\workspace\\nyu\\csgy6953_deeplearning_midterm\\venv\\lib\\site-packages (from argon2-cffi-bindings->argon2-cffi->notebook->ResNetSrc==0.0.1.dev0) (1.15.1)\n",
      "Requirement already satisfied: soupsieve>1.2 in c:\\dev\\workspace\\nyu\\csgy6953_deeplearning_midterm\\venv\\lib\\site-packages (from beautifulsoup4->nbconvert->jupyter->ResNetSrc==0.0.1.dev0) (2.3.2.post1)\n",
      "Requirement already satisfied: webencodings in c:\\dev\\workspace\\nyu\\csgy6953_deeplearning_midterm\\venv\\lib\\site-packages (from bleach->nbconvert->jupyter->ResNetSrc==0.0.1.dev0) (0.5.1)\n",
      "Requirement already satisfied: sniffio>=1.1 in c:\\dev\\workspace\\nyu\\csgy6953_deeplearning_midterm\\venv\\lib\\site-packages (from anyio<4,>=3.1.0->jupyter-server>=1.8->nbclassic>=0.4.7->notebook->ResNetSrc==0.0.1.dev0) (1.3.0)\n",
      "Requirement already satisfied: pycparser in c:\\dev\\workspace\\nyu\\csgy6953_deeplearning_midterm\\venv\\lib\\site-packages (from cffi>=1.0.1->argon2-cffi-bindings->argon2-cffi->notebook->ResNetSrc==0.0.1.dev0) (2.21)\n",
      "Requirement already satisfied: parso<0.9.0,>=0.8.0 in c:\\dev\\workspace\\nyu\\csgy6953_deeplearning_midterm\\venv\\lib\\site-packages (from jedi>=0.16->ipython>=7.23.1->ipykernel->jupyter->ResNetSrc==0.0.1.dev0) (0.8.3)\n",
      "Requirement already satisfied: pure-eval in c:\\dev\\workspace\\nyu\\csgy6953_deeplearning_midterm\\venv\\lib\\site-packages (from stack-data->ipython>=7.23.1->ipykernel->jupyter->ResNetSrc==0.0.1.dev0) (0.2.2)\n",
      "Requirement already satisfied: executing>=1.2.0 in c:\\dev\\workspace\\nyu\\csgy6953_deeplearning_midterm\\venv\\lib\\site-packages (from stack-data->ipython>=7.23.1->ipykernel->jupyter->ResNetSrc==0.0.1.dev0) (1.2.0)\n",
      "Requirement already satisfied: asttokens>=2.1.0 in c:\\dev\\workspace\\nyu\\csgy6953_deeplearning_midterm\\venv\\lib\\site-packages (from stack-data->ipython>=7.23.1->ipykernel->jupyter->ResNetSrc==0.0.1.dev0) (2.1.0)\n",
      "Building wheels for collected packages: ResNetSrc\n",
      "  Building editable for ResNetSrc (pyproject.toml): started\n",
      "  Building editable for ResNetSrc (pyproject.toml): finished with status 'done'\n",
      "  Created wheel for ResNetSrc: filename=ResNetSrc-0.0.1.dev0-0.editable-py3-none-any.whl size=6659 sha256=be85709492f044322140b5d327f07538f36748633fd661e7d5f1683bd27cac1f\n",
      "  Stored in directory: C:\\Users\\alexa\\AppData\\Local\\Temp\\pip-ephem-wheel-cache-qsrw3f0p\\wheels\\9a\\b8\\06\\09eddb28b116f9e70dce8803d5561fa4ce58d06d8d59c7142c\n",
      "Successfully built ResNetSrc\n",
      "Installing collected packages: ResNetSrc\n",
      "Successfully installed ResNetSrc-0.0.1.dev0\n"
     ]
    },
    {
     "name": "stderr",
     "output_type": "stream",
     "text": [
      "\n",
      "[notice] A new release of pip available: 22.3 -> 22.3.1\n",
      "[notice] To update, run: python.exe -m pip install --upgrade pip\n"
     ]
    }
   ],
   "source": [
    "!cd ../ && pip install -e ."
   ]
  },
  {
   "cell_type": "code",
   "execution_count": 9,
   "metadata": {},
   "outputs": [],
   "source": [
    "import torch\n",
    "import torch.nn as nn\n",
    "import matplotlib.pyplot as plt\n",
    "\n",
    "import time\n",
    "import copy\n",
    "import random"
   ]
  },
  {
   "cell_type": "code",
   "execution_count": 10,
   "metadata": {},
   "outputs": [],
   "source": [
    "SEED = 1234\n",
    "\n",
    "random.seed(SEED)\n",
    "torch.manual_seed(SEED)\n",
    "torch.cuda.manual_seed(SEED)\n",
    "torch.backends.cudnn.deterministic = True\n",
    "\n",
    "device = torch.device(\"cuda\" if torch.cuda.is_available() else \"cpu\")"
   ]
  },
  {
   "cell_type": "code",
   "execution_count": 12,
   "metadata": {},
   "outputs": [
    {
     "ename": "ModuleNotFoundError",
     "evalue": "No module named 'src'",
     "output_type": "error",
     "traceback": [
      "\u001b[1;31m---------------------------------------------------------------------------\u001b[0m",
      "\u001b[1;31mModuleNotFoundError\u001b[0m                       Traceback (most recent call last)",
      "Cell \u001b[1;32mIn [12], line 1\u001b[0m\n\u001b[1;32m----> 1\u001b[0m \u001b[39mfrom\u001b[39;00m \u001b[39msrc\u001b[39;00m\u001b[39m.\u001b[39;00m\u001b[39mdata\u001b[39;00m \u001b[39mimport\u001b[39;00m get_transformed_data, make_data_loaders\n\u001b[0;32m      2\u001b[0m \u001b[39mfrom\u001b[39;00m \u001b[39msrc\u001b[39;00m\u001b[39m.\u001b[39;00m\u001b[39mtransforms\u001b[39;00m \u001b[39mimport\u001b[39;00m make_auto_transforms\n\u001b[0;32m      4\u001b[0m BATCH_SIZE \u001b[39m=\u001b[39m \u001b[39m256\u001b[39m\n",
      "\u001b[1;31mModuleNotFoundError\u001b[0m: No module named 'src'"
     ]
    }
   ],
   "source": [
    "from src.data import get_transformed_data, make_data_loaders\n",
    "from src.transforms import make_auto_transforms\n",
    "\n",
    "BATCH_SIZE = 256\n",
    "valid_ration = 0.1\n",
    "\n",
    "train_iter, valid_iter, test_iter = (\n",
    "    make_data_loaders(\n",
    "        *get_transformed_data(\n",
    "            make_transforms= make_auto_transforms,\n",
    "            valid_ratio= valid_ration\n",
    "        )\n",
    "    )\n",
    ")"
   ]
  },
  {
   "cell_type": "code",
   "execution_count": 11,
   "metadata": {},
   "outputs": [
    {
     "ename": "ModuleNotFoundError",
     "evalue": "No module named 'src'",
     "output_type": "error",
     "traceback": [
      "\u001b[1;31m---------------------------------------------------------------------------\u001b[0m",
      "\u001b[1;31mModuleNotFoundError\u001b[0m                       Traceback (most recent call last)",
      "Cell \u001b[1;32mIn [11], line 1\u001b[0m\n\u001b[1;32m----> 1\u001b[0m \u001b[39mfrom\u001b[39;00m \u001b[39msrc\u001b[39;00m\u001b[39m.\u001b[39;00m\u001b[39mmodel\u001b[39;00m \u001b[39mimport\u001b[39;00m ResNet, StemConfig, ResidualBlockType\n\u001b[0;32m      2\u001b[0m \u001b[39m# import src.model as models\u001b[39;00m\n\u001b[0;32m      3\u001b[0m \u001b[39mfrom\u001b[39;00m \u001b[39msrc\u001b[39;00m\u001b[39m.\u001b[39;00m\u001b[39mutils\u001b[39;00m \u001b[39mimport\u001b[39;00m initialize_parameters\n",
      "\u001b[1;31mModuleNotFoundError\u001b[0m: No module named 'src'"
     ]
    }
   ],
   "source": [
    "from src.model import ResNet, StemConfig, ResidualBlockType\n",
    "# import src.model as models\n",
    "from src.utils import initialize_parameters\n",
    "\n",
    "arch = [\n",
    "    (ResidualBlockType.BOTTLENECK, 2, 128, 0.1),\n",
    "    (ResidualBlockType.BOTTLENECK, 6, 256, 0.1),\n",
    "    (ResidualBlockType.BOTTLENECK, 6, 512, 0.1),\n",
    "    (ResidualBlockType.BOTTLENECK, 2, 1024, 0.1),\n",
    "]\n",
    "\n",
    "config = StemConfig(num_channels=128, kernel_size=3, stride=1, padding=1)\n",
    "model = ResNet(arch, stem_config=config, output_size=10, use_bias=True)"
   ]
  },
  {
   "cell_type": "code",
   "execution_count": 13,
   "metadata": {},
   "outputs": [
    {
     "name": "stdout",
     "output_type": "stream",
     "text": [
      "Initializing new model\n"
     ]
    },
    {
     "ename": "NameError",
     "evalue": "name 'BATCH_SIZE' is not defined",
     "output_type": "error",
     "traceback": [
      "\u001b[1;31m---------------------------------------------------------------------------\u001b[0m",
      "\u001b[1;31mNameError\u001b[0m                                 Traceback (most recent call last)",
      "Cell \u001b[1;32mIn [13], line 2\u001b[0m\n\u001b[0;32m      1\u001b[0m \u001b[39mprint\u001b[39m(\u001b[39m\"\u001b[39m\u001b[39mInitializing new model\u001b[39m\u001b[39m\"\u001b[39m)\n\u001b[1;32m----> 2\u001b[0m inputs \u001b[39m=\u001b[39m torch\u001b[39m.\u001b[39mones((BATCH_SIZE, \u001b[39m3\u001b[39m, \u001b[39m32\u001b[39m, \u001b[39m32\u001b[39m))\n\u001b[0;32m      3\u001b[0m model \u001b[39m=\u001b[39m model\u001b[39m.\u001b[39mto(device)\n\u001b[0;32m      4\u001b[0m y \u001b[39m=\u001b[39m model(inputs\u001b[39m.\u001b[39mto(device))\n",
      "\u001b[1;31mNameError\u001b[0m: name 'BATCH_SIZE' is not defined"
     ]
    }
   ],
   "source": [
    "print(\"Initializing new model\")\n",
    "inputs = torch.ones((BATCH_SIZE, 3, 32, 32))\n",
    "model = model.to(device)\n",
    "y = model(inputs.to(device))\n",
    "print(y.size())\n",
    "\n",
    "model.apply(initialize_parameters)"
   ]
  },
  {
   "cell_type": "code",
   "execution_count": 14,
   "metadata": {},
   "outputs": [
    {
     "ename": "NameError",
     "evalue": "name 'model' is not defined",
     "output_type": "error",
     "traceback": [
      "\u001b[1;31m---------------------------------------------------------------------------\u001b[0m",
      "\u001b[1;31mNameError\u001b[0m                                 Traceback (most recent call last)",
      "Cell \u001b[1;32mIn [14], line 9\u001b[0m\n\u001b[0;32m      6\u001b[0m start_lr \u001b[39m=\u001b[39m \u001b[39m0.0001\u001b[39m\n\u001b[0;32m      8\u001b[0m criterion \u001b[39m=\u001b[39m nn\u001b[39m.\u001b[39mCrossEntropyLoss()\u001b[39m.\u001b[39mto(device)\n\u001b[1;32m----> 9\u001b[0m optimizer \u001b[39m=\u001b[39m torch\u001b[39m.\u001b[39moptim\u001b[39m.\u001b[39mAdamW(model\u001b[39m.\u001b[39mparameters())\n\u001b[0;32m     11\u001b[0m lr_lambda \u001b[39m=\u001b[39m \u001b[39mlambda\u001b[39;00m x: math\u001b[39m.\u001b[39mexp(x \u001b[39m*\u001b[39m math\u001b[39m.\u001b[39mlog(max_lr \u001b[39m/\u001b[39m start_lr) \u001b[39m/\u001b[39m (EPOCHS \u001b[39m*\u001b[39m \u001b[39mlen\u001b[39m(train_iter)))\n\u001b[0;32m     12\u001b[0m scheduler \u001b[39m=\u001b[39m torch\u001b[39m.\u001b[39moptim\u001b[39m.\u001b[39mlr_scheduler\u001b[39m.\u001b[39mLambdaLR(optimizer, lr_lambda)\n",
      "\u001b[1;31mNameError\u001b[0m: name 'model' is not defined"
     ]
    }
   ],
   "source": [
    "import math\n",
    "\n",
    "best_loss = float('inf')\n",
    "EPOCHS = 3\n",
    "max_lr = 3\n",
    "start_lr = 0.0001\n",
    "\n",
    "criterion = nn.CrossEntropyLoss().to(device)\n",
    "optimizer = torch.optim.AdamW(model.parameters(), lr=start_lr)\n",
    "\n",
    "lr_lambda = lambda x: math.exp(x * math.log(max_lr / start_lr) / (EPOCHS * len(train_iter)))\n",
    "scheduler = torch.optim.lr_scheduler.LambdaLR(optimizer, lr_lambda)"
   ]
  },
  {
   "cell_type": "code",
   "execution_count": null,
   "metadata": {},
   "outputs": [],
   "source": [
    "\"https://towardsdatascience.com/adaptive-and-cyclical-learning-rates-using-pytorch-2bf904d18dee\"\n",
    "\n",
    "lr_stats = []\n",
    "acc_stats = []\n",
    "loss_stats = []\n",
    "\n",
    "smoothing = 0.05\n",
    "iter = 0\n",
    "model.train()\n",
    "for i in range(EPOCHS):\n",
    "    for x,y in train_iter:\n",
    "        x = x.to(device)\n",
    "        y = y.to(device)\n",
    "\n",
    "        optimizer.zero_grad()\n",
    "\n",
    "        outputs = model(x)\n",
    "        loss = criterion(outputs, y)\n",
    "\n",
    "        loss.backward()\n",
    "        optimizer.step()\n",
    "\n",
    "        scheduler.step()\n",
    "        acc_stats.append((outputs.argmax(1) == y).sum().item())\n",
    "\n",
    "        lr_stats.append(optimizer.state_dict()[\"param_groups\"][0][\"lr\"])\n",
    "\n",
    "        if iter == 0:\n",
    "            loss_stats.append(loss.item())\n",
    "        else:\n",
    "            # apply smoothing\n",
    "            smooth_loss = smoothing * loss.item() + (1 - smoothing) * loss_stats[-1]\n",
    "            loss_stats.append(smooth_loss)\n",
    "\n",
    "        iter += 1\n"
   ]
  },
  {
   "cell_type": "code",
   "execution_count": null,
   "metadata": {},
   "outputs": [],
   "source": [
    "# add matplot lib graph"
   ]
  }
 ],
 "metadata": {
  "kernelspec": {
   "display_name": "Python 3.10.8 ('venv': venv)",
   "language": "python",
   "name": "python3"
  },
  "language_info": {
   "codemirror_mode": {
    "name": "ipython",
    "version": 3
   },
   "file_extension": ".py",
   "mimetype": "text/x-python",
   "name": "python",
   "nbconvert_exporter": "python",
   "pygments_lexer": "ipython3",
   "version": "3.10.8"
  },
  "orig_nbformat": 4,
  "vscode": {
   "interpreter": {
    "hash": "1f47d77051f6b3ff9692dd9abb1762c48ba70321fbafb2dfb079395901beb4e2"
   }
  }
 },
 "nbformat": 4,
 "nbformat_minor": 2
}
