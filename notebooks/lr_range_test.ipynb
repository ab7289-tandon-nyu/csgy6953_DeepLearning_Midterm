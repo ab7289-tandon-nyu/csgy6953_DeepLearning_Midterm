{
  "cells": [
    {
      "cell_type": "code",
      "execution_count": 1,
      "metadata": {
        "colab": {
          "base_uri": "https://localhost:8080/"
        },
        "id": "uKf0mwZjuln8",
        "outputId": "a7188f1f-533f-48e2-f487-bcf1614da915"
      },
      "outputs": [
        {
          "output_type": "stream",
          "name": "stdout",
          "text": [
            "fatal: destination path 'csgy6953_DeepLearning_Midterm' already exists and is not an empty directory.\n"
          ]
        }
      ],
      "source": [
        "!git clone -b alex \"https://github.com/ab7289-tandon-nyu/csgy6953_DeepLearning_Midterm.git\"\n",
        "!cp -r /content/csgy6953_DeepLearning_Midterm/src/ ."
      ]
    },
    {
      "cell_type": "code",
      "execution_count": 2,
      "metadata": {
        "id": "7a1XvUm4uloD"
      },
      "outputs": [],
      "source": [
        "import torch\n",
        "import torch.nn as nn\n",
        "import matplotlib.pyplot as plt\n",
        "\n",
        "import time\n",
        "import copy\n",
        "import random"
      ]
    },
    {
      "cell_type": "code",
      "execution_count": 3,
      "metadata": {
        "id": "QNGguI0VuloF"
      },
      "outputs": [],
      "source": [
        "SEED = 1234\n",
        "\n",
        "random.seed(SEED)\n",
        "torch.manual_seed(SEED)\n",
        "torch.cuda.manual_seed(SEED)\n",
        "torch.backends.cudnn.deterministic = True\n",
        "\n",
        "device = torch.device(\"cuda\" if torch.cuda.is_available() else \"cpu\")"
      ]
    },
    {
      "cell_type": "code",
      "execution_count": 4,
      "metadata": {
        "colab": {
          "base_uri": "https://localhost:8080/"
        },
        "id": "RP-C565xuloG",
        "outputId": "8340f881-84ae-4860-ef67-37b8f7d4f092"
      },
      "outputs": [
        {
          "output_type": "stream",
          "name": "stdout",
          "text": [
            "Files already downloaded and verified\n",
            "Files already downloaded and verified\n",
            "Files already downloaded and verified\n"
          ]
        }
      ],
      "source": [
        "from src.data import get_transformed_data, make_data_loaders\n",
        "from src.transforms import make_auto_transforms\n",
        "\n",
        "BATCH_SIZE = 256\n",
        "valid_ration = 0.1\n",
        "\n",
        "train_iter, valid_iter, test_iter = (\n",
        "    make_data_loaders(\n",
        "        *get_transformed_data(\n",
        "            make_transforms= make_auto_transforms,\n",
        "            valid_ratio= valid_ration\n",
        "        ),\n",
        "        batch_size=BATCH_SIZE,\n",
        "    )\n",
        ")"
      ]
    },
    {
      "cell_type": "code",
      "execution_count": 5,
      "metadata": {
        "colab": {
          "base_uri": "https://localhost:8080/"
        },
        "id": "JUxPDRQduloI",
        "outputId": "14729b5e-7599-4c80-d19f-722298761a98"
      },
      "outputs": [
        {
          "output_type": "stream",
          "name": "stderr",
          "text": [
            "/usr/local/lib/python3.7/dist-packages/torch/nn/modules/lazy.py:178: UserWarning: Lazy modules are a new feature under heavy development so changes to the API or functionality can happen at any moment.\n",
            "  warnings.warn('Lazy modules are a new feature under heavy development '\n"
          ]
        }
      ],
      "source": [
        "from src.model import ResNet, StemConfig, ResidualBlockType\n",
        "from src.utils import initialize_parameters\n",
        "\n",
        "arch = [\n",
        "    (ResidualBlockType.BASIC, 1, 64, 0.1),\n",
        "    (ResidualBlockType.BASIC, 1, 128, 0.1),\n",
        "    (ResidualBlockType.BASIC, 1, 256, 0.1),\n",
        "    (ResidualBlockType.BASIC, 1, 512, 0.1),\n",
        "]\n",
        "\n",
        "config = StemConfig(num_channels=64, kernel_size=3, stride=1, padding=1)\n",
        "model = ResNet(arch, stem_config=config, output_size=10, use_bias=True)"
      ]
    },
    {
      "cell_type": "code",
      "execution_count": 6,
      "metadata": {
        "colab": {
          "base_uri": "https://localhost:8080/"
        },
        "id": "a90Z4GAOuloJ",
        "outputId": "3fe5169c-052a-4edd-c14c-09cde2e779bf"
      },
      "outputs": [
        {
          "output_type": "stream",
          "name": "stdout",
          "text": [
            "Initializing new model\n",
            "torch.Size([256, 10])\n"
          ]
        },
        {
          "output_type": "execute_result",
          "data": {
            "text/plain": [
              "ResNet(\n",
              "  (stem): Sequential(\n",
              "    (0): Conv2d(3, 64, kernel_size=(3, 3), stride=(1, 1), padding=(1, 1))\n",
              "    (1): BatchNorm2d(64, eps=1e-05, momentum=0.1, affine=True, track_running_stats=True)\n",
              "    (2): ReLU(inplace=True)\n",
              "  )\n",
              "  (classifier): Sequential(\n",
              "    (0): AdaptiveAvgPool2d(output_size=1)\n",
              "    (1): Flatten(start_dim=1, end_dim=-1)\n",
              "    (2): Linear(in_features=512, out_features=10, bias=True)\n",
              "  )\n",
              "  (body): Sequential(\n",
              "    (block_2): Sequential(\n",
              "      (0): ResidualBlock(\n",
              "        (dropout): Dropout(p=0.1, inplace=False)\n",
              "        (conv1): Conv2d(64, 64, kernel_size=(3, 3), stride=(1, 1), padding=(1, 1))\n",
              "        (conv2): Conv2d(64, 64, kernel_size=(3, 3), stride=(1, 1), padding=(1, 1))\n",
              "        (relu): ReLU(inplace=True)\n",
              "        (out): ReLU(inplace=True)\n",
              "        (bn1): BatchNorm2d(64, eps=1e-05, momentum=0.1, affine=True, track_running_stats=True)\n",
              "        (bn2): BatchNorm2d(64, eps=1e-05, momentum=0.1, affine=True, track_running_stats=True)\n",
              "      )\n",
              "    )\n",
              "    (block_3): Sequential(\n",
              "      (0): ResidualBlock(\n",
              "        (dropout): Dropout(p=0.1, inplace=False)\n",
              "        (conv1): Conv2d(64, 128, kernel_size=(3, 3), stride=(2, 2), padding=(1, 1))\n",
              "        (conv2): Conv2d(128, 128, kernel_size=(3, 3), stride=(1, 1), padding=(1, 1))\n",
              "        (relu): ReLU(inplace=True)\n",
              "        (out): ReLU(inplace=True)\n",
              "        (bn1): BatchNorm2d(128, eps=1e-05, momentum=0.1, affine=True, track_running_stats=True)\n",
              "        (bn2): BatchNorm2d(128, eps=1e-05, momentum=0.1, affine=True, track_running_stats=True)\n",
              "        (conv_stem): Conv2d(64, 128, kernel_size=(1, 1), stride=(2, 2))\n",
              "      )\n",
              "    )\n",
              "    (block_4): Sequential(\n",
              "      (0): ResidualBlock(\n",
              "        (dropout): Dropout(p=0.1, inplace=False)\n",
              "        (conv1): Conv2d(128, 256, kernel_size=(3, 3), stride=(2, 2), padding=(1, 1))\n",
              "        (conv2): Conv2d(256, 256, kernel_size=(3, 3), stride=(1, 1), padding=(1, 1))\n",
              "        (relu): ReLU(inplace=True)\n",
              "        (out): ReLU(inplace=True)\n",
              "        (bn1): BatchNorm2d(256, eps=1e-05, momentum=0.1, affine=True, track_running_stats=True)\n",
              "        (bn2): BatchNorm2d(256, eps=1e-05, momentum=0.1, affine=True, track_running_stats=True)\n",
              "        (conv_stem): Conv2d(128, 256, kernel_size=(1, 1), stride=(2, 2))\n",
              "      )\n",
              "    )\n",
              "    (block_5): Sequential(\n",
              "      (0): ResidualBlock(\n",
              "        (dropout): Dropout(p=0.1, inplace=False)\n",
              "        (conv1): Conv2d(256, 512, kernel_size=(3, 3), stride=(2, 2), padding=(1, 1))\n",
              "        (conv2): Conv2d(512, 512, kernel_size=(3, 3), stride=(1, 1), padding=(1, 1))\n",
              "        (relu): ReLU(inplace=True)\n",
              "        (out): ReLU(inplace=True)\n",
              "        (bn1): BatchNorm2d(512, eps=1e-05, momentum=0.1, affine=True, track_running_stats=True)\n",
              "        (bn2): BatchNorm2d(512, eps=1e-05, momentum=0.1, affine=True, track_running_stats=True)\n",
              "        (conv_stem): Conv2d(256, 512, kernel_size=(1, 1), stride=(2, 2))\n",
              "      )\n",
              "    )\n",
              "  )\n",
              ")"
            ]
          },
          "metadata": {},
          "execution_count": 6
        }
      ],
      "source": [
        "print(\"Initializing new model\")\n",
        "inputs = torch.ones((BATCH_SIZE, 3, 32, 32))\n",
        "model = model.to(device)\n",
        "y = model(inputs.to(device))\n",
        "print(y.size())\n",
        "\n",
        "model.apply(initialize_parameters)"
      ]
    },
    {
      "cell_type": "code",
      "execution_count": 7,
      "metadata": {
        "colab": {
          "base_uri": "https://localhost:8080/"
        },
        "id": "y1MaabV0uloK",
        "outputId": "ed249e75-24ab-4ffe-d034-5c2e9e0097b2"
      },
      "outputs": [
        {
          "output_type": "stream",
          "name": "stdout",
          "text": [
            "Number of iterations: 528\n",
            "Step Size: 0.0007556818181818182\n"
          ]
        }
      ],
      "source": [
        "import math\n",
        "\n",
        "best_loss = float('inf')\n",
        "EPOCHS = 3\n",
        "max_lr = 0.4\n",
        "start_lr = 0.001\n",
        "\n",
        "print(f\"Number of iterations: {EPOCHS * len(train_iter)}\")\n",
        "print(f\"Step Size: {(max_lr - start_lr) / (EPOCHS * len(train_iter))}\")\n",
        "\n",
        "criterion = nn.CrossEntropyLoss().to(device)\n",
        "optimizer = torch.optim.AdamW(model.parameters(), lr=start_lr)\n",
        "\n",
        "def lin_lambda(x):\n",
        "  return (x * (max_lr - start_lr) / (EPOCHS * len(train_iter))) / start_lr\n",
        "lr_lambda = lambda x: math.exp(x * math.log(max_lr / start_lr) / (EPOCHS * len(train_iter)))\n",
        "\n",
        "scheduler = torch.optim.lr_scheduler.LambdaLR(optimizer, lr_lambda)"
      ]
    },
    {
      "cell_type": "code",
      "execution_count": 8,
      "metadata": {
        "id": "FG3GbYFHuloL"
      },
      "outputs": [],
      "source": [
        "\"https://towardsdatascience.com/adaptive-and-cyclical-learning-rates-using-pytorch-2bf904d18dee\"\n",
        "\n",
        "lr_stats = []\n",
        "acc_stats = []\n",
        "loss_stats = []\n",
        "\n",
        "smoothing = 0.05\n",
        "iter = 0\n",
        "model.train()\n",
        "for i in range(1, EPOCHS+1):\n",
        "    for x,y in train_iter:\n",
        "        x = x.to(device)\n",
        "        y = y.to(device)\n",
        "\n",
        "        optimizer.zero_grad()\n",
        "\n",
        "        outputs = model(x)\n",
        "        loss = criterion(outputs, y)\n",
        "\n",
        "        loss.backward()\n",
        "        optimizer.step()\n",
        "\n",
        "        scheduler.step()\n",
        "\n",
        "        lr_stats.append(optimizer.state_dict()[\"param_groups\"][0][\"lr\"])\n",
        "\n",
        "        if iter == 0:\n",
        "            loss_stats.append(loss.item())\n",
        "            acc_stats.append((outputs.argmax(1) == y).sum().item())\n",
        "        else:\n",
        "            # apply smoothing\n",
        "            smooth_loss = smoothing * loss.item() + (1 - smoothing) * loss_stats[-1]\n",
        "            loss_stats.append(smooth_loss)\n",
        "\n",
        "            acc = (outputs.argmax(1) == y).sum().item()\n",
        "            acc_stats.append(smoothing * acc + (1 - smoothing * acc_stats[-1]))\n",
        "\n",
        "        iter += 1\n"
      ]
    },
    {
      "cell_type": "code",
      "execution_count": 9,
      "metadata": {
        "colab": {
          "base_uri": "https://localhost:8080/",
          "height": 279
        },
        "id": "NDm1ETvrVg4l",
        "outputId": "663d6b27-bc93-412e-e1b6-d2932b66abf4"
      },
      "outputs": [
        {
          "output_type": "display_data",
          "data": {
            "text/plain": [
              "<Figure size 432x288 with 1 Axes>"
            ],
            "image/png": "[encoded data removed]"
          },
          "metadata": {
            "needs_background": "light"
          }
        }
      ],
      "source": [
        "plt.plot([i for i in range(iter)], lr_stats)\n",
        "plt.ylabel(\"Learning Rate\")\n",
        "plt.xlabel(\"step\")\n",
        "plt.show()"
      ]
    },
    {
      "cell_type": "code",
      "execution_count": 10,
      "metadata": {
        "colab": {
          "base_uri": "https://localhost:8080/",
          "height": 279
        },
        "id": "LxxnnvtsuloN",
        "outputId": "71924f4e-559d-4212-eac4-e3962f67b4cb"
      },
      "outputs": [
        {
          "output_type": "display_data",
          "data": {
            "text/plain": [
              "<Figure size 432x288 with 1 Axes>"
            ],
            "image/png": "[encoded data removed]"
          },
          "metadata": {
            "needs_background": "light"
          }
        }
      ],
      "source": [
        "# add matplot lib graph\n",
        "plt.plot(lr_stats, acc_stats)\n",
        "plt.ylabel(\"Accuracy\")\n",
        "plt.xlabel(\"Learning Rate\")\n",
        "plt.show()"
      ]
    },
    {
      "cell_type": "code",
      "execution_count": 11,
      "metadata": {
        "colab": {
          "base_uri": "https://localhost:8080/",
          "height": 279
        },
        "id": "wtt_Alg44dvI",
        "outputId": "b347e32e-a61d-49ce-a09c-10853d72f1bb"
      },
      "outputs": [
        {
          "output_type": "display_data",
          "data": {
            "text/plain": [
              "<Figure size 432x288 with 1 Axes>"
            ],
            "image/png": "[encoded data removed]"
          },
          "metadata": {
            "needs_background": "light"
          }
        }
      ],
      "source": [
        "plt.plot(lr_stats, loss_stats)\n",
        "plt.ylabel(\"Loss\")\n",
        "plt.xlabel(\"Learning Rate\")\n",
        "plt.show()"
      ]
    }
  ],
  "metadata": {
    "accelerator": "GPU",
    "colab": {
      "provenance": []
    },
    "gpuClass": "standard",
    "kernelspec": {
      "display_name": "Python 3.10.8 ('venv': venv)",
      "language": "python",
      "name": "python3"
    },
    "language_info": {
      "codemirror_mode": {
        "name": "ipython",
        "version": 3
      },
      "file_extension": ".py",
      "mimetype": "text/x-python",
      "name": "python",
      "nbconvert_exporter": "python",
      "pygments_lexer": "ipython3",
      "version": "3.10.8"
    },
    "orig_nbformat": 4,
    "vscode": {
      "interpreter": {
        "hash": "1f47d77051f6b3ff9692dd9abb1762c48ba70321fbafb2dfb079395901beb4e2"
      }
    }
  },
  "nbformat": 4,
  "nbformat_minor": 0
}