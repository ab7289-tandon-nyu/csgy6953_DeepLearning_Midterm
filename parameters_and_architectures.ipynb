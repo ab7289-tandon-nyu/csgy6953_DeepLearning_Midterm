{
  "nbformat": 4,
  "nbformat_minor": 0,
  "metadata": {
    "colab": {
      "provenance": [],
      "toc_visible": true,
      "authorship_tag": "ABX9TyMz4VK0Gh2HIIQkwgIkx+hs",
      "include_colab_link": true
    },
    "kernelspec": {
      "name": "python3",
      "display_name": "Python 3"
    },
    "language_info": {
      "name": "python"
    }
  },
  "cells": [
    {
      "cell_type": "markdown",
      "metadata": {
        "id": "view-in-github",
        "colab_type": "text"
      },
      "source": [
        "<a href=\"https://colab.research.google.com/github/ab7289-tandon-nyu/csgy6953_DeepLearning_Midterm/blob/count_params_visualize_archs/parameters_and_architectures.ipynb\" target=\"_parent\"><img src=\"https://colab.research.google.com/assets/colab-badge.svg\" alt=\"Open In Colab\"/></a>"
      ]
    },
    {
      "cell_type": "markdown",
      "source": [
        "# Install, Import, Input"
      ],
      "metadata": {
        "id": "3ubgpmWX0kIW"
      }
    },
    {
      "cell_type": "code",
      "source": [
        "import torch"
      ],
      "metadata": {
        "id": "2W2HH-CB0tzU"
      },
      "execution_count": 2,
      "outputs": []
    },
    {
      "cell_type": "markdown",
      "source": [
        "## Torchsummary"
      ],
      "metadata": {
        "id": "DSPmLgXP0pxI"
      }
    },
    {
      "cell_type": "code",
      "source": [
        "!pip install torch-summary==1.4.5"
      ],
      "metadata": {
        "colab": {
          "base_uri": "https://localhost:8080/"
        },
        "id": "YBc5iTQutZ2c",
        "outputId": "30feb104-a299-4f53-bda2-cbb33c62c15b"
      },
      "execution_count": 3,
      "outputs": [
        {
          "output_type": "stream",
          "name": "stdout",
          "text": [
            "Looking in indexes: https://pypi.org/simple, https://us-python.pkg.dev/colab-wheels/public/simple/\n",
            "Collecting torch-summary==1.4.5\n",
            "  Downloading torch_summary-1.4.5-py3-none-any.whl (16 kB)\n",
            "Installing collected packages: torch-summary\n",
            "Successfully installed torch-summary-1.4.5\n"
          ]
        }
      ]
    },
    {
      "cell_type": "code",
      "execution_count": 4,
      "metadata": {
        "id": "o3mPf-6LsvgN"
      },
      "outputs": [],
      "source": [
        "from torchsummary import summary"
      ]
    },
    {
      "cell_type": "code",
      "source": [
        "QUIET_VERBOSE = 0  # as in torchsummary.summary"
      ],
      "metadata": {
        "id": "dYBh1LPnurE1"
      },
      "execution_count": 5,
      "outputs": []
    },
    {
      "cell_type": "code",
      "source": [
        "def print_layers_by_index(modelstatistics, from_i, to_i, show_input_size = True):\n",
        "\n",
        "    if show_input_size:\n",
        "        print('Input size:', modelstatistics.input_size)\n",
        "\n",
        "    # header\n",
        "    header_str_list = str(modelstatistics).split('\\n')[:3]\n",
        "    print('\\n'.join(header_str_list))\n",
        "\n",
        "    # the layers\n",
        "    layer_str_list  = modelstatistics.layers_to_str().split('\\n')\n",
        "\n",
        "    if from_i != 0:\n",
        "        print('...')\n",
        "\n",
        "    print('\\n'.join(layer_str_list[from_i:to_i]))\n",
        "\n",
        "    if to_i != -1:\n",
        "        print('...')"
      ],
      "metadata": {
        "id": "WAYOk5IC0sPC"
      },
      "execution_count": 6,
      "outputs": []
    },
    {
      "cell_type": "markdown",
      "source": [
        "## Our team's code"
      ],
      "metadata": {
        "id": "79tLup_Xs5aV"
      }
    },
    {
      "cell_type": "code",
      "source": [
        "# !rm -r /content/csgy6953_DeepLearning_Midterm/\n",
        "# !git clone -b main \"https://github.com/ab7289-tandon-nyu/csgy6953_DeepLearning_Midterm.git\"\n",
        "# !cp -r /content/csgy6953_DeepLearning_Midterm/src/ ."
      ],
      "metadata": {
        "id": "aeOZdLbk3yAQ"
      },
      "execution_count": 7,
      "outputs": []
    },
    {
      "cell_type": "code",
      "source": [
        "!pip install -U \"git+https://github.com/ab7289-tandon-nyu/csgy6953_DeepLearning_Midterm.git\""
      ],
      "metadata": {
        "colab": {
          "base_uri": "https://localhost:8080/"
        },
        "id": "TmqdVBles7mu",
        "outputId": "34ecf6e9-2fb7-4866-9404-8fdd4b2af3f6"
      },
      "execution_count": 8,
      "outputs": [
        {
          "output_type": "stream",
          "name": "stdout",
          "text": [
            "Looking in indexes: https://pypi.org/simple, https://us-python.pkg.dev/colab-wheels/public/simple/\n",
            "Collecting git+https://github.com/ab7289-tandon-nyu/csgy6953_DeepLearning_Midterm.git\n",
            "  Cloning https://github.com/ab7289-tandon-nyu/csgy6953_DeepLearning_Midterm.git to /tmp/pip-req-build-ci2m8a7k\n",
            "  Running command git clone -q https://github.com/ab7289-tandon-nyu/csgy6953_DeepLearning_Midterm.git /tmp/pip-req-build-ci2m8a7k\n",
            "  Installing build dependencies ... \u001b[?25l\u001b[?25hdone\n",
            "  Getting requirements to build wheel ... \u001b[?25l\u001b[?25hdone\n",
            "    Preparing wheel metadata ... \u001b[?25l\u001b[?25hdone\n",
            "Requirement already satisfied: notebook in /usr/local/lib/python3.7/dist-packages (from ResNetSrc==0.0.1.dev0) (5.7.16)\n",
            "Requirement already satisfied: torchvision in /usr/local/lib/python3.7/dist-packages (from ResNetSrc==0.0.1.dev0) (0.13.1+cu113)\n",
            "Requirement already satisfied: torch-summary in /usr/local/lib/python3.7/dist-packages (from ResNetSrc==0.0.1.dev0) (1.4.5)\n",
            "Requirement already satisfied: matplotlib in /usr/local/lib/python3.7/dist-packages (from ResNetSrc==0.0.1.dev0) (3.2.2)\n",
            "Collecting jupyter\n",
            "  Downloading jupyter-1.0.0-py2.py3-none-any.whl (2.7 kB)\n",
            "Requirement already satisfied: torch in /usr/local/lib/python3.7/dist-packages (from ResNetSrc==0.0.1.dev0) (1.12.1+cu113)\n",
            "Requirement already satisfied: ipykernel in /usr/local/lib/python3.7/dist-packages (from jupyter->ResNetSrc==0.0.1.dev0) (5.3.4)\n",
            "Collecting qtconsole\n",
            "  Downloading qtconsole-5.4.0-py3-none-any.whl (121 kB)\n",
            "\u001b[K     |████████████████████████████████| 121 kB 3.8 MB/s \n",
            "\u001b[?25hRequirement already satisfied: jupyter-console in /usr/local/lib/python3.7/dist-packages (from jupyter->ResNetSrc==0.0.1.dev0) (6.1.0)\n",
            "Requirement already satisfied: nbconvert in /usr/local/lib/python3.7/dist-packages (from jupyter->ResNetSrc==0.0.1.dev0) (5.6.1)\n",
            "Requirement already satisfied: ipywidgets in /usr/local/lib/python3.7/dist-packages (from jupyter->ResNetSrc==0.0.1.dev0) (7.7.1)\n",
            "Requirement already satisfied: ipython>=5.0.0 in /usr/local/lib/python3.7/dist-packages (from ipykernel->jupyter->ResNetSrc==0.0.1.dev0) (7.9.0)\n",
            "Requirement already satisfied: traitlets>=4.1.0 in /usr/local/lib/python3.7/dist-packages (from ipykernel->jupyter->ResNetSrc==0.0.1.dev0) (5.1.1)\n",
            "Requirement already satisfied: jupyter-client in /usr/local/lib/python3.7/dist-packages (from ipykernel->jupyter->ResNetSrc==0.0.1.dev0) (6.1.12)\n",
            "Requirement already satisfied: tornado>=4.2 in /usr/local/lib/python3.7/dist-packages (from ipykernel->jupyter->ResNetSrc==0.0.1.dev0) (6.0.4)\n",
            "Requirement already satisfied: backcall in /usr/local/lib/python3.7/dist-packages (from ipython>=5.0.0->ipykernel->jupyter->ResNetSrc==0.0.1.dev0) (0.2.0)\n",
            "Requirement already satisfied: setuptools>=18.5 in /usr/local/lib/python3.7/dist-packages (from ipython>=5.0.0->ipykernel->jupyter->ResNetSrc==0.0.1.dev0) (57.4.0)\n",
            "Requirement already satisfied: pickleshare in /usr/local/lib/python3.7/dist-packages (from ipython>=5.0.0->ipykernel->jupyter->ResNetSrc==0.0.1.dev0) (0.7.5)\n",
            "Requirement already satisfied: prompt-toolkit<2.1.0,>=2.0.0 in /usr/local/lib/python3.7/dist-packages (from ipython>=5.0.0->ipykernel->jupyter->ResNetSrc==0.0.1.dev0) (2.0.10)\n",
            "Requirement already satisfied: pexpect in /usr/local/lib/python3.7/dist-packages (from ipython>=5.0.0->ipykernel->jupyter->ResNetSrc==0.0.1.dev0) (4.8.0)\n",
            "Requirement already satisfied: pygments in /usr/local/lib/python3.7/dist-packages (from ipython>=5.0.0->ipykernel->jupyter->ResNetSrc==0.0.1.dev0) (2.6.1)\n",
            "Requirement already satisfied: decorator in /usr/local/lib/python3.7/dist-packages (from ipython>=5.0.0->ipykernel->jupyter->ResNetSrc==0.0.1.dev0) (4.4.2)\n",
            "Collecting jedi>=0.10\n",
            "  Downloading jedi-0.18.2-py2.py3-none-any.whl (1.6 MB)\n",
            "\u001b[K     |████████████████████████████████| 1.6 MB 24.7 MB/s \n",
            "\u001b[?25hRequirement already satisfied: parso<0.9.0,>=0.8.0 in /usr/local/lib/python3.7/dist-packages (from jedi>=0.10->ipython>=5.0.0->ipykernel->jupyter->ResNetSrc==0.0.1.dev0) (0.8.3)\n",
            "Requirement already satisfied: wcwidth in /usr/local/lib/python3.7/dist-packages (from prompt-toolkit<2.1.0,>=2.0.0->ipython>=5.0.0->ipykernel->jupyter->ResNetSrc==0.0.1.dev0) (0.2.5)\n",
            "Requirement already satisfied: six>=1.9.0 in /usr/local/lib/python3.7/dist-packages (from prompt-toolkit<2.1.0,>=2.0.0->ipython>=5.0.0->ipykernel->jupyter->ResNetSrc==0.0.1.dev0) (1.15.0)\n",
            "Requirement already satisfied: widgetsnbextension~=3.6.0 in /usr/local/lib/python3.7/dist-packages (from ipywidgets->jupyter->ResNetSrc==0.0.1.dev0) (3.6.1)\n",
            "Requirement already satisfied: jupyterlab-widgets>=1.0.0 in /usr/local/lib/python3.7/dist-packages (from ipywidgets->jupyter->ResNetSrc==0.0.1.dev0) (3.0.3)\n",
            "Requirement already satisfied: ipython-genutils~=0.2.0 in /usr/local/lib/python3.7/dist-packages (from ipywidgets->jupyter->ResNetSrc==0.0.1.dev0) (0.2.0)\n",
            "Requirement already satisfied: terminado>=0.8.1 in /usr/local/lib/python3.7/dist-packages (from notebook->ResNetSrc==0.0.1.dev0) (0.13.3)\n",
            "Requirement already satisfied: jupyter-core>=4.4.0 in /usr/local/lib/python3.7/dist-packages (from notebook->ResNetSrc==0.0.1.dev0) (4.11.2)\n",
            "Requirement already satisfied: nbformat in /usr/local/lib/python3.7/dist-packages (from notebook->ResNetSrc==0.0.1.dev0) (5.7.0)\n",
            "Requirement already satisfied: Send2Trash in /usr/local/lib/python3.7/dist-packages (from notebook->ResNetSrc==0.0.1.dev0) (1.8.0)\n",
            "Requirement already satisfied: prometheus-client in /usr/local/lib/python3.7/dist-packages (from notebook->ResNetSrc==0.0.1.dev0) (0.15.0)\n",
            "Requirement already satisfied: pyzmq>=17 in /usr/local/lib/python3.7/dist-packages (from notebook->ResNetSrc==0.0.1.dev0) (23.2.1)\n",
            "Requirement already satisfied: jinja2<=3.0.0 in /usr/local/lib/python3.7/dist-packages (from notebook->ResNetSrc==0.0.1.dev0) (2.11.3)\n",
            "Requirement already satisfied: MarkupSafe>=0.23 in /usr/local/lib/python3.7/dist-packages (from jinja2<=3.0.0->notebook->ResNetSrc==0.0.1.dev0) (2.0.1)\n",
            "Requirement already satisfied: python-dateutil>=2.1 in /usr/local/lib/python3.7/dist-packages (from jupyter-client->ipykernel->jupyter->ResNetSrc==0.0.1.dev0) (2.8.2)\n",
            "Requirement already satisfied: defusedxml in /usr/local/lib/python3.7/dist-packages (from nbconvert->jupyter->ResNetSrc==0.0.1.dev0) (0.7.1)\n",
            "Requirement already satisfied: mistune<2,>=0.8.1 in /usr/local/lib/python3.7/dist-packages (from nbconvert->jupyter->ResNetSrc==0.0.1.dev0) (0.8.4)\n",
            "Requirement already satisfied: bleach in /usr/local/lib/python3.7/dist-packages (from nbconvert->jupyter->ResNetSrc==0.0.1.dev0) (5.0.1)\n",
            "Requirement already satisfied: pandocfilters>=1.4.1 in /usr/local/lib/python3.7/dist-packages (from nbconvert->jupyter->ResNetSrc==0.0.1.dev0) (1.5.0)\n",
            "Requirement already satisfied: testpath in /usr/local/lib/python3.7/dist-packages (from nbconvert->jupyter->ResNetSrc==0.0.1.dev0) (0.6.0)\n",
            "Requirement already satisfied: entrypoints>=0.2.2 in /usr/local/lib/python3.7/dist-packages (from nbconvert->jupyter->ResNetSrc==0.0.1.dev0) (0.4)\n",
            "Requirement already satisfied: importlib-metadata>=3.6 in /usr/local/lib/python3.7/dist-packages (from nbformat->notebook->ResNetSrc==0.0.1.dev0) (4.13.0)\n",
            "Requirement already satisfied: jsonschema>=2.6 in /usr/local/lib/python3.7/dist-packages (from nbformat->notebook->ResNetSrc==0.0.1.dev0) (4.3.3)\n",
            "Requirement already satisfied: fastjsonschema in /usr/local/lib/python3.7/dist-packages (from nbformat->notebook->ResNetSrc==0.0.1.dev0) (2.16.2)\n",
            "Requirement already satisfied: typing-extensions>=3.6.4 in /usr/local/lib/python3.7/dist-packages (from importlib-metadata>=3.6->nbformat->notebook->ResNetSrc==0.0.1.dev0) (4.1.1)\n",
            "Requirement already satisfied: zipp>=0.5 in /usr/local/lib/python3.7/dist-packages (from importlib-metadata>=3.6->nbformat->notebook->ResNetSrc==0.0.1.dev0) (3.10.0)\n",
            "Requirement already satisfied: pyrsistent!=0.17.0,!=0.17.1,!=0.17.2,>=0.14.0 in /usr/local/lib/python3.7/dist-packages (from jsonschema>=2.6->nbformat->notebook->ResNetSrc==0.0.1.dev0) (0.19.2)\n",
            "Requirement already satisfied: attrs>=17.4.0 in /usr/local/lib/python3.7/dist-packages (from jsonschema>=2.6->nbformat->notebook->ResNetSrc==0.0.1.dev0) (22.1.0)\n",
            "Requirement already satisfied: importlib-resources>=1.4.0 in /usr/local/lib/python3.7/dist-packages (from jsonschema>=2.6->nbformat->notebook->ResNetSrc==0.0.1.dev0) (5.10.0)\n",
            "Requirement already satisfied: ptyprocess in /usr/local/lib/python3.7/dist-packages (from terminado>=0.8.1->notebook->ResNetSrc==0.0.1.dev0) (0.7.0)\n",
            "Requirement already satisfied: webencodings in /usr/local/lib/python3.7/dist-packages (from bleach->nbconvert->jupyter->ResNetSrc==0.0.1.dev0) (0.5.1)\n",
            "Requirement already satisfied: numpy>=1.11 in /usr/local/lib/python3.7/dist-packages (from matplotlib->ResNetSrc==0.0.1.dev0) (1.21.6)\n",
            "Requirement already satisfied: pyparsing!=2.0.4,!=2.1.2,!=2.1.6,>=2.0.1 in /usr/local/lib/python3.7/dist-packages (from matplotlib->ResNetSrc==0.0.1.dev0) (3.0.9)\n",
            "Requirement already satisfied: kiwisolver>=1.0.1 in /usr/local/lib/python3.7/dist-packages (from matplotlib->ResNetSrc==0.0.1.dev0) (1.4.4)\n",
            "Requirement already satisfied: cycler>=0.10 in /usr/local/lib/python3.7/dist-packages (from matplotlib->ResNetSrc==0.0.1.dev0) (0.11.0)\n",
            "Collecting qtpy>=2.0.1\n",
            "  Downloading QtPy-2.3.0-py3-none-any.whl (83 kB)\n",
            "\u001b[K     |████████████████████████████████| 83 kB 2.4 MB/s \n",
            "\u001b[?25hRequirement already satisfied: packaging in /usr/local/lib/python3.7/dist-packages (from qtpy>=2.0.1->qtconsole->jupyter->ResNetSrc==0.0.1.dev0) (21.3)\n",
            "Requirement already satisfied: requests in /usr/local/lib/python3.7/dist-packages (from torchvision->ResNetSrc==0.0.1.dev0) (2.23.0)\n",
            "Requirement already satisfied: pillow!=8.3.*,>=5.3.0 in /usr/local/lib/python3.7/dist-packages (from torchvision->ResNetSrc==0.0.1.dev0) (7.1.2)\n",
            "Requirement already satisfied: idna<3,>=2.5 in /usr/local/lib/python3.7/dist-packages (from requests->torchvision->ResNetSrc==0.0.1.dev0) (2.10)\n",
            "Requirement already satisfied: certifi>=2017.4.17 in /usr/local/lib/python3.7/dist-packages (from requests->torchvision->ResNetSrc==0.0.1.dev0) (2022.9.24)\n",
            "Requirement already satisfied: chardet<4,>=3.0.2 in /usr/local/lib/python3.7/dist-packages (from requests->torchvision->ResNetSrc==0.0.1.dev0) (3.0.4)\n",
            "Requirement already satisfied: urllib3!=1.25.0,!=1.25.1,<1.26,>=1.21.1 in /usr/local/lib/python3.7/dist-packages (from requests->torchvision->ResNetSrc==0.0.1.dev0) (1.24.3)\n",
            "Building wheels for collected packages: ResNetSrc\n",
            "  Building wheel for ResNetSrc (PEP 517) ... \u001b[?25l\u001b[?25hdone\n",
            "  Created wheel for ResNetSrc: filename=ResNetSrc-0.0.1.dev0-py3-none-any.whl size=10942 sha256=205ce95e7a780e68e0c0663a41ac9738f86e4ab3c59bedeb7c5773f1abf44921\n",
            "  Stored in directory: /tmp/pip-ephem-wheel-cache-uoenq5xv/wheels/ca/53/3f/881761c4f126caab04fc4a1ddfd7bf88f93fc939ea6def47eb\n",
            "Successfully built ResNetSrc\n",
            "Installing collected packages: jedi, qtpy, qtconsole, jupyter, ResNetSrc\n",
            "Successfully installed ResNetSrc-0.0.1.dev0 jedi-0.18.2 jupyter-1.0.0 qtconsole-5.4.0 qtpy-2.3.0\n"
          ]
        }
      ]
    },
    {
      "cell_type": "code",
      "source": [
        "from src.model import ResidualBlockType, ResNet, StemConfig"
      ],
      "metadata": {
        "id": "U7php5pK7ctZ"
      },
      "execution_count": 9,
      "outputs": []
    },
    {
      "cell_type": "markdown",
      "source": [
        "## Input"
      ],
      "metadata": {
        "id": "7P9MwNC10v5H"
      }
    },
    {
      "cell_type": "code",
      "source": [
        "cifar10_one_sample = torch.rand((   3, 32, 32)) # BATCH_SIZE, RGB, 32x32\n",
        "cifar10_one_batch  = torch.rand((4, 3, 32, 32)) #             RGB, 32x32"
      ],
      "metadata": {
        "id": "30yN9f9vuYNm"
      },
      "execution_count": 10,
      "outputs": []
    },
    {
      "cell_type": "markdown",
      "source": [
        "# Final Architecture\n",
        "Our final architecture <br>\n",
        "name on *wandb.ai*: `nish_49m_deep6_cyclic_lr_bottleneck_v2.pt`"
      ],
      "metadata": {
        "id": "A3AOhp_Qtjjw"
      }
    },
    {
      "cell_type": "code",
      "source": [
        "# 1. the net's stem\n",
        "stem_config = StemConfig(num_channels=64, kernel_size=5, stride=1, padding=2)\n",
        "\n",
        "# 2. the net's body                 blocks/layer   channels  dropout\n",
        "arch = [(ResidualBlockType.BASIC,        3,         64,      0.1),\n",
        "        (ResidualBlockType.BASIC,        5,        128,      0.1),\n",
        "        (ResidualBlockType.BOTTLENECK,  26,        256,      0.1),\n",
        "        (ResidualBlockType.BOTTLENECK,   5,        512,      0.1)]\n",
        "\n",
        "final_model = ResNet(arch, stem_config=stem_config, output_size=10, use_bias=False)"
      ],
      "metadata": {
        "colab": {
          "base_uri": "https://localhost:8080/"
        },
        "id": "SSLMMZIOtjYo",
        "outputId": "f6c5ba07-07b4-4340-d0a4-38954c3cd8ff"
      },
      "execution_count": 11,
      "outputs": [
        {
          "output_type": "stream",
          "name": "stderr",
          "text": [
            "/usr/local/lib/python3.7/dist-packages/torch/nn/modules/lazy.py:178: UserWarning: Lazy modules are a new feature under heavy development so changes to the API or functionality can happen at any moment.\n",
            "  warnings.warn('Lazy modules are a new feature under heavy development '\n"
          ]
        }
      ]
    },
    {
      "cell_type": "code",
      "source": [
        "one_output = final_model(cifar10_one_batch) # initialize in_channels in lazyconv2d\n",
        "final_model_modelstatistics = summary(final_model,  cifar10_one_sample.shape, verbose = QUIET_VERBOSE)"
      ],
      "metadata": {
        "id": "iG1g2ehGtjVY"
      },
      "execution_count": 12,
      "outputs": []
    },
    {
      "cell_type": "markdown",
      "source": [
        "Final architecture total parameters"
      ],
      "metadata": {
        "id": "8ZtsYdMl701H"
      }
    },
    {
      "cell_type": "code",
      "source": [
        "print('final_model ', f'{final_model_modelstatistics.total_params:,}')"
      ],
      "metadata": {
        "colab": {
          "base_uri": "https://localhost:8080/"
        },
        "outputId": "b235c548-9322-4c72-94d9-387b8b2b44a6",
        "id": "dw5xLSY4701I"
      },
      "execution_count": 13,
      "outputs": [
        {
          "output_type": "stream",
          "name": "stdout",
          "text": [
            "final_model  4,997,194\n"
          ]
        }
      ]
    },
    {
      "cell_type": "markdown",
      "source": [
        "Visualize final architecture"
      ],
      "metadata": {
        "id": "4yUSz0vY701I"
      }
    },
    {
      "cell_type": "code",
      "source": [
        "print_layers_by_index(final_model_modelstatistics, 0, -1)"
      ],
      "metadata": {
        "colab": {
          "base_uri": "https://localhost:8080/"
        },
        "outputId": "84025854-32f3-4cc3-f6fe-08f5e2f29ca9",
        "id": "SLFgRC8A701I"
      },
      "execution_count": 14,
      "outputs": [
        {
          "output_type": "stream",
          "name": "stdout",
          "text": [
            "Input size: [torch.Size([3, 32, 32])]\n",
            "===============================================================================================\n",
            "Layer (type:depth-idx)                        Output Shape              Param #\n",
            "===============================================================================================\n",
            "├─Sequential: 1-1                             [-1, 64, 32, 32]          --\n",
            "|    └─Conv2d: 2-1                            [-1, 64, 32, 32]          4,800\n",
            "|    └─BatchNorm2d: 2-2                       [-1, 64, 32, 32]          128\n",
            "|    └─ReLU: 2-3                              [-1, 64, 32, 32]          --\n",
            "├─Sequential: 1-2                             [-1, 512, 4, 4]           --\n",
            "|    └─Sequential: 2-4                        [-1, 64, 32, 32]          --\n",
            "|    |    └─ResidualBlock: 3-1                [-1, 64, 32, 32]          73,984\n",
            "|    |    └─ResidualBlock: 3-2                [-1, 64, 32, 32]          73,984\n",
            "|    |    └─ResidualBlock: 3-3                [-1, 64, 32, 32]          73,984\n",
            "|    └─Sequential: 2-5                        [-1, 128, 16, 16]         --\n",
            "|    |    └─ResidualBlock: 3-4                [-1, 128, 16, 16]         229,888\n",
            "|    |    └─ResidualBlock: 3-5                [-1, 128, 16, 16]         295,424\n",
            "|    |    └─ResidualBlock: 3-6                [-1, 128, 16, 16]         295,424\n",
            "|    |    └─ResidualBlock: 3-7                [-1, 128, 16, 16]         295,424\n",
            "|    |    └─ResidualBlock: 3-8                [-1, 128, 16, 16]         295,424\n",
            "|    └─Sequential: 2-6                        [-1, 256, 8, 8]           --\n",
            "|    |    └─BottleneckResidualBlock: 3-9      [-1, 256, 8, 8]           94,976\n",
            "|    |    └─BottleneckResidualBlock: 3-10     [-1, 256, 8, 8]           70,400\n",
            "|    |    └─BottleneckResidualBlock: 3-11     [-1, 256, 8, 8]           70,400\n",
            "|    |    └─BottleneckResidualBlock: 3-12     [-1, 256, 8, 8]           70,400\n",
            "|    |    └─BottleneckResidualBlock: 3-13     [-1, 256, 8, 8]           70,400\n",
            "|    |    └─BottleneckResidualBlock: 3-14     [-1, 256, 8, 8]           70,400\n",
            "|    |    └─BottleneckResidualBlock: 3-15     [-1, 256, 8, 8]           70,400\n",
            "|    |    └─BottleneckResidualBlock: 3-16     [-1, 256, 8, 8]           70,400\n",
            "|    |    └─BottleneckResidualBlock: 3-17     [-1, 256, 8, 8]           70,400\n",
            "|    |    └─BottleneckResidualBlock: 3-18     [-1, 256, 8, 8]           70,400\n",
            "|    |    └─BottleneckResidualBlock: 3-19     [-1, 256, 8, 8]           70,400\n",
            "|    |    └─BottleneckResidualBlock: 3-20     [-1, 256, 8, 8]           70,400\n",
            "|    |    └─BottleneckResidualBlock: 3-21     [-1, 256, 8, 8]           70,400\n",
            "|    |    └─BottleneckResidualBlock: 3-22     [-1, 256, 8, 8]           70,400\n",
            "|    |    └─BottleneckResidualBlock: 3-23     [-1, 256, 8, 8]           70,400\n",
            "|    |    └─BottleneckResidualBlock: 3-24     [-1, 256, 8, 8]           70,400\n",
            "|    |    └─BottleneckResidualBlock: 3-25     [-1, 256, 8, 8]           70,400\n",
            "|    |    └─BottleneckResidualBlock: 3-26     [-1, 256, 8, 8]           70,400\n",
            "|    |    └─BottleneckResidualBlock: 3-27     [-1, 256, 8, 8]           70,400\n",
            "|    |    └─BottleneckResidualBlock: 3-28     [-1, 256, 8, 8]           70,400\n",
            "|    |    └─BottleneckResidualBlock: 3-29     [-1, 256, 8, 8]           70,400\n",
            "|    |    └─BottleneckResidualBlock: 3-30     [-1, 256, 8, 8]           70,400\n",
            "|    |    └─BottleneckResidualBlock: 3-31     [-1, 256, 8, 8]           70,400\n",
            "|    |    └─BottleneckResidualBlock: 3-32     [-1, 256, 8, 8]           70,400\n",
            "|    |    └─BottleneckResidualBlock: 3-33     [-1, 256, 8, 8]           70,400\n",
            "|    |    └─BottleneckResidualBlock: 3-34     [-1, 256, 8, 8]           70,400\n",
            "|    └─Sequential: 2-7                        [-1, 512, 4, 4]           --\n",
            "|    |    └─BottleneckResidualBlock: 3-35     [-1, 512, 4, 4]           378,368\n",
            "|    |    └─BottleneckResidualBlock: 3-36     [-1, 512, 4, 4]           280,064\n",
            "|    |    └─BottleneckResidualBlock: 3-37     [-1, 512, 4, 4]           280,064\n",
            "|    |    └─BottleneckResidualBlock: 3-38     [-1, 512, 4, 4]           280,064\n",
            "|    |    └─BottleneckResidualBlock: 3-39     [-1, 512, 4, 4]           280,064\n",
            "├─Sequential: 1-3                             [-1, 10]                  --\n",
            "|    └─AdaptiveAvgPool2d: 2-8                 [-1, 512, 1, 1]           --\n",
            "|    └─Flatten: 2-9                           [-1, 512]                 --\n",
            "|    └─Linear: 2-10                           [-1, 10]                  5,130\n"
          ]
        }
      ]
    },
    {
      "cell_type": "markdown",
      "source": [
        "# Notable Architectures\n",
        "Wellknown architectures based on published papers"
      ],
      "metadata": {
        "id": "5eCRR6AYtntw"
      }
    },
    {
      "cell_type": "code",
      "source": [
        "from torchvision.models import resnet18\n",
        "from torchvision.models import resnet34\n",
        "from torchvision.models import resnet50\n",
        "from torchvision.models import resnet101\n",
        "from torchvision.models import resnet152"
      ],
      "metadata": {
        "id": "T8hZiRvhuGNH"
      },
      "execution_count": 15,
      "outputs": []
    },
    {
      "cell_type": "code",
      "source": [
        "resnet18_model  = resnet18()\n",
        "resnet34_model  = resnet34()\n",
        "resnet50_model  = resnet50()\n",
        "resnet101_model = resnet101()\n",
        "resnet152_model = resnet152()"
      ],
      "metadata": {
        "id": "1F0nIk22tjE8"
      },
      "execution_count": 16,
      "outputs": []
    },
    {
      "cell_type": "code",
      "source": [
        "resnet18_modelstatistics  = summary(resnet18_model,  cifar10_one_sample.shape, verbose = QUIET_VERBOSE)\n",
        "resnet34_modelstatistics  = summary(resnet34_model,  cifar10_one_sample.shape, verbose = QUIET_VERBOSE)\n",
        "resnet50_modelstatistics  = summary(resnet50_model,  cifar10_one_sample.shape, verbose = QUIET_VERBOSE)\n",
        "resnet101_modelstatistics = summary(resnet101_model, cifar10_one_sample.shape, verbose = QUIET_VERBOSE)\n",
        "resnet152_modelstatistics = summary(resnet152_model, cifar10_one_sample.shape, verbose = QUIET_VERBOSE)"
      ],
      "metadata": {
        "id": "SWpXTA2buIIc"
      },
      "execution_count": 17,
      "outputs": []
    },
    {
      "cell_type": "markdown",
      "source": [
        "Total parameters:"
      ],
      "metadata": {
        "id": "v5_zTMS0w5kL"
      }
    },
    {
      "cell_type": "code",
      "source": [
        "print('resnet18 ', f'{resnet18_modelstatistics.total_params:,}')\n",
        "print('resnet34 ', f'{resnet34_modelstatistics.total_params:,}')\n",
        "print('resnet50 ', f'{resnet50_modelstatistics.total_params:,}')\n",
        "print('resnet101', f'{resnet101_modelstatistics.total_params:,}')\n",
        "print('resnet152', f'{resnet152_modelstatistics.total_params:,}')"
      ],
      "metadata": {
        "colab": {
          "base_uri": "https://localhost:8080/"
        },
        "id": "0SzQwNjxuI9z",
        "outputId": "33169baa-3e3d-4048-c466-7dc337637978"
      },
      "execution_count": 18,
      "outputs": [
        {
          "output_type": "stream",
          "name": "stdout",
          "text": [
            "resnet18  11,689,512\n",
            "resnet34  21,797,672\n",
            "resnet50  25,557,032\n",
            "resnet101 44,549,160\n",
            "resnet152 60,192,808\n"
          ]
        }
      ]
    },
    {
      "cell_type": "markdown",
      "source": [
        "ResNet18 architecture"
      ],
      "metadata": {
        "id": "vRAgXAoAxCLN"
      }
    },
    {
      "cell_type": "code",
      "source": [
        "print_layers_by_index(resnet18_modelstatistics, -20, -2)"
      ],
      "metadata": {
        "colab": {
          "base_uri": "https://localhost:8080/"
        },
        "id": "_UQ5t3iIzhUW",
        "outputId": "5da4a17a-18db-4e69-a33c-7474e7496869"
      },
      "execution_count": 19,
      "outputs": [
        {
          "output_type": "stream",
          "name": "stdout",
          "text": [
            "Input size: [torch.Size([3, 32, 32])]\n",
            "==========================================================================================\n",
            "Layer (type:depth-idx)                   Output Shape              Param #\n",
            "==========================================================================================\n",
            "...\n",
            "|    |    └─ReLU: 3-38                   [-1, 256, 2, 2]           --\n",
            "├─Sequential: 1-8                        [-1, 512, 1, 1]           --\n",
            "|    └─BasicBlock: 2-7                   [-1, 512, 1, 1]           --\n",
            "|    |    └─Conv2d: 3-39                 [-1, 512, 1, 1]           1,179,648\n",
            "|    |    └─BatchNorm2d: 3-40            [-1, 512, 1, 1]           1,024\n",
            "|    |    └─ReLU: 3-41                   [-1, 512, 1, 1]           --\n",
            "|    |    └─Conv2d: 3-42                 [-1, 512, 1, 1]           2,359,296\n",
            "|    |    └─BatchNorm2d: 3-43            [-1, 512, 1, 1]           1,024\n",
            "|    |    └─Sequential: 3-44             [-1, 512, 1, 1]           132,096\n",
            "|    |    └─ReLU: 3-45                   [-1, 512, 1, 1]           --\n",
            "|    └─BasicBlock: 2-8                   [-1, 512, 1, 1]           --\n",
            "|    |    └─Conv2d: 3-46                 [-1, 512, 1, 1]           2,359,296\n",
            "|    |    └─BatchNorm2d: 3-47            [-1, 512, 1, 1]           1,024\n",
            "|    |    └─ReLU: 3-48                   [-1, 512, 1, 1]           --\n",
            "|    |    └─Conv2d: 3-49                 [-1, 512, 1, 1]           2,359,296\n",
            "|    |    └─BatchNorm2d: 3-50            [-1, 512, 1, 1]           1,024\n",
            "|    |    └─ReLU: 3-51                   [-1, 512, 1, 1]           --\n",
            "├─AdaptiveAvgPool2d: 1-9                 [-1, 512, 1, 1]           --\n",
            "...\n"
          ]
        }
      ]
    }
  ]
}