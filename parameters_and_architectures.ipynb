{
  "nbformat": 4,
  "nbformat_minor": 0,
  "metadata": {
    "colab": {
      "provenance": [],
      "toc_visible": true,
      "authorship_tag": "ABX9TyN0z0ThB7qykd6fMDJ6YeHf",
      "include_colab_link": true
    },
    "kernelspec": {
      "name": "python3",
      "display_name": "Python 3"
    },
    "language_info": {
      "name": "python"
    }
  },
  "cells": [
    {
      "cell_type": "markdown",
      "metadata": {
        "id": "view-in-github",
        "colab_type": "text"
      },
      "source": [
        "<a href=\"https://colab.research.google.com/github/ab7289-tandon-nyu/csgy6953_DeepLearning_Midterm/blob/count_params_visualize_archs/parameters_and_architectures.ipynb\" target=\"_parent\"><img src=\"https://colab.research.google.com/assets/colab-badge.svg\" alt=\"Open In Colab\"/></a>"
      ]
    },
    {
      "cell_type": "markdown",
      "source": [
        "# Install, Import, Input"
      ],
      "metadata": {
        "id": "3ubgpmWX0kIW"
      }
    },
    {
      "cell_type": "code",
      "source": [
        "import torch"
      ],
      "metadata": {
        "id": "2W2HH-CB0tzU"
      },
      "execution_count": 15,
      "outputs": []
    },
    {
      "cell_type": "markdown",
      "source": [
        "## Torchsummary"
      ],
      "metadata": {
        "id": "DSPmLgXP0pxI"
      }
    },
    {
      "cell_type": "code",
      "source": [
        "!pip install torch-summary==1.4.5"
      ],
      "metadata": {
        "colab": {
          "base_uri": "https://localhost:8080/"
        },
        "id": "YBc5iTQutZ2c",
        "outputId": "9cea871e-bc77-4567-ed09-2dcc87cc1e29"
      },
      "execution_count": 16,
      "outputs": [
        {
          "output_type": "stream",
          "name": "stdout",
          "text": [
            "Looking in indexes: https://pypi.org/simple, https://us-python.pkg.dev/colab-wheels/public/simple/\n",
            "Requirement already satisfied: torch-summary==1.4.5 in /usr/local/lib/python3.7/dist-packages (1.4.5)\n"
          ]
        }
      ]
    },
    {
      "cell_type": "code",
      "execution_count": 17,
      "metadata": {
        "id": "o3mPf-6LsvgN"
      },
      "outputs": [],
      "source": [
        "from torchsummary import summary"
      ]
    },
    {
      "cell_type": "code",
      "source": [
        "QUIET_VERBOSE = 0  # as in torchsummary.summary"
      ],
      "metadata": {
        "id": "dYBh1LPnurE1"
      },
      "execution_count": 18,
      "outputs": []
    },
    {
      "cell_type": "code",
      "source": [
        "def print_layers_by_index(modelstatistics, from_i, to_i, show_input_size = True):\n",
        "\n",
        "    if show_input_size:\n",
        "        print('Input size:', modelstatistics.input_size)\n",
        "\n",
        "    # header\n",
        "    header_str_list = str(modelstatistics).split('\\n')[:3]\n",
        "    print('\\n'.join(header_str_list))\n",
        "\n",
        "    # the layers\n",
        "    layer_str_list  = modelstatistics.layers_to_str().split('\\n')\n",
        "\n",
        "    if from_i != 0:\n",
        "        print('...')\n",
        "\n",
        "    print('\\n'.join(layer_str_list[from_i:to_i]))\n",
        "\n",
        "    if to_i != -1:\n",
        "        print('...')"
      ],
      "metadata": {
        "id": "WAYOk5IC0sPC"
      },
      "execution_count": 19,
      "outputs": []
    },
    {
      "cell_type": "markdown",
      "source": [
        "## Our team's code"
      ],
      "metadata": {
        "id": "79tLup_Xs5aV"
      }
    },
    {
      "cell_type": "code",
      "source": [
        "# !rm -r /content/csgy6953_DeepLearning_Midterm/\n",
        "\n",
        "# !git clone -b main \"https://github.com/ab7289-tandon-nyu/csgy6953_DeepLearning_Midterm.git\"\n",
        "\n",
        "# !cp -r /content/csgy6953_DeepLearning_Midterm/src/ ."
      ],
      "metadata": {
        "id": "aeOZdLbk3yAQ"
      },
      "execution_count": 20,
      "outputs": []
    },
    {
      "cell_type": "code",
      "source": [
        "!pip install -U \"git+https://github.com/ab7289-tandon-nyu/csgy6953_DeepLearning_Midterm.git\""
      ],
      "metadata": {
        "colab": {
          "base_uri": "https://localhost:8080/"
        },
        "id": "TmqdVBles7mu",
        "outputId": "c1d4e7f1-80ea-441b-c97f-48c0a8d472ea"
      },
      "execution_count": 21,
      "outputs": [
        {
          "output_type": "stream",
          "name": "stdout",
          "text": [
            "Looking in indexes: https://pypi.org/simple, https://us-python.pkg.dev/colab-wheels/public/simple/\n",
            "Collecting git+https://github.com/ab7289-tandon-nyu/csgy6953_DeepLearning_Midterm.git\n",
            "  Cloning https://github.com/ab7289-tandon-nyu/csgy6953_DeepLearning_Midterm.git to /tmp/pip-req-build-ztkm5ng_\n",
            "  Running command git clone -q https://github.com/ab7289-tandon-nyu/csgy6953_DeepLearning_Midterm.git /tmp/pip-req-build-ztkm5ng_\n",
            "  Installing build dependencies ... \u001b[?25l\u001b[?25hdone\n",
            "  Getting requirements to build wheel ... \u001b[?25l\u001b[?25hdone\n",
            "    Preparing wheel metadata ... \u001b[?25l\u001b[?25hdone\n",
            "Requirement already satisfied: torch-summary in /usr/local/lib/python3.7/dist-packages (from ResNetSrc==0.0.1.dev0) (1.4.5)\n",
            "Requirement already satisfied: torch in /usr/local/lib/python3.7/dist-packages (from ResNetSrc==0.0.1.dev0) (1.12.1+cu113)\n",
            "Requirement already satisfied: jupyter in /usr/local/lib/python3.7/dist-packages (from ResNetSrc==0.0.1.dev0) (1.0.0)\n",
            "Requirement already satisfied: torchvision in /usr/local/lib/python3.7/dist-packages (from ResNetSrc==0.0.1.dev0) (0.13.1+cu113)\n",
            "Requirement already satisfied: matplotlib in /usr/local/lib/python3.7/dist-packages (from ResNetSrc==0.0.1.dev0) (3.2.2)\n",
            "Requirement already satisfied: notebook in /usr/local/lib/python3.7/dist-packages (from ResNetSrc==0.0.1.dev0) (5.7.16)\n",
            "Requirement already satisfied: qtconsole in /usr/local/lib/python3.7/dist-packages (from jupyter->ResNetSrc==0.0.1.dev0) (5.4.0)\n",
            "Requirement already satisfied: ipywidgets in /usr/local/lib/python3.7/dist-packages (from jupyter->ResNetSrc==0.0.1.dev0) (7.7.1)\n",
            "Requirement already satisfied: ipykernel in /usr/local/lib/python3.7/dist-packages (from jupyter->ResNetSrc==0.0.1.dev0) (5.3.4)\n",
            "Requirement already satisfied: nbconvert in /usr/local/lib/python3.7/dist-packages (from jupyter->ResNetSrc==0.0.1.dev0) (5.6.1)\n",
            "Requirement already satisfied: jupyter-console in /usr/local/lib/python3.7/dist-packages (from jupyter->ResNetSrc==0.0.1.dev0) (6.1.0)\n",
            "Requirement already satisfied: traitlets>=4.1.0 in /usr/local/lib/python3.7/dist-packages (from ipykernel->jupyter->ResNetSrc==0.0.1.dev0) (5.1.1)\n",
            "Requirement already satisfied: tornado>=4.2 in /usr/local/lib/python3.7/dist-packages (from ipykernel->jupyter->ResNetSrc==0.0.1.dev0) (6.0.4)\n",
            "Requirement already satisfied: jupyter-client in /usr/local/lib/python3.7/dist-packages (from ipykernel->jupyter->ResNetSrc==0.0.1.dev0) (6.1.12)\n",
            "Requirement already satisfied: ipython>=5.0.0 in /usr/local/lib/python3.7/dist-packages (from ipykernel->jupyter->ResNetSrc==0.0.1.dev0) (7.9.0)\n",
            "Requirement already satisfied: setuptools>=18.5 in /usr/local/lib/python3.7/dist-packages (from ipython>=5.0.0->ipykernel->jupyter->ResNetSrc==0.0.1.dev0) (57.4.0)\n",
            "Requirement already satisfied: jedi>=0.10 in /usr/local/lib/python3.7/dist-packages (from ipython>=5.0.0->ipykernel->jupyter->ResNetSrc==0.0.1.dev0) (0.18.1)\n",
            "Requirement already satisfied: backcall in /usr/local/lib/python3.7/dist-packages (from ipython>=5.0.0->ipykernel->jupyter->ResNetSrc==0.0.1.dev0) (0.2.0)\n",
            "Requirement already satisfied: pygments in /usr/local/lib/python3.7/dist-packages (from ipython>=5.0.0->ipykernel->jupyter->ResNetSrc==0.0.1.dev0) (2.6.1)\n",
            "Requirement already satisfied: pickleshare in /usr/local/lib/python3.7/dist-packages (from ipython>=5.0.0->ipykernel->jupyter->ResNetSrc==0.0.1.dev0) (0.7.5)\n",
            "Requirement already satisfied: decorator in /usr/local/lib/python3.7/dist-packages (from ipython>=5.0.0->ipykernel->jupyter->ResNetSrc==0.0.1.dev0) (4.4.2)\n",
            "Requirement already satisfied: prompt-toolkit<2.1.0,>=2.0.0 in /usr/local/lib/python3.7/dist-packages (from ipython>=5.0.0->ipykernel->jupyter->ResNetSrc==0.0.1.dev0) (2.0.10)\n",
            "Requirement already satisfied: pexpect in /usr/local/lib/python3.7/dist-packages (from ipython>=5.0.0->ipykernel->jupyter->ResNetSrc==0.0.1.dev0) (4.8.0)\n",
            "Requirement already satisfied: parso<0.9.0,>=0.8.0 in /usr/local/lib/python3.7/dist-packages (from jedi>=0.10->ipython>=5.0.0->ipykernel->jupyter->ResNetSrc==0.0.1.dev0) (0.8.3)\n",
            "Requirement already satisfied: six>=1.9.0 in /usr/local/lib/python3.7/dist-packages (from prompt-toolkit<2.1.0,>=2.0.0->ipython>=5.0.0->ipykernel->jupyter->ResNetSrc==0.0.1.dev0) (1.15.0)\n",
            "Requirement already satisfied: wcwidth in /usr/local/lib/python3.7/dist-packages (from prompt-toolkit<2.1.0,>=2.0.0->ipython>=5.0.0->ipykernel->jupyter->ResNetSrc==0.0.1.dev0) (0.2.5)\n",
            "Requirement already satisfied: widgetsnbextension~=3.6.0 in /usr/local/lib/python3.7/dist-packages (from ipywidgets->jupyter->ResNetSrc==0.0.1.dev0) (3.6.1)\n",
            "Requirement already satisfied: ipython-genutils~=0.2.0 in /usr/local/lib/python3.7/dist-packages (from ipywidgets->jupyter->ResNetSrc==0.0.1.dev0) (0.2.0)\n",
            "Requirement already satisfied: jupyterlab-widgets>=1.0.0 in /usr/local/lib/python3.7/dist-packages (from ipywidgets->jupyter->ResNetSrc==0.0.1.dev0) (3.0.3)\n",
            "Requirement already satisfied: pyzmq>=17 in /usr/local/lib/python3.7/dist-packages (from notebook->ResNetSrc==0.0.1.dev0) (23.2.1)\n",
            "Requirement already satisfied: terminado>=0.8.1 in /usr/local/lib/python3.7/dist-packages (from notebook->ResNetSrc==0.0.1.dev0) (0.13.3)\n",
            "Requirement already satisfied: Send2Trash in /usr/local/lib/python3.7/dist-packages (from notebook->ResNetSrc==0.0.1.dev0) (1.8.0)\n",
            "Requirement already satisfied: jinja2<=3.0.0 in /usr/local/lib/python3.7/dist-packages (from notebook->ResNetSrc==0.0.1.dev0) (2.11.3)\n",
            "Requirement already satisfied: jupyter-core>=4.4.0 in /usr/local/lib/python3.7/dist-packages (from notebook->ResNetSrc==0.0.1.dev0) (4.11.2)\n",
            "Requirement already satisfied: nbformat in /usr/local/lib/python3.7/dist-packages (from notebook->ResNetSrc==0.0.1.dev0) (5.7.0)\n",
            "Requirement already satisfied: prometheus-client in /usr/local/lib/python3.7/dist-packages (from notebook->ResNetSrc==0.0.1.dev0) (0.15.0)\n",
            "Requirement already satisfied: MarkupSafe>=0.23 in /usr/local/lib/python3.7/dist-packages (from jinja2<=3.0.0->notebook->ResNetSrc==0.0.1.dev0) (2.0.1)\n",
            "Requirement already satisfied: python-dateutil>=2.1 in /usr/local/lib/python3.7/dist-packages (from jupyter-client->ipykernel->jupyter->ResNetSrc==0.0.1.dev0) (2.8.2)\n",
            "Requirement already satisfied: pandocfilters>=1.4.1 in /usr/local/lib/python3.7/dist-packages (from nbconvert->jupyter->ResNetSrc==0.0.1.dev0) (1.5.0)\n",
            "Requirement already satisfied: testpath in /usr/local/lib/python3.7/dist-packages (from nbconvert->jupyter->ResNetSrc==0.0.1.dev0) (0.6.0)\n",
            "Requirement already satisfied: defusedxml in /usr/local/lib/python3.7/dist-packages (from nbconvert->jupyter->ResNetSrc==0.0.1.dev0) (0.7.1)\n",
            "Requirement already satisfied: bleach in /usr/local/lib/python3.7/dist-packages (from nbconvert->jupyter->ResNetSrc==0.0.1.dev0) (5.0.1)\n",
            "Requirement already satisfied: mistune<2,>=0.8.1 in /usr/local/lib/python3.7/dist-packages (from nbconvert->jupyter->ResNetSrc==0.0.1.dev0) (0.8.4)\n",
            "Requirement already satisfied: entrypoints>=0.2.2 in /usr/local/lib/python3.7/dist-packages (from nbconvert->jupyter->ResNetSrc==0.0.1.dev0) (0.4)\n",
            "Requirement already satisfied: fastjsonschema in /usr/local/lib/python3.7/dist-packages (from nbformat->notebook->ResNetSrc==0.0.1.dev0) (2.16.2)\n",
            "Requirement already satisfied: jsonschema>=2.6 in /usr/local/lib/python3.7/dist-packages (from nbformat->notebook->ResNetSrc==0.0.1.dev0) (4.3.3)\n",
            "Requirement already satisfied: importlib-metadata>=3.6 in /usr/local/lib/python3.7/dist-packages (from nbformat->notebook->ResNetSrc==0.0.1.dev0) (4.13.0)\n",
            "Requirement already satisfied: zipp>=0.5 in /usr/local/lib/python3.7/dist-packages (from importlib-metadata>=3.6->nbformat->notebook->ResNetSrc==0.0.1.dev0) (3.10.0)\n",
            "Requirement already satisfied: typing-extensions>=3.6.4 in /usr/local/lib/python3.7/dist-packages (from importlib-metadata>=3.6->nbformat->notebook->ResNetSrc==0.0.1.dev0) (4.1.1)\n",
            "Requirement already satisfied: importlib-resources>=1.4.0 in /usr/local/lib/python3.7/dist-packages (from jsonschema>=2.6->nbformat->notebook->ResNetSrc==0.0.1.dev0) (5.10.0)\n",
            "Requirement already satisfied: attrs>=17.4.0 in /usr/local/lib/python3.7/dist-packages (from jsonschema>=2.6->nbformat->notebook->ResNetSrc==0.0.1.dev0) (22.1.0)\n",
            "Requirement already satisfied: pyrsistent!=0.17.0,!=0.17.1,!=0.17.2,>=0.14.0 in /usr/local/lib/python3.7/dist-packages (from jsonschema>=2.6->nbformat->notebook->ResNetSrc==0.0.1.dev0) (0.19.2)\n",
            "Requirement already satisfied: ptyprocess in /usr/local/lib/python3.7/dist-packages (from terminado>=0.8.1->notebook->ResNetSrc==0.0.1.dev0) (0.7.0)\n",
            "Requirement already satisfied: webencodings in /usr/local/lib/python3.7/dist-packages (from bleach->nbconvert->jupyter->ResNetSrc==0.0.1.dev0) (0.5.1)\n",
            "Requirement already satisfied: pyparsing!=2.0.4,!=2.1.2,!=2.1.6,>=2.0.1 in /usr/local/lib/python3.7/dist-packages (from matplotlib->ResNetSrc==0.0.1.dev0) (3.0.9)\n",
            "Requirement already satisfied: cycler>=0.10 in /usr/local/lib/python3.7/dist-packages (from matplotlib->ResNetSrc==0.0.1.dev0) (0.11.0)\n",
            "Requirement already satisfied: kiwisolver>=1.0.1 in /usr/local/lib/python3.7/dist-packages (from matplotlib->ResNetSrc==0.0.1.dev0) (1.4.4)\n",
            "Requirement already satisfied: numpy>=1.11 in /usr/local/lib/python3.7/dist-packages (from matplotlib->ResNetSrc==0.0.1.dev0) (1.21.6)\n",
            "Requirement already satisfied: qtpy>=2.0.1 in /usr/local/lib/python3.7/dist-packages (from qtconsole->jupyter->ResNetSrc==0.0.1.dev0) (2.3.0)\n",
            "Requirement already satisfied: packaging in /usr/local/lib/python3.7/dist-packages (from qtpy>=2.0.1->qtconsole->jupyter->ResNetSrc==0.0.1.dev0) (21.3)\n",
            "Requirement already satisfied: requests in /usr/local/lib/python3.7/dist-packages (from torchvision->ResNetSrc==0.0.1.dev0) (2.23.0)\n",
            "Requirement already satisfied: pillow!=8.3.*,>=5.3.0 in /usr/local/lib/python3.7/dist-packages (from torchvision->ResNetSrc==0.0.1.dev0) (7.1.2)\n",
            "Requirement already satisfied: certifi>=2017.4.17 in /usr/local/lib/python3.7/dist-packages (from requests->torchvision->ResNetSrc==0.0.1.dev0) (2022.9.24)\n",
            "Requirement already satisfied: idna<3,>=2.5 in /usr/local/lib/python3.7/dist-packages (from requests->torchvision->ResNetSrc==0.0.1.dev0) (2.10)\n",
            "Requirement already satisfied: chardet<4,>=3.0.2 in /usr/local/lib/python3.7/dist-packages (from requests->torchvision->ResNetSrc==0.0.1.dev0) (3.0.4)\n",
            "Requirement already satisfied: urllib3!=1.25.0,!=1.25.1,<1.26,>=1.21.1 in /usr/local/lib/python3.7/dist-packages (from requests->torchvision->ResNetSrc==0.0.1.dev0) (1.24.3)\n"
          ]
        }
      ]
    },
    {
      "cell_type": "code",
      "source": [],
      "metadata": {
        "id": "QVTBin-W32eN"
      },
      "execution_count": 21,
      "outputs": []
    },
    {
      "cell_type": "code",
      "source": [
        "from src.model import ResidualBlockType, ResNet, StemConfig"
      ],
      "metadata": {
        "id": "U7php5pK7ctZ"
      },
      "execution_count": 22,
      "outputs": []
    },
    {
      "cell_type": "markdown",
      "source": [
        "## Input"
      ],
      "metadata": {
        "id": "7P9MwNC10v5H"
      }
    },
    {
      "cell_type": "code",
      "source": [
        "cifar10_one_sample = torch.rand((   3, 32, 32)) # BATCH_SIZE, RGB, 32x32\n",
        "cifar10_one_batch  = torch.rand((4, 3, 32, 32)) #             RGB, 32x32"
      ],
      "metadata": {
        "id": "30yN9f9vuYNm"
      },
      "execution_count": 23,
      "outputs": []
    },
    {
      "cell_type": "markdown",
      "source": [
        "# Final Architecture\n",
        "Our final architecture <br>\n",
        "name on *wandb.ai*: `nish_49m_deep6_cyclic_lr_bottleneck_v2.pt`"
      ],
      "metadata": {
        "id": "A3AOhp_Qtjjw"
      }
    },
    {
      "cell_type": "code",
      "source": [
        "# 1. the net's stem\n",
        "stem_config = StemConfig(num_channels=64, kernel_size=5, stride=1, padding=2)\n",
        "\n",
        "# 2. the net's body                 blocks/layer   channels  dropout\n",
        "arch = [(ResidualBlockType.BASIC,        3,         64,      0.1),\n",
        "        (ResidualBlockType.BASIC,        5,        128,      0.1),\n",
        "        (ResidualBlockType.BOTTLENECK,  26,        256,      0.1),\n",
        "        (ResidualBlockType.BOTTLENECK,   5,        512,      0.1)]\n",
        "\n",
        "final_model = ResNet(arch, stem_config=stem_config, output_size=10, use_bias=False)"
      ],
      "metadata": {
        "id": "SSLMMZIOtjYo"
      },
      "execution_count": 24,
      "outputs": []
    },
    {
      "cell_type": "code",
      "source": [
        "one_output = final_model(cifar10_one_batch) # initialize in_channels in lazyconv2d\n",
        "final_model_modelstatistics = summary(final_model,  cifar10_one_sample.shape, verbose = QUIET_VERBOSE)"
      ],
      "metadata": {
        "id": "iG1g2ehGtjVY"
      },
      "execution_count": 25,
      "outputs": []
    },
    {
      "cell_type": "markdown",
      "source": [
        "Final architecture total parameters"
      ],
      "metadata": {
        "id": "8ZtsYdMl701H"
      }
    },
    {
      "cell_type": "code",
      "source": [
        "print('final_model ', f'{final_model_modelstatistics.total_params:,}')"
      ],
      "metadata": {
        "colab": {
          "base_uri": "https://localhost:8080/"
        },
        "outputId": "913864c5-1a4e-4472-eaf2-775f1758bc74",
        "id": "dw5xLSY4701I"
      },
      "execution_count": 26,
      "outputs": [
        {
          "output_type": "stream",
          "name": "stdout",
          "text": [
            "final_model  4,997,194\n"
          ]
        }
      ]
    },
    {
      "cell_type": "markdown",
      "source": [
        "Visualize final architecture"
      ],
      "metadata": {
        "id": "4yUSz0vY701I"
      }
    },
    {
      "cell_type": "code",
      "source": [
        "print_layers_by_index(final_model_modelstatistics, 0, -1)"
      ],
      "metadata": {
        "colab": {
          "base_uri": "https://localhost:8080/"
        },
        "outputId": "2f9c2ace-b678-4ccd-e79b-61b1da884ca5",
        "id": "SLFgRC8A701I"
      },
      "execution_count": 34,
      "outputs": [
        {
          "output_type": "stream",
          "name": "stdout",
          "text": [
            "Input size: [torch.Size([3, 32, 32])]\n",
            "===============================================================================================\n",
            "Layer (type:depth-idx)                        Output Shape              Param #\n",
            "===============================================================================================\n",
            "├─Sequential: 1-1                             [-1, 64, 32, 32]          --\n",
            "|    └─Conv2d: 2-1                            [-1, 64, 32, 32]          4,800\n",
            "|    └─BatchNorm2d: 2-2                       [-1, 64, 32, 32]          128\n",
            "|    └─ReLU: 2-3                              [-1, 64, 32, 32]          --\n",
            "├─Sequential: 1-2                             [-1, 512, 4, 4]           --\n",
            "|    └─Sequential: 2-4                        [-1, 64, 32, 32]          --\n",
            "|    |    └─ResidualBlock: 3-1                [-1, 64, 32, 32]          73,984\n",
            "|    |    └─ResidualBlock: 3-2                [-1, 64, 32, 32]          73,984\n",
            "|    |    └─ResidualBlock: 3-3                [-1, 64, 32, 32]          73,984\n",
            "|    └─Sequential: 2-5                        [-1, 128, 16, 16]         --\n",
            "|    |    └─ResidualBlock: 3-4                [-1, 128, 16, 16]         229,888\n",
            "|    |    └─ResidualBlock: 3-5                [-1, 128, 16, 16]         295,424\n",
            "|    |    └─ResidualBlock: 3-6                [-1, 128, 16, 16]         295,424\n",
            "|    |    └─ResidualBlock: 3-7                [-1, 128, 16, 16]         295,424\n",
            "|    |    └─ResidualBlock: 3-8                [-1, 128, 16, 16]         295,424\n",
            "|    └─Sequential: 2-6                        [-1, 256, 8, 8]           --\n",
            "|    |    └─BottleneckResidualBlock: 3-9      [-1, 256, 8, 8]           94,976\n",
            "|    |    └─BottleneckResidualBlock: 3-10     [-1, 256, 8, 8]           70,400\n",
            "|    |    └─BottleneckResidualBlock: 3-11     [-1, 256, 8, 8]           70,400\n",
            "|    |    └─BottleneckResidualBlock: 3-12     [-1, 256, 8, 8]           70,400\n",
            "|    |    └─BottleneckResidualBlock: 3-13     [-1, 256, 8, 8]           70,400\n",
            "|    |    └─BottleneckResidualBlock: 3-14     [-1, 256, 8, 8]           70,400\n",
            "|    |    └─BottleneckResidualBlock: 3-15     [-1, 256, 8, 8]           70,400\n",
            "|    |    └─BottleneckResidualBlock: 3-16     [-1, 256, 8, 8]           70,400\n",
            "|    |    └─BottleneckResidualBlock: 3-17     [-1, 256, 8, 8]           70,400\n",
            "|    |    └─BottleneckResidualBlock: 3-18     [-1, 256, 8, 8]           70,400\n",
            "|    |    └─BottleneckResidualBlock: 3-19     [-1, 256, 8, 8]           70,400\n",
            "|    |    └─BottleneckResidualBlock: 3-20     [-1, 256, 8, 8]           70,400\n",
            "|    |    └─BottleneckResidualBlock: 3-21     [-1, 256, 8, 8]           70,400\n",
            "|    |    └─BottleneckResidualBlock: 3-22     [-1, 256, 8, 8]           70,400\n",
            "|    |    └─BottleneckResidualBlock: 3-23     [-1, 256, 8, 8]           70,400\n",
            "|    |    └─BottleneckResidualBlock: 3-24     [-1, 256, 8, 8]           70,400\n",
            "|    |    └─BottleneckResidualBlock: 3-25     [-1, 256, 8, 8]           70,400\n",
            "|    |    └─BottleneckResidualBlock: 3-26     [-1, 256, 8, 8]           70,400\n",
            "|    |    └─BottleneckResidualBlock: 3-27     [-1, 256, 8, 8]           70,400\n",
            "|    |    └─BottleneckResidualBlock: 3-28     [-1, 256, 8, 8]           70,400\n",
            "|    |    └─BottleneckResidualBlock: 3-29     [-1, 256, 8, 8]           70,400\n",
            "|    |    └─BottleneckResidualBlock: 3-30     [-1, 256, 8, 8]           70,400\n",
            "|    |    └─BottleneckResidualBlock: 3-31     [-1, 256, 8, 8]           70,400\n",
            "|    |    └─BottleneckResidualBlock: 3-32     [-1, 256, 8, 8]           70,400\n",
            "|    |    └─BottleneckResidualBlock: 3-33     [-1, 256, 8, 8]           70,400\n",
            "|    |    └─BottleneckResidualBlock: 3-34     [-1, 256, 8, 8]           70,400\n",
            "|    └─Sequential: 2-7                        [-1, 512, 4, 4]           --\n",
            "|    |    └─BottleneckResidualBlock: 3-35     [-1, 512, 4, 4]           378,368\n",
            "|    |    └─BottleneckResidualBlock: 3-36     [-1, 512, 4, 4]           280,064\n",
            "|    |    └─BottleneckResidualBlock: 3-37     [-1, 512, 4, 4]           280,064\n",
            "|    |    └─BottleneckResidualBlock: 3-38     [-1, 512, 4, 4]           280,064\n",
            "|    |    └─BottleneckResidualBlock: 3-39     [-1, 512, 4, 4]           280,064\n",
            "├─Sequential: 1-3                             [-1, 10]                  --\n",
            "|    └─AdaptiveAvgPool2d: 2-8                 [-1, 512, 1, 1]           --\n",
            "|    └─Flatten: 2-9                           [-1, 512]                 --\n",
            "|    └─Linear: 2-10                           [-1, 10]                  5,130\n"
          ]
        }
      ]
    },
    {
      "cell_type": "markdown",
      "source": [
        "# Other Architectures\n",
        "Our other architectures"
      ],
      "metadata": {
        "id": "GtiMYJlltsLU"
      }
    },
    {
      "cell_type": "code",
      "source": [],
      "metadata": {
        "id": "PhK-hOpAtjRI"
      },
      "execution_count": 27,
      "outputs": []
    },
    {
      "cell_type": "code",
      "source": [],
      "metadata": {
        "id": "iv4lMb07tjME"
      },
      "execution_count": 27,
      "outputs": []
    },
    {
      "cell_type": "markdown",
      "source": [
        "# Notable Architectures\n",
        "Wellknown architectures based on published papers"
      ],
      "metadata": {
        "id": "5eCRR6AYtntw"
      }
    },
    {
      "cell_type": "code",
      "source": [
        "from torchvision.models import resnet18\n",
        "from torchvision.models import resnet34\n",
        "from torchvision.models import resnet50\n",
        "from torchvision.models import resnet101\n",
        "from torchvision.models import resnet152"
      ],
      "metadata": {
        "id": "T8hZiRvhuGNH"
      },
      "execution_count": 28,
      "outputs": []
    },
    {
      "cell_type": "code",
      "source": [
        "resnet18_model  = resnet18()\n",
        "resnet34_model  = resnet34()\n",
        "resnet50_model  = resnet50()\n",
        "resnet101_model = resnet101()\n",
        "resnet152_model = resnet152()"
      ],
      "metadata": {
        "id": "1F0nIk22tjE8"
      },
      "execution_count": 29,
      "outputs": []
    },
    {
      "cell_type": "code",
      "source": [
        "resnet18_modelstatistics  = summary(resnet18_model,  cifar10_one_sample.shape, verbose = QUIET_VERBOSE)\n",
        "resnet34_modelstatistics  = summary(resnet34_model,  cifar10_one_sample.shape, verbose = QUIET_VERBOSE)\n",
        "resnet50_modelstatistics  = summary(resnet50_model,  cifar10_one_sample.shape, verbose = QUIET_VERBOSE)\n",
        "resnet101_modelstatistics = summary(resnet101_model, cifar10_one_sample.shape, verbose = QUIET_VERBOSE)\n",
        "resnet152_modelstatistics = summary(resnet152_model, cifar10_one_sample.shape, verbose = QUIET_VERBOSE)"
      ],
      "metadata": {
        "id": "SWpXTA2buIIc"
      },
      "execution_count": 30,
      "outputs": []
    },
    {
      "cell_type": "markdown",
      "source": [
        "Total parameters:"
      ],
      "metadata": {
        "id": "v5_zTMS0w5kL"
      }
    },
    {
      "cell_type": "code",
      "source": [
        "print('resnet18 ', f'{resnet18_modelstatistics.total_params:,}')\n",
        "print('resnet34 ', f'{resnet34_modelstatistics.total_params:,}')\n",
        "print('resnet50 ', f'{resnet50_modelstatistics.total_params:,}')\n",
        "print('resnet101', f'{resnet101_modelstatistics.total_params:,}')\n",
        "print('resnet152', f'{resnet152_modelstatistics.total_params:,}')"
      ],
      "metadata": {
        "colab": {
          "base_uri": "https://localhost:8080/"
        },
        "id": "0SzQwNjxuI9z",
        "outputId": "98857eb9-f76f-4e82-ac30-d859e21d9b31"
      },
      "execution_count": 31,
      "outputs": [
        {
          "output_type": "stream",
          "name": "stdout",
          "text": [
            "resnet18  11,689,512\n",
            "resnet34  21,797,672\n",
            "resnet50  25,557,032\n",
            "resnet101 44,549,160\n",
            "resnet152 60,192,808\n"
          ]
        }
      ]
    },
    {
      "cell_type": "markdown",
      "source": [
        "ResNet18 architecture"
      ],
      "metadata": {
        "id": "vRAgXAoAxCLN"
      }
    },
    {
      "cell_type": "code",
      "source": [
        "print_layers_by_index(resnet18_modelstatistics, -20, -2)"
      ],
      "metadata": {
        "colab": {
          "base_uri": "https://localhost:8080/"
        },
        "id": "_UQ5t3iIzhUW",
        "outputId": "c89388c9-5258-474a-876b-d116fe67c31f"
      },
      "execution_count": 32,
      "outputs": [
        {
          "output_type": "stream",
          "name": "stdout",
          "text": [
            "Input size: [torch.Size([3, 32, 32])]\n",
            "==========================================================================================\n",
            "Layer (type:depth-idx)                   Output Shape              Param #\n",
            "==========================================================================================\n",
            "...\n",
            "|    |    └─ReLU: 3-38                   [-1, 256, 2, 2]           --\n",
            "├─Sequential: 1-8                        [-1, 512, 1, 1]           --\n",
            "|    └─BasicBlock: 2-7                   [-1, 512, 1, 1]           --\n",
            "|    |    └─Conv2d: 3-39                 [-1, 512, 1, 1]           1,179,648\n",
            "|    |    └─BatchNorm2d: 3-40            [-1, 512, 1, 1]           1,024\n",
            "|    |    └─ReLU: 3-41                   [-1, 512, 1, 1]           --\n",
            "|    |    └─Conv2d: 3-42                 [-1, 512, 1, 1]           2,359,296\n",
            "|    |    └─BatchNorm2d: 3-43            [-1, 512, 1, 1]           1,024\n",
            "|    |    └─Sequential: 3-44             [-1, 512, 1, 1]           132,096\n",
            "|    |    └─ReLU: 3-45                   [-1, 512, 1, 1]           --\n",
            "|    └─BasicBlock: 2-8                   [-1, 512, 1, 1]           --\n",
            "|    |    └─Conv2d: 3-46                 [-1, 512, 1, 1]           2,359,296\n",
            "|    |    └─BatchNorm2d: 3-47            [-1, 512, 1, 1]           1,024\n",
            "|    |    └─ReLU: 3-48                   [-1, 512, 1, 1]           --\n",
            "|    |    └─Conv2d: 3-49                 [-1, 512, 1, 1]           2,359,296\n",
            "|    |    └─BatchNorm2d: 3-50            [-1, 512, 1, 1]           1,024\n",
            "|    |    └─ReLU: 3-51                   [-1, 512, 1, 1]           --\n",
            "├─AdaptiveAvgPool2d: 1-9                 [-1, 512, 1, 1]           --\n",
            "...\n"
          ]
        }
      ]
    },
    {
      "cell_type": "code",
      "source": [],
      "metadata": {
        "id": "1Tu9RP0CxHCT"
      },
      "execution_count": 32,
      "outputs": []
    }
  ]
}